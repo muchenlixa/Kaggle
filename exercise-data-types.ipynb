{
 "cells": [
  {
   "cell_type": "markdown",
   "id": "cd4b6df5",
   "metadata": {
    "papermill": {
     "duration": 0.009181,
     "end_time": "2023-12-05T18:05:39.114645",
     "exception": false,
     "start_time": "2023-12-05T18:05:39.105464",
     "status": "completed"
    },
    "tags": []
   },
   "source": [
    "**This notebook is an exercise in the [Intro to Programming](https://www.kaggle.com/learn/intro-to-programming) course.  You can reference the tutorial at [this link](https://www.kaggle.com/alexisbcook/data-types).**\n",
    "\n",
    "---\n"
   ]
  },
  {
   "cell_type": "markdown",
   "id": "52ac4e23",
   "metadata": {
    "papermill": {
     "duration": 0.00832,
     "end_time": "2023-12-05T18:05:39.131921",
     "exception": false,
     "start_time": "2023-12-05T18:05:39.123601",
     "status": "completed"
    },
    "tags": []
   },
   "source": [
    "In the tutorial, you learned about four different data types: floats, integers, strings, and booleans.  In this exercise, you'll experiment with them.\n",
    "\n",
    "# Set up the notebook\n",
    "\n",
    "Run the next code cell without changes to set up the notebook."
   ]
  },
  {
   "cell_type": "code",
   "execution_count": 1,
   "id": "cd937226",
   "metadata": {
    "execution": {
     "iopub.execute_input": "2023-12-05T18:05:39.151977Z",
     "iopub.status.busy": "2023-12-05T18:05:39.150977Z",
     "iopub.status.idle": "2023-12-05T18:05:39.646076Z",
     "shell.execute_reply": "2023-12-05T18:05:39.644699Z"
    },
    "papermill": {
     "duration": 0.50808,
     "end_time": "2023-12-05T18:05:39.648666",
     "exception": false,
     "start_time": "2023-12-05T18:05:39.140586",
     "status": "completed"
    },
    "tags": []
   },
   "outputs": [
    {
     "name": "stdout",
     "output_type": "stream",
     "text": [
      "Setup complete.\n"
     ]
    }
   ],
   "source": [
    "# Set up the exercise\n",
    "from learntools.core import binder\n",
    "binder.bind(globals())\n",
    "from learntools.intro_to_programming.ex3 import *\n",
    "print('Setup complete.')"
   ]
  },
  {
   "cell_type": "markdown",
   "id": "8c3c2c7b",
   "metadata": {
    "papermill": {
     "duration": 0.008602,
     "end_time": "2023-12-05T18:05:39.666209",
     "exception": false,
     "start_time": "2023-12-05T18:05:39.657607",
     "status": "completed"
    },
    "tags": []
   },
   "source": [
    "# Question 1\n",
    "\n",
    "You have seen how to convert a float to an integer with the `int` function.  Try this out yourself by running the code cell below."
   ]
  },
  {
   "cell_type": "code",
   "execution_count": 2,
   "id": "27c4e168",
   "metadata": {
    "execution": {
     "iopub.execute_input": "2023-12-05T18:05:39.687401Z",
     "iopub.status.busy": "2023-12-05T18:05:39.686159Z",
     "iopub.status.idle": "2023-12-05T18:05:39.693136Z",
     "shell.execute_reply": "2023-12-05T18:05:39.691848Z"
    },
    "papermill": {
     "duration": 0.020619,
     "end_time": "2023-12-05T18:05:39.695795",
     "exception": false,
     "start_time": "2023-12-05T18:05:39.675176",
     "status": "completed"
    },
    "tags": []
   },
   "outputs": [
    {
     "name": "stdout",
     "output_type": "stream",
     "text": [
      "1.0\n",
      "<class 'float'>\n",
      "1\n",
      "<class 'int'>\n"
     ]
    }
   ],
   "source": [
    "# Define a float\n",
    "y = 1.\n",
    "print(y)\n",
    "print(type(y))\n",
    "\n",
    "# Convert float to integer with the int function\n",
    "z = int(y)\n",
    "print(z)\n",
    "print(type(z))"
   ]
  },
  {
   "cell_type": "markdown",
   "id": "92ac3f42",
   "metadata": {
    "papermill": {
     "duration": 0.008349,
     "end_time": "2023-12-05T18:05:39.712998",
     "exception": false,
     "start_time": "2023-12-05T18:05:39.704649",
     "status": "completed"
    },
    "tags": []
   },
   "source": [
    "In this case, the float you are using has no numbers after the decimal.  \n",
    "- But what happens when you try to convert a float with a fractional part to an integer?  \n",
    "- How does the outcome of the `int` function change for positive and negative numbers?\n",
    "\n",
    "Use the next code cell to investigate and answer these questions.  Feel free to add or remove any lines of code -- it is your workspace!"
   ]
  },
  {
   "cell_type": "code",
   "execution_count": 3,
   "id": "bd46ae5d",
   "metadata": {
    "execution": {
     "iopub.execute_input": "2023-12-05T18:05:39.732853Z",
     "iopub.status.busy": "2023-12-05T18:05:39.732417Z",
     "iopub.status.idle": "2023-12-05T18:05:39.739668Z",
     "shell.execute_reply": "2023-12-05T18:05:39.738305Z"
    },
    "papermill": {
     "duration": 0.020589,
     "end_time": "2023-12-05T18:05:39.742390",
     "exception": false,
     "start_time": "2023-12-05T18:05:39.721801",
     "status": "completed"
    },
    "tags": []
   },
   "outputs": [
    {
     "name": "stdout",
     "output_type": "stream",
     "text": [
      "1\n",
      "1\n",
      "-3\n",
      "-2\n"
     ]
    }
   ],
   "source": [
    "# Uncomment and run this code to get started!\n",
    "print(int(1.2321))\n",
    "print(int(1.747))\n",
    "print(int(-3.94535))\n",
    "print(int(-2.19774))"
   ]
  },
  {
   "cell_type": "markdown",
   "id": "e0b18a7d",
   "metadata": {
    "papermill": {
     "duration": 0.008588,
     "end_time": "2023-12-05T18:05:39.760460",
     "exception": false,
     "start_time": "2023-12-05T18:05:39.751872",
     "status": "completed"
    },
    "tags": []
   },
   "source": [
    "Once you have an answer, run the code cell below to see the solution.  Viewing the solution will give you credit for answering the problem."
   ]
  },
  {
   "cell_type": "code",
   "execution_count": 4,
   "id": "70deeff0",
   "metadata": {
    "execution": {
     "iopub.execute_input": "2023-12-05T18:05:39.780527Z",
     "iopub.status.busy": "2023-12-05T18:05:39.779957Z",
     "iopub.status.idle": "2023-12-05T18:05:39.790972Z",
     "shell.execute_reply": "2023-12-05T18:05:39.789667Z"
    },
    "papermill": {
     "duration": 0.023732,
     "end_time": "2023-12-05T18:05:39.793547",
     "exception": false,
     "start_time": "2023-12-05T18:05:39.769815",
     "status": "completed"
    },
    "tags": []
   },
   "outputs": [
    {
     "data": {
      "application/javascript": [
       "parent.postMessage({\"jupyterEvent\": \"custom.exercise_interaction\", \"data\": {\"outcomeType\": 1, \"valueTowardsCompletion\": 0.2, \"interactionType\": 1, \"questionType\": 4, \"questionId\": \"1_FloatToInt\", \"learnToolsVersion\": \"0.3.4\", \"failureMessage\": \"\", \"exceptionClass\": \"\", \"trace\": \"\"}}, \"*\")"
      ],
      "text/plain": [
       "<IPython.core.display.Javascript object>"
      ]
     },
     "metadata": {},
     "output_type": "display_data"
    },
    {
     "data": {
      "text/markdown": [
       "<span style=\"color:#33cc33\">Correct:</span> \n",
       "\n",
       "Negative floats are always rounded UP to the closest integer (for instance, both -1.1 and -1.9 are rounded up to -1). Positive floats are always rounded DOWN to the closest integer (for instance, 2.1 and 2.9 are rounded down to 2)."
      ],
      "text/plain": [
       "Correct: \n",
       "\n",
       "Negative floats are always rounded UP to the closest integer (for instance, both -1.1 and -1.9 are rounded up to -1). Positive floats are always rounded DOWN to the closest integer (for instance, 2.1 and 2.9 are rounded down to 2)."
      ]
     },
     "metadata": {},
     "output_type": "display_data"
    }
   ],
   "source": [
    "# Check your answer (Run this code cell to receive credit!)\n",
    "q1.check()"
   ]
  },
  {
   "cell_type": "markdown",
   "id": "b9ea412f",
   "metadata": {
    "papermill": {
     "duration": 0.00967,
     "end_time": "2023-12-05T18:05:39.812965",
     "exception": false,
     "start_time": "2023-12-05T18:05:39.803295",
     "status": "completed"
    },
    "tags": []
   },
   "source": [
    "# Question 2\n",
    "\n",
    "In the tutorial, you learned about booleans (which can take a value of `True` or `False`), in addition to integers, floats, and strings.  For this question, your goal is to determine what happens when you multiply a boolean by any of these data types.  Specifically, \n",
    "- What happens when you multiply an integer or float by `True`?  What happens when you multiply them by `False`?  How does the answer change if the numbers are positive or negative?\n",
    "- What happens when you multiply a string by `True`?  By `False`?\n",
    "\n",
    "Use the next code cell for your investigation. "
   ]
  },
  {
   "cell_type": "code",
   "execution_count": 5,
   "id": "606c1bdd",
   "metadata": {
    "execution": {
     "iopub.execute_input": "2023-12-05T18:05:39.835348Z",
     "iopub.status.busy": "2023-12-05T18:05:39.834626Z",
     "iopub.status.idle": "2023-12-05T18:05:39.840920Z",
     "shell.execute_reply": "2023-12-05T18:05:39.839700Z"
    },
    "papermill": {
     "duration": 0.019665,
     "end_time": "2023-12-05T18:05:39.843528",
     "exception": false,
     "start_time": "2023-12-05T18:05:39.823863",
     "status": "completed"
    },
    "tags": []
   },
   "outputs": [
    {
     "name": "stdout",
     "output_type": "stream",
     "text": [
      "3\n",
      "-3.1\n",
      "<class 'str'>\n",
      "0\n"
     ]
    }
   ],
   "source": [
    "# Uncomment and run this code to get started!\n",
    "print(3 * True)\n",
    "print(-3.1 * True)\n",
    "print(type(\"abc\" * False))\n",
    "print(len(\"abc\" * False))"
   ]
  },
  {
   "cell_type": "markdown",
   "id": "c03439f1",
   "metadata": {
    "papermill": {
     "duration": 0.008915,
     "end_time": "2023-12-05T18:05:39.862543",
     "exception": false,
     "start_time": "2023-12-05T18:05:39.853628",
     "status": "completed"
    },
    "tags": []
   },
   "source": [
    "Once you have an answer, run the code cell below to see the solution.  Viewing the solution will give you credit for answering the problem."
   ]
  },
  {
   "cell_type": "code",
   "execution_count": 6,
   "id": "d3996870",
   "metadata": {
    "execution": {
     "iopub.execute_input": "2023-12-05T18:05:39.883073Z",
     "iopub.status.busy": "2023-12-05T18:05:39.882618Z",
     "iopub.status.idle": "2023-12-05T18:05:39.893148Z",
     "shell.execute_reply": "2023-12-05T18:05:39.892153Z"
    },
    "papermill": {
     "duration": 0.023526,
     "end_time": "2023-12-05T18:05:39.895357",
     "exception": false,
     "start_time": "2023-12-05T18:05:39.871831",
     "status": "completed"
    },
    "tags": []
   },
   "outputs": [
    {
     "data": {
      "application/javascript": [
       "parent.postMessage({\"jupyterEvent\": \"custom.exercise_interaction\", \"data\": {\"outcomeType\": 1, \"valueTowardsCompletion\": 0.2, \"interactionType\": 1, \"questionType\": 4, \"questionId\": \"2_MultiplyBooleans\", \"learnToolsVersion\": \"0.3.4\", \"failureMessage\": \"\", \"exceptionClass\": \"\", \"trace\": \"\"}}, \"*\")"
      ],
      "text/plain": [
       "<IPython.core.display.Javascript object>"
      ]
     },
     "metadata": {},
     "output_type": "display_data"
    },
    {
     "data": {
      "text/markdown": [
       "<span style=\"color:#33cc33\">Correct:</span> \n",
       "\n",
       "When you multiple an integer or float by a boolean with value `True`, it just returns that same integer or float (and is equivalent to multiplying by 1).  If you multiply an integer or float by a boolean with value `False`, it always returns 0.  This is true for both positive and negative numbers.  If you multiply a string by a boolean with value `True`, it just returns that same string.  And if you multiply a string by a boolean with value `False`, it returns an empty string (or a string with length zero)."
      ],
      "text/plain": [
       "Correct: \n",
       "\n",
       "When you multiple an integer or float by a boolean with value `True`, it just returns that same integer or float (and is equivalent to multiplying by 1).  If you multiply an integer or float by a boolean with value `False`, it always returns 0.  This is true for both positive and negative numbers.  If you multiply a string by a boolean with value `True`, it just returns that same string.  And if you multiply a string by a boolean with value `False`, it returns an empty string (or a string with length zero)."
      ]
     },
     "metadata": {},
     "output_type": "display_data"
    }
   ],
   "source": [
    "# Check your answer (Run this code cell to receive credit!)\n",
    "q2.check()"
   ]
  },
  {
   "cell_type": "markdown",
   "id": "441abb05",
   "metadata": {
    "papermill": {
     "duration": 0.009738,
     "end_time": "2023-12-05T18:05:39.915206",
     "exception": false,
     "start_time": "2023-12-05T18:05:39.905468",
     "status": "completed"
    },
    "tags": []
   },
   "source": [
    "# Question 3\n",
    "\n",
    "In this question, you will build off your work from the previous exercise to write a function that estimates the value of a house.\n",
    "\n",
    "Use the next code cell to create a function `get_expected_cost` that takes as input three variables:\n",
    "- `beds` - number of bedrooms (data type float)\n",
    "- `baths` - number of bathrooms (data type float)\n",
    "- `has_basement` - whether or not the house has a basement (data type boolean)\n",
    "\n",
    "It should return the expected cost of a house with those characteristics. Assume that:\n",
    "- the expected cost for a house with 0 bedrooms and 0 bathrooms, and no basement is 80000, \n",
    "- each bedroom adds 30000 to the expected cost,\n",
    "- each bathroom adds 10000 to the expected cost, and\n",
    "- a basement adds 40000 to the expected cost.\n",
    "\n",
    "For instance,\n",
    "- a house with 1 bedroom, 1 bathroom, and no basement has an expected cost of 80000 + 30000 + 10000 = 120000.  This value will be calculated with `get_expected_cost(1, 1, False)`.\n",
    "- a house with 2 bedrooms, 1 bathroom, and a basement has an expected cost of 80000 + 2*30000 + 10000 + 40000 = 190000.  This value will be calculated with `get_expected_cost(2, 1, True)`.\n",
    "\n",
    "Remember you can always get a hint by uncommenting `q3.hint()` in the code cell following the next!"
   ]
  },
  {
   "cell_type": "code",
   "execution_count": 7,
   "id": "3147e051",
   "metadata": {
    "execution": {
     "iopub.execute_input": "2023-12-05T18:05:39.937446Z",
     "iopub.status.busy": "2023-12-05T18:05:39.936973Z",
     "iopub.status.idle": "2023-12-05T18:05:39.946877Z",
     "shell.execute_reply": "2023-12-05T18:05:39.945933Z"
    },
    "papermill": {
     "duration": 0.023713,
     "end_time": "2023-12-05T18:05:39.949081",
     "exception": false,
     "start_time": "2023-12-05T18:05:39.925368",
     "status": "completed"
    },
    "tags": []
   },
   "outputs": [
    {
     "data": {
      "application/javascript": [
       "parent.postMessage({\"jupyterEvent\": \"custom.exercise_interaction\", \"data\": {\"outcomeType\": 1, \"valueTowardsCompletion\": 0.2, \"interactionType\": 1, \"questionType\": 2, \"questionId\": \"3_EstimateHouseValueBool\", \"learnToolsVersion\": \"0.3.4\", \"failureMessage\": \"\", \"exceptionClass\": \"\", \"trace\": \"\"}}, \"*\")"
      ],
      "text/plain": [
       "<IPython.core.display.Javascript object>"
      ]
     },
     "metadata": {},
     "output_type": "display_data"
    },
    {
     "data": {
      "text/markdown": [
       "<span style=\"color:#33cc33\">Correct</span>"
      ],
      "text/plain": [
       "Correct"
      ]
     },
     "metadata": {},
     "output_type": "display_data"
    }
   ],
   "source": [
    "# TODO: Complete the function\n",
    "def get_expected_cost(beds, baths, has_basement):\n",
    "    value = 80000 + beds * 30000 + baths * 10000 + has_basement * 40000\n",
    "    return value\n",
    "\n",
    "# Check your answer \n",
    "q3.check()"
   ]
  },
  {
   "cell_type": "code",
   "execution_count": 8,
   "id": "83364da1",
   "metadata": {
    "execution": {
     "iopub.execute_input": "2023-12-05T18:05:39.971004Z",
     "iopub.status.busy": "2023-12-05T18:05:39.970575Z",
     "iopub.status.idle": "2023-12-05T18:05:39.975591Z",
     "shell.execute_reply": "2023-12-05T18:05:39.974512Z"
    },
    "papermill": {
     "duration": 0.018708,
     "end_time": "2023-12-05T18:05:39.977913",
     "exception": false,
     "start_time": "2023-12-05T18:05:39.959205",
     "status": "completed"
    },
    "tags": []
   },
   "outputs": [],
   "source": [
    "# Uncomment to see a hint\n",
    "#q3.hint()\n",
    "\n",
    "# Uncomment to view the solution\n",
    "#q3.solution()"
   ]
  },
  {
   "cell_type": "markdown",
   "id": "73b52dc8",
   "metadata": {
    "papermill": {
     "duration": 0.009667,
     "end_time": "2023-12-05T18:05:39.998223",
     "exception": false,
     "start_time": "2023-12-05T18:05:39.988556",
     "status": "completed"
    },
    "tags": []
   },
   "source": [
    "# Question 4\n",
    "\n",
    "We'll continue our study of boolean arithmetic.  For this question, your task is to provide a description of what happpens when you add booleans. \n",
    "\n",
    "Use the next code cell for your investigation.  Feel free to add or remove any lines of code - use it as your workspace!"
   ]
  },
  {
   "cell_type": "code",
   "execution_count": 9,
   "id": "f5d761db",
   "metadata": {
    "execution": {
     "iopub.execute_input": "2023-12-05T18:05:40.021072Z",
     "iopub.status.busy": "2023-12-05T18:05:40.020378Z",
     "iopub.status.idle": "2023-12-05T18:05:40.027359Z",
     "shell.execute_reply": "2023-12-05T18:05:40.025945Z"
    },
    "papermill": {
     "duration": 0.021175,
     "end_time": "2023-12-05T18:05:40.030017",
     "exception": false,
     "start_time": "2023-12-05T18:05:40.008842",
     "status": "completed"
    },
    "tags": []
   },
   "outputs": [
    {
     "name": "stdout",
     "output_type": "stream",
     "text": [
      "0\n",
      "1\n",
      "1\n",
      "2\n",
      "3\n"
     ]
    }
   ],
   "source": [
    "print(False + False)\n",
    "print(True + False)\n",
    "print(False + True)\n",
    "print(True + True)\n",
    "print(False + True + True + True)"
   ]
  },
  {
   "cell_type": "markdown",
   "id": "6bf3aec9",
   "metadata": {
    "papermill": {
     "duration": 0.009712,
     "end_time": "2023-12-05T18:05:40.050047",
     "exception": false,
     "start_time": "2023-12-05T18:05:40.040335",
     "status": "completed"
    },
    "tags": []
   },
   "source": [
    "Once you have an answer, run the code cell below to see the solution.  Viewing the solution will give you credit for answering the problem."
   ]
  },
  {
   "cell_type": "code",
   "execution_count": 10,
   "id": "6e664619",
   "metadata": {
    "execution": {
     "iopub.execute_input": "2023-12-05T18:05:40.073162Z",
     "iopub.status.busy": "2023-12-05T18:05:40.072753Z",
     "iopub.status.idle": "2023-12-05T18:05:40.081767Z",
     "shell.execute_reply": "2023-12-05T18:05:40.080676Z"
    },
    "papermill": {
     "duration": 0.023301,
     "end_time": "2023-12-05T18:05:40.084112",
     "exception": false,
     "start_time": "2023-12-05T18:05:40.060811",
     "status": "completed"
    },
    "tags": []
   },
   "outputs": [
    {
     "data": {
      "application/javascript": [
       "parent.postMessage({\"jupyterEvent\": \"custom.exercise_interaction\", \"data\": {\"outcomeType\": 1, \"valueTowardsCompletion\": 0.2, \"interactionType\": 1, \"questionType\": 4, \"questionId\": \"4_AddingBooleans\", \"learnToolsVersion\": \"0.3.4\", \"failureMessage\": \"\", \"exceptionClass\": \"\", \"trace\": \"\"}}, \"*\")"
      ],
      "text/plain": [
       "<IPython.core.display.Javascript object>"
      ]
     },
     "metadata": {},
     "output_type": "display_data"
    },
    {
     "data": {
      "text/markdown": [
       "<span style=\"color:#33cc33\">Correct:</span> \n",
       "\n",
       "When you add booleans, adding `False` is equivalent to adding 0, and adding `True` is equivalent to adding 1."
      ],
      "text/plain": [
       "Correct: \n",
       "\n",
       "When you add booleans, adding `False` is equivalent to adding 0, and adding `True` is equivalent to adding 1."
      ]
     },
     "metadata": {},
     "output_type": "display_data"
    }
   ],
   "source": [
    "# Check your answer (Run this code cell to receive credit!)\n",
    "q4.check()"
   ]
  },
  {
   "cell_type": "markdown",
   "id": "799eaf3c",
   "metadata": {
    "papermill": {
     "duration": 0.01013,
     "end_time": "2023-12-05T18:05:40.104736",
     "exception": false,
     "start_time": "2023-12-05T18:05:40.094606",
     "status": "completed"
    },
    "tags": []
   },
   "source": [
    "# 🌶️ Question 5\n",
    "\n",
    "You own an online shop where you sell rings with custom engravings.  You offer both gold plated and solid gold rings.\n",
    "- Gold plated rings have a base cost of \\\\$50, and you charge \\\\$7 per engraved unit.  \n",
    "- Solid gold rings have a base cost of \\\\$100, and you charge \\\\$10 per engraved unit.\n",
    "- Spaces and punctuation are counted as engraved units.\n",
    "\n",
    "Write a function `cost_of_project()` that takes two arguments:\n",
    "- `engraving` - a Python string with the text of the engraving\n",
    "- `solid_gold` - a Boolean that indicates whether the ring is solid gold\n",
    "\n",
    "It should return the cost of the project.  This question should be fairly challenging, and you may need a hint."
   ]
  },
  {
   "cell_type": "code",
   "execution_count": 11,
   "id": "06c6a5db",
   "metadata": {
    "execution": {
     "iopub.execute_input": "2023-12-05T18:05:40.127065Z",
     "iopub.status.busy": "2023-12-05T18:05:40.126635Z",
     "iopub.status.idle": "2023-12-05T18:05:40.136055Z",
     "shell.execute_reply": "2023-12-05T18:05:40.135287Z"
    },
    "papermill": {
     "duration": 0.023183,
     "end_time": "2023-12-05T18:05:40.138188",
     "exception": false,
     "start_time": "2023-12-05T18:05:40.115005",
     "status": "completed"
    },
    "tags": []
   },
   "outputs": [
    {
     "data": {
      "application/javascript": [
       "parent.postMessage({\"jupyterEvent\": \"custom.exercise_interaction\", \"data\": {\"outcomeType\": 1, \"valueTowardsCompletion\": 0.2, \"interactionType\": 1, \"questionType\": 2, \"questionId\": \"5_CustomEngravings\", \"learnToolsVersion\": \"0.3.4\", \"failureMessage\": \"\", \"exceptionClass\": \"\", \"trace\": \"\"}}, \"*\")"
      ],
      "text/plain": [
       "<IPython.core.display.Javascript object>"
      ]
     },
     "metadata": {},
     "output_type": "display_data"
    },
    {
     "data": {
      "text/markdown": [
       "<span style=\"color:#33cc33\">Correct</span>"
      ],
      "text/plain": [
       "Correct"
      ]
     },
     "metadata": {},
     "output_type": "display_data"
    }
   ],
   "source": [
    "def cost_of_project(engraving, solid_gold):\n",
    "    cost = (len(engraving) * 10 + 100) * solid_gold + (len(engraving) * 7 + 50) * (not solid_gold)\n",
    "    return cost\n",
    "\n",
    "# Check your answer\n",
    "q5.check()"
   ]
  },
  {
   "cell_type": "code",
   "execution_count": 12,
   "id": "619cc3f4",
   "metadata": {
    "execution": {
     "iopub.execute_input": "2023-12-05T18:05:40.161645Z",
     "iopub.status.busy": "2023-12-05T18:05:40.161208Z",
     "iopub.status.idle": "2023-12-05T18:05:40.174516Z",
     "shell.execute_reply": "2023-12-05T18:05:40.173470Z"
    },
    "papermill": {
     "duration": 0.027809,
     "end_time": "2023-12-05T18:05:40.176875",
     "exception": false,
     "start_time": "2023-12-05T18:05:40.149066",
     "status": "completed"
    },
    "tags": []
   },
   "outputs": [
    {
     "data": {
      "application/javascript": [
       "parent.postMessage({\"jupyterEvent\": \"custom.exercise_interaction\", \"data\": {\"interactionType\": 2, \"questionType\": 2, \"questionId\": \"5_CustomEngravings\", \"learnToolsVersion\": \"0.3.4\", \"valueTowardsCompletion\": 0.0, \"failureMessage\": \"\", \"exceptionClass\": \"\", \"trace\": \"\", \"outcomeType\": 4}}, \"*\")"
      ],
      "text/plain": [
       "<IPython.core.display.Javascript object>"
      ]
     },
     "metadata": {},
     "output_type": "display_data"
    },
    {
     "data": {
      "text/markdown": [
       "<span style=\"color:#3366cc\">Hint:</span> There are two options - either the project uses solid gold or does not.  With this in mind, you can structure your solution like this: `cost = solid_gold * ____ + (not solid_gold) * ____`.  You need to figure out how to fill in the blanks. Also, remember that:\n",
       "- If `solid_gold = True`, then `(not solid_gold) = False`, and if `solid_gold = False`, then `(not solid_gold) = True`.\n",
       "- Multiplying an integer by `True` is equivalent to multiplying it by 1, and multiplying an integer by `False` is equivalent to multiplying it by 0."
      ],
      "text/plain": [
       "Hint: There are two options - either the project uses solid gold or does not.  With this in mind, you can structure your solution like this: `cost = solid_gold * ____ + (not solid_gold) * ____`.  You need to figure out how to fill in the blanks. Also, remember that:\n",
       "- If `solid_gold = True`, then `(not solid_gold) = False`, and if `solid_gold = False`, then `(not solid_gold) = True`.\n",
       "- Multiplying an integer by `True` is equivalent to multiplying it by 1, and multiplying an integer by `False` is equivalent to multiplying it by 0."
      ]
     },
     "metadata": {},
     "output_type": "display_data"
    },
    {
     "data": {
      "application/javascript": [
       "parent.postMessage({\"jupyterEvent\": \"custom.exercise_interaction\", \"data\": {\"interactionType\": 3, \"questionType\": 2, \"questionId\": \"5_CustomEngravings\", \"learnToolsVersion\": \"0.3.4\", \"valueTowardsCompletion\": 0.0, \"failureMessage\": \"\", \"exceptionClass\": \"\", \"trace\": \"\", \"outcomeType\": 4}}, \"*\")"
      ],
      "text/plain": [
       "<IPython.core.display.Javascript object>"
      ]
     },
     "metadata": {},
     "output_type": "display_data"
    },
    {
     "data": {
      "text/markdown": [
       "<span style=\"color:#33cc99\">Solution:</span> \n",
       "```python\n",
       "def cost_of_project(engraving, solid_gold):\n",
       "    cost = solid_gold * (100 + 10 * len(engraving)) + (not solid_gold) * (50 + 7 * len(engraving))\n",
       "    return cost\n",
       "\n",
       "```"
      ],
      "text/plain": [
       "Solution: \n",
       "```python\n",
       "def cost_of_project(engraving, solid_gold):\n",
       "    cost = solid_gold * (100 + 10 * len(engraving)) + (not solid_gold) * (50 + 7 * len(engraving))\n",
       "    return cost\n",
       "\n",
       "```"
      ]
     },
     "metadata": {},
     "output_type": "display_data"
    }
   ],
   "source": [
    "# Uncomment to see a hint\n",
    "q5.hint()\n",
    "\n",
    "# Uncomment to view the solution\n",
    "q5.solution()"
   ]
  },
  {
   "cell_type": "markdown",
   "id": "b2a4dbcd",
   "metadata": {
    "papermill": {
     "duration": 0.0114,
     "end_time": "2023-12-05T18:05:40.199793",
     "exception": false,
     "start_time": "2023-12-05T18:05:40.188393",
     "status": "completed"
    },
    "tags": []
   },
   "source": [
    "Run the next code cell to calculate the cost of engraving `Charlie+Denver` on a solid gold ring."
   ]
  },
  {
   "cell_type": "code",
   "execution_count": 13,
   "id": "c9f73c72",
   "metadata": {
    "execution": {
     "iopub.execute_input": "2023-12-05T18:05:40.225635Z",
     "iopub.status.busy": "2023-12-05T18:05:40.224781Z",
     "iopub.status.idle": "2023-12-05T18:05:40.232166Z",
     "shell.execute_reply": "2023-12-05T18:05:40.230941Z"
    },
    "papermill": {
     "duration": 0.023768,
     "end_time": "2023-12-05T18:05:40.234989",
     "exception": false,
     "start_time": "2023-12-05T18:05:40.211221",
     "status": "completed"
    },
    "tags": []
   },
   "outputs": [
    {
     "name": "stdout",
     "output_type": "stream",
     "text": [
      "240\n"
     ]
    }
   ],
   "source": [
    "project_one = cost_of_project(\"Charlie+Denver\", True)\n",
    "print(project_one)"
   ]
  },
  {
   "cell_type": "markdown",
   "id": "b875fb8c",
   "metadata": {
    "papermill": {
     "duration": 0.011245,
     "end_time": "2023-12-05T18:05:40.258342",
     "exception": false,
     "start_time": "2023-12-05T18:05:40.247097",
     "status": "completed"
    },
    "tags": []
   },
   "source": [
    "Use the next code cell to calculate the cost of engraving `08/10/2000` on a gold plated ring."
   ]
  },
  {
   "cell_type": "code",
   "execution_count": 14,
   "id": "abc5d962",
   "metadata": {
    "execution": {
     "iopub.execute_input": "2023-12-05T18:05:40.284382Z",
     "iopub.status.busy": "2023-12-05T18:05:40.283945Z",
     "iopub.status.idle": "2023-12-05T18:05:40.289834Z",
     "shell.execute_reply": "2023-12-05T18:05:40.288539Z"
    },
    "papermill": {
     "duration": 0.022085,
     "end_time": "2023-12-05T18:05:40.292758",
     "exception": false,
     "start_time": "2023-12-05T18:05:40.270673",
     "status": "completed"
    },
    "tags": []
   },
   "outputs": [
    {
     "name": "stdout",
     "output_type": "stream",
     "text": [
      "120\n"
     ]
    }
   ],
   "source": [
    "project_two = cost_of_project(\"08/10/2000\", False)\n",
    "print(project_two)"
   ]
  },
  {
   "cell_type": "markdown",
   "id": "16bdb9ac",
   "metadata": {
    "papermill": {
     "duration": 0.011253,
     "end_time": "2023-12-05T18:05:40.315669",
     "exception": false,
     "start_time": "2023-12-05T18:05:40.304416",
     "status": "completed"
    },
    "tags": []
   },
   "source": [
    "# Keep going\n",
    "\n",
    "Continue to the next lesson to **[learn about conditions and conditional statements](https://www.kaggle.com/alexisbcook/conditions-and-conditional-statements)**."
   ]
  },
  {
   "cell_type": "markdown",
   "id": "d62cc3c6",
   "metadata": {
    "papermill": {
     "duration": 0.011534,
     "end_time": "2023-12-05T18:05:40.339132",
     "exception": false,
     "start_time": "2023-12-05T18:05:40.327598",
     "status": "completed"
    },
    "tags": []
   },
   "source": [
    "---\n",
    "\n",
    "\n",
    "\n",
    "\n",
    "*Have questions or comments? Visit the [course discussion forum](https://www.kaggle.com/learn/intro-to-programming/discussion) to chat with other learners.*"
   ]
  }
 ],
 "metadata": {
  "kaggle": {
   "accelerator": "none",
   "dataSources": [],
   "isGpuEnabled": false,
   "isInternetEnabled": false,
   "language": "python",
   "sourceType": "notebook"
  },
  "kernelspec": {
   "display_name": "Python 3",
   "language": "python",
   "name": "python3"
  },
  "language_info": {
   "codemirror_mode": {
    "name": "ipython",
    "version": 3
   },
   "file_extension": ".py",
   "mimetype": "text/x-python",
   "name": "python",
   "nbconvert_exporter": "python",
   "pygments_lexer": "ipython3",
   "version": "3.10.12"
  },
  "papermill": {
   "default_parameters": {},
   "duration": 5.416834,
   "end_time": "2023-12-05T18:05:40.871737",
   "environment_variables": {},
   "exception": null,
   "input_path": "__notebook__.ipynb",
   "output_path": "__notebook__.ipynb",
   "parameters": {},
   "start_time": "2023-12-05T18:05:35.454903",
   "version": "2.3.3"
  }
 },
 "nbformat": 4,
 "nbformat_minor": 5
}
