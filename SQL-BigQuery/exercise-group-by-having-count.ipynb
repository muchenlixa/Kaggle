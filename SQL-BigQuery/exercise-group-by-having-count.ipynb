{
 "cells": [
  {
   "cell_type": "markdown",
   "id": "d0eed24c",
   "metadata": {
    "papermill": {
     "duration": 0.006599,
     "end_time": "2023-12-18T05:11:20.490375",
     "exception": false,
     "start_time": "2023-12-18T05:11:20.483776",
     "status": "completed"
    },
    "tags": []
   },
   "source": [
    "**This notebook is an exercise in the [SQL](https://www.kaggle.com/learn/intro-to-sql) course.  You can reference the tutorial at [this link](https://www.kaggle.com/dansbecker/group-by-having-count).**\n",
    "\n",
    "---\n"
   ]
  },
  {
   "cell_type": "markdown",
   "id": "6daa21fa",
   "metadata": {
    "papermill": {
     "duration": 0.005409,
     "end_time": "2023-12-18T05:11:20.501914",
     "exception": false,
     "start_time": "2023-12-18T05:11:20.496505",
     "status": "completed"
    },
    "tags": []
   },
   "source": [
    "# Introduction\n",
    "\n",
    "Queries with **GROUP BY** can be powerful. There are many small things that can trip you up (like the order of the clauses), but it will start to feel natural once you've done it a few times. Here, you'll write queries using **GROUP BY** to answer questions from the Hacker News dataset.\n",
    "\n",
    "Before you get started, run the following cell to set everything up:"
   ]
  },
  {
   "cell_type": "code",
   "execution_count": 1,
   "id": "0b9af4ee",
   "metadata": {
    "execution": {
     "iopub.execute_input": "2023-12-18T05:11:20.517581Z",
     "iopub.status.busy": "2023-12-18T05:11:20.516257Z",
     "iopub.status.idle": "2023-12-18T05:11:21.075229Z",
     "shell.execute_reply": "2023-12-18T05:11:21.074137Z"
    },
    "papermill": {
     "duration": 0.570284,
     "end_time": "2023-12-18T05:11:21.078050",
     "exception": false,
     "start_time": "2023-12-18T05:11:20.507766",
     "status": "completed"
    },
    "tags": []
   },
   "outputs": [
    {
     "name": "stdout",
     "output_type": "stream",
     "text": [
      "Setup Complete\n"
     ]
    }
   ],
   "source": [
    "# Set up feedback system\n",
    "from learntools.core import binder\n",
    "binder.bind(globals())\n",
    "# from learntools.sql.ex3 import *\n",
    "\n",
    "print(\"Setup Complete\")\n",
    "\n",
    "# # Set up feedback system\n",
    "# from learntools.core import binder\n",
    "# binder.bind(globals())\n",
    "# from learntools.sql.ex2 import *\n",
    "# print(\"Setup Complete\")"
   ]
  },
  {
   "cell_type": "code",
   "execution_count": 2,
   "id": "aeb93722",
   "metadata": {
    "execution": {
     "iopub.execute_input": "2023-12-18T05:11:21.093568Z",
     "iopub.status.busy": "2023-12-18T05:11:21.092538Z",
     "iopub.status.idle": "2023-12-18T05:11:28.446229Z",
     "shell.execute_reply": "2023-12-18T05:11:28.444721Z"
    },
    "papermill": {
     "duration": 7.365329,
     "end_time": "2023-12-18T05:11:28.449727",
     "exception": false,
     "start_time": "2023-12-18T05:11:21.084398",
     "status": "completed"
    },
    "tags": []
   },
   "outputs": [
    {
     "name": "stdout",
     "output_type": "stream",
     "text": [
      "Using Kaggle's public dataset BigQuery integration.\n"
     ]
    }
   ],
   "source": [
    "import pandas as pd\n",
    "from google.cloud import bigquery\n",
    "\n",
    "from learntools.core import *\n",
    "from learntools.core import binder\n",
    "binder.bind(globals())\n",
    "\n",
    "# Setup (1.88s on Kaggle)\n",
    "client = bigquery.Client()\n",
    "\n",
    "# (1) ProlificCommenters\n",
    "prolific_commenters_query = \"\"\"\n",
    "                            SELECT `by` AS author, COUNT(id) AS NumPosts\n",
    "                            FROM `bigquery-public-data.hacker_news.full`\n",
    "                            GROUP BY author\n",
    "                            HAVING COUNT(id) > 10000\n",
    "                            \"\"\"\n",
    "query_job = client.query(prolific_commenters_query)\n",
    "prolific_commenters_answer = query_job.to_dataframe()\n",
    "\n",
    "# (2) NumDeletedPosts\n",
    "deleted_posts_query = \"\"\"\n",
    "                      SELECT COUNT(1) AS num_deleted_posts\n",
    "                      FROM `bigquery-public-data.hacker_news.full`\n",
    "                      WHERE deleted = True\n",
    "                      \"\"\"\n",
    "query_job = client.query(deleted_posts_query)\n",
    "deleted_posts = query_job.to_dataframe()\n",
    "num_deleted_posts_answer = deleted_posts.values[0][0]\n",
    "\n",
    "class ProlificCommenters(CodingProblem):\n",
    "    _var = 'prolific_commenters'\n",
    "    def check(self, results):\n",
    "        # check 1: column names\n",
    "        assert set(results.columns.values) == set(['NumPosts', 'author']), (\"The column names appear to be incorrect.  They should be `NumPosts` and `author`.\")\n",
    "        \n",
    "        # check 2: pick a name. corresponding NumPosts matches solution?\n",
    "        # get a name to check\n",
    "        first_author = list(prolific_commenters_answer['author'])[0]\n",
    "        # get corresponding NumPosts  \n",
    "        correct_number = prolific_commenters_answer.loc[prolific_commenters_answer['author']==first_author]['NumPosts'].values[0]\n",
    "        # want this to equal the corresponding NumPosts above\n",
    "        check_number = results.loc[results['author']==first_author]['NumPosts'].values[0]\n",
    "        assert(int(check_number)==int(correct_number)), (\"The results don't look right. Try again.\")\n",
    "\n",
    "        # check 3: check count > 10000\n",
    "        assert(all(results['NumPosts'].values>10000)), (\"Only select authors with more than 10,000 posts.\")\n",
    "    _solution = CS(\\\n",
    "\"\"\"\n",
    "prolific_commenters_query = \\\"\"\"\n",
    "                            SELECT `by` AS author, COUNT(1) AS NumPosts\n",
    "                            FROM `bigquery-public-data.hacker_news.full`\n",
    "                            GROUP BY author\n",
    "                            HAVING COUNT(1) > 10000\n",
    "                            \\\"\"\"\n",
    "\"\"\" \n",
    ")\n",
    "\n",
    "class NumDeletedPosts(EqualityCheckProblem):\n",
    "    _var = 'num_deleted_posts'\n",
    "    _expected = num_deleted_posts_answer\n",
    "    _solution = CS(\\\n",
    "\"\"\"\n",
    "# Query to determine how many posts were deleted\n",
    "deleted_posts_query = \\\"\"\"\n",
    "                      SELECT COUNT(1) AS num_deleted_posts\n",
    "                      FROM `bigquery-public-data.hacker_news.comments`\n",
    "                      WHERE deleted = True\n",
    "                      \\\"\"\"\n",
    "                      \n",
    "# Set up the query\n",
    "query_job = client.query(deleted_posts_query)\n",
    "\n",
    "# API request - run the query, and return a pandas DataFrame\n",
    "deleted_posts = query_job.to_dataframe()\n",
    "\n",
    "# View results\n",
    "print(deleted_posts)\n",
    "\n",
    "num_deleted_posts = %d\n",
    "\"\"\" % num_deleted_posts_answer\n",
    ")\n",
    "\n",
    "qvars = bind_exercises(globals(), [\n",
    "    ProlificCommenters,\n",
    "    NumDeletedPosts,\n",
    "    ],\n",
    "    var_format='q{n}',\n",
    "    )\n",
    "\n",
    "__all__ = list(qvars)"
   ]
  },
  {
   "cell_type": "markdown",
   "id": "d79481a8",
   "metadata": {
    "papermill": {
     "duration": 0.005997,
     "end_time": "2023-12-18T05:11:28.462591",
     "exception": false,
     "start_time": "2023-12-18T05:11:28.456594",
     "status": "completed"
    },
    "tags": []
   },
   "source": [
    "The code cell below fetches the `comments` table from the `hacker_news` dataset.  We also preview the first five rows of the table."
   ]
  },
  {
   "cell_type": "code",
   "execution_count": 3,
   "id": "874df35d",
   "metadata": {
    "execution": {
     "iopub.execute_input": "2023-12-18T05:11:28.478788Z",
     "iopub.status.busy": "2023-12-18T05:11:28.477078Z",
     "iopub.status.idle": "2023-12-18T05:11:31.111557Z",
     "shell.execute_reply": "2023-12-18T05:11:31.110634Z"
    },
    "papermill": {
     "duration": 2.645172,
     "end_time": "2023-12-18T05:11:31.114193",
     "exception": false,
     "start_time": "2023-12-18T05:11:28.469021",
     "status": "completed"
    },
    "tags": []
   },
   "outputs": [
    {
     "name": "stdout",
     "output_type": "stream",
     "text": [
      "Using Kaggle's public dataset BigQuery integration.\n"
     ]
    },
    {
     "data": {
      "text/html": [
       "<div>\n",
       "<style scoped>\n",
       "    .dataframe tbody tr th:only-of-type {\n",
       "        vertical-align: middle;\n",
       "    }\n",
       "\n",
       "    .dataframe tbody tr th {\n",
       "        vertical-align: top;\n",
       "    }\n",
       "\n",
       "    .dataframe thead th {\n",
       "        text-align: right;\n",
       "    }\n",
       "</style>\n",
       "<table border=\"1\" class=\"dataframe\">\n",
       "  <thead>\n",
       "    <tr style=\"text-align: right;\">\n",
       "      <th></th>\n",
       "      <th>title</th>\n",
       "      <th>url</th>\n",
       "      <th>text</th>\n",
       "      <th>dead</th>\n",
       "      <th>by</th>\n",
       "      <th>score</th>\n",
       "      <th>time</th>\n",
       "      <th>timestamp</th>\n",
       "      <th>type</th>\n",
       "      <th>id</th>\n",
       "      <th>parent</th>\n",
       "      <th>descendants</th>\n",
       "      <th>ranking</th>\n",
       "      <th>deleted</th>\n",
       "    </tr>\n",
       "  </thead>\n",
       "  <tbody>\n",
       "    <tr>\n",
       "      <th>0</th>\n",
       "      <td>None</td>\n",
       "      <td>None</td>\n",
       "      <td>I would rather just have wired earbuds, period...</td>\n",
       "      <td>None</td>\n",
       "      <td>zeveb</td>\n",
       "      <td>NaN</td>\n",
       "      <td>1591717736</td>\n",
       "      <td>2020-06-09 15:48:56+00:00</td>\n",
       "      <td>comment</td>\n",
       "      <td>23467666</td>\n",
       "      <td>23456782</td>\n",
       "      <td>NaN</td>\n",
       "      <td>NaN</td>\n",
       "      <td>None</td>\n",
       "    </tr>\n",
       "    <tr>\n",
       "      <th>1</th>\n",
       "      <td>None</td>\n",
       "      <td>None</td>\n",
       "      <td>DNS?</td>\n",
       "      <td>None</td>\n",
       "      <td>nly</td>\n",
       "      <td>NaN</td>\n",
       "      <td>1572810465</td>\n",
       "      <td>2019-11-03 19:47:45+00:00</td>\n",
       "      <td>comment</td>\n",
       "      <td>21436112</td>\n",
       "      <td>21435130</td>\n",
       "      <td>NaN</td>\n",
       "      <td>NaN</td>\n",
       "      <td>None</td>\n",
       "    </tr>\n",
       "    <tr>\n",
       "      <th>2</th>\n",
       "      <td>None</td>\n",
       "      <td>None</td>\n",
       "      <td>These benchmarks seem pretty good.  Filterable...</td>\n",
       "      <td>None</td>\n",
       "      <td>mrkeen</td>\n",
       "      <td>NaN</td>\n",
       "      <td>1591717727</td>\n",
       "      <td>2020-06-09 15:48:47+00:00</td>\n",
       "      <td>comment</td>\n",
       "      <td>23467665</td>\n",
       "      <td>23467426</td>\n",
       "      <td>NaN</td>\n",
       "      <td>NaN</td>\n",
       "      <td>None</td>\n",
       "    </tr>\n",
       "    <tr>\n",
       "      <th>3</th>\n",
       "      <td>None</td>\n",
       "      <td>None</td>\n",
       "      <td>Oh really?&lt;p&gt;* Excel alone uses 86.1MB of priv...</td>\n",
       "      <td>None</td>\n",
       "      <td>oceanswave</td>\n",
       "      <td>NaN</td>\n",
       "      <td>1462987532</td>\n",
       "      <td>2016-05-11 17:25:32+00:00</td>\n",
       "      <td>comment</td>\n",
       "      <td>11677248</td>\n",
       "      <td>11676886</td>\n",
       "      <td>NaN</td>\n",
       "      <td>NaN</td>\n",
       "      <td>None</td>\n",
       "    </tr>\n",
       "    <tr>\n",
       "      <th>4</th>\n",
       "      <td>None</td>\n",
       "      <td>None</td>\n",
       "      <td>These systems are useless.  Of the many flaws:...</td>\n",
       "      <td>None</td>\n",
       "      <td>nyxxie</td>\n",
       "      <td>NaN</td>\n",
       "      <td>1572810473</td>\n",
       "      <td>2019-11-03 19:47:53+00:00</td>\n",
       "      <td>comment</td>\n",
       "      <td>21436113</td>\n",
       "      <td>21435025</td>\n",
       "      <td>NaN</td>\n",
       "      <td>NaN</td>\n",
       "      <td>None</td>\n",
       "    </tr>\n",
       "  </tbody>\n",
       "</table>\n",
       "</div>"
      ],
      "text/plain": [
       "  title   url                                               text  dead  \\\n",
       "0  None  None  I would rather just have wired earbuds, period...  None   \n",
       "1  None  None                                               DNS?  None   \n",
       "2  None  None  These benchmarks seem pretty good.  Filterable...  None   \n",
       "3  None  None  Oh really?<p>* Excel alone uses 86.1MB of priv...  None   \n",
       "4  None  None  These systems are useless.  Of the many flaws:...  None   \n",
       "\n",
       "           by  score        time                 timestamp     type        id  \\\n",
       "0       zeveb    NaN  1591717736 2020-06-09 15:48:56+00:00  comment  23467666   \n",
       "1         nly    NaN  1572810465 2019-11-03 19:47:45+00:00  comment  21436112   \n",
       "2      mrkeen    NaN  1591717727 2020-06-09 15:48:47+00:00  comment  23467665   \n",
       "3  oceanswave    NaN  1462987532 2016-05-11 17:25:32+00:00  comment  11677248   \n",
       "4      nyxxie    NaN  1572810473 2019-11-03 19:47:53+00:00  comment  21436113   \n",
       "\n",
       "     parent  descendants  ranking deleted  \n",
       "0  23456782          NaN      NaN    None  \n",
       "1  21435130          NaN      NaN    None  \n",
       "2  23467426          NaN      NaN    None  \n",
       "3  11676886          NaN      NaN    None  \n",
       "4  21435025          NaN      NaN    None  "
      ]
     },
     "execution_count": 3,
     "metadata": {},
     "output_type": "execute_result"
    }
   ],
   "source": [
    "from google.cloud import bigquery\n",
    "\n",
    "# Create a \"Client\" object\n",
    "client = bigquery.Client()\n",
    "\n",
    "# Construct a reference to the \"hacker_news\" dataset\n",
    "dataset_ref = client.dataset(\"hacker_news\", project=\"bigquery-public-data\")\n",
    "\n",
    "# API request - fetch the dataset\n",
    "dataset = client.get_dataset(dataset_ref)\n",
    "\n",
    "# Construct a reference to the \"comments\" table - \"comments\" doesn't exist in database!\n",
    "table_ref = dataset_ref.table(\"full\")\n",
    "\n",
    "# API request - fetch the table\n",
    "table = client.get_table(table_ref)\n",
    "\n",
    "# Preview the first five lines of the \"comments\" table\n",
    "client.list_rows(table, max_results=5).to_dataframe()"
   ]
  },
  {
   "cell_type": "markdown",
   "id": "4a66baa7",
   "metadata": {
    "papermill": {
     "duration": 0.006825,
     "end_time": "2023-12-18T05:11:31.128108",
     "exception": false,
     "start_time": "2023-12-18T05:11:31.121283",
     "status": "completed"
    },
    "tags": []
   },
   "source": [
    "# Exercises\n",
    "\n",
    "### 1) Prolific commenters\n",
    "\n",
    "Hacker News would like to send awards to everyone who has written more than 10,000 posts. Write a query that returns all authors with more than 10,000 posts as well as their post counts. Call the column with post counts `NumPosts`.\n",
    "\n",
    "In case sample query is helpful, here is a query you saw in the tutorial to answer a similar question:\n",
    "```\n",
    "query = \"\"\"\n",
    "        SELECT parent, COUNT(1) AS NumPosts\n",
    "        FROM `bigquery-public-data.hacker_news.comments`\n",
    "        GROUP BY parent\n",
    "        HAVING COUNT(1) > 10\n",
    "        \"\"\"\n",
    "```"
   ]
  },
  {
   "cell_type": "code",
   "execution_count": 4,
   "id": "f20fb782",
   "metadata": {
    "execution": {
     "iopub.execute_input": "2023-12-18T05:11:31.145505Z",
     "iopub.status.busy": "2023-12-18T05:11:31.143740Z",
     "iopub.status.idle": "2023-12-18T05:11:33.915568Z",
     "shell.execute_reply": "2023-12-18T05:11:33.913802Z"
    },
    "papermill": {
     "duration": 2.783017,
     "end_time": "2023-12-18T05:11:33.918506",
     "exception": false,
     "start_time": "2023-12-18T05:11:31.135489",
     "status": "completed"
    },
    "tags": []
   },
   "outputs": [
    {
     "name": "stdout",
     "output_type": "stream",
     "text": [
      "           author  NumPosts\n",
      "0    thaumasiotes     13169\n",
      "1           ghaff     19997\n",
      "2          vidarh     12548\n",
      "3         mirimir     10340\n",
      "4        TeMPOraL     29342\n",
      "..            ...       ...\n",
      "120        refurb     15028\n",
      "121      sokoloff     12304\n",
      "122       Someone     10904\n",
      "123    stcredzero     16991\n",
      "124          None    995099\n",
      "\n",
      "[125 rows x 2 columns]\n"
     ]
    },
    {
     "data": {
      "application/javascript": [
       "parent.postMessage({\"jupyterEvent\": \"custom.exercise_interaction\", \"data\": {\"outcomeType\": 1, \"valueTowardsCompletion\": 0.5, \"interactionType\": 1, \"questionType\": 2, \"questionId\": \"1_ProlificCommenters\", \"learnToolsVersion\": \"0.3.4\", \"failureMessage\": \"\", \"exceptionClass\": \"\", \"trace\": \"\"}}, \"*\")"
      ],
      "text/plain": [
       "<IPython.core.display.Javascript object>"
      ]
     },
     "metadata": {},
     "output_type": "display_data"
    },
    {
     "data": {
      "text/markdown": [
       "<span style=\"color:#33cc33\">Correct</span>"
      ],
      "text/plain": [
       "Correct"
      ]
     },
     "metadata": {},
     "output_type": "display_data"
    }
   ],
   "source": [
    "# Query to select prolific commenters and post counts\n",
    "prolific_commenters_query = \"\"\"\n",
    "                            SELECT `by` AS author, COUNT(1) AS NumPosts\n",
    "                            FROM `bigquery-public-data.hacker_news.full`\n",
    "                            GROUP BY `by`\n",
    "                            HAVING COUNT(1) > 10000\n",
    "                            \"\"\"\n",
    "\n",
    "# Set up the query (cancel the query if it would use too much of \n",
    "# your quota, with the limit set to 1 GB)\n",
    "safe_config = bigquery.QueryJobConfig(maximum_bytes_billed=10**10)\n",
    "query_job = client.query(prolific_commenters_query, job_config=safe_config)\n",
    "\n",
    "# API request - run the query, and return a pandas DataFrame\n",
    "prolific_commenters = query_job.to_dataframe()\n",
    "\n",
    "# View top few rows of results\n",
    "print(prolific_commenters)\n",
    "\n",
    "# Check your answer\n",
    "q1.check()"
   ]
  },
  {
   "cell_type": "markdown",
   "id": "2493b137",
   "metadata": {
    "papermill": {
     "duration": 0.008312,
     "end_time": "2023-12-18T05:11:33.934511",
     "exception": false,
     "start_time": "2023-12-18T05:11:33.926199",
     "status": "completed"
    },
    "tags": []
   },
   "source": [
    "For the solution, uncomment the line below."
   ]
  },
  {
   "cell_type": "code",
   "execution_count": 5,
   "id": "bf5647ad",
   "metadata": {
    "execution": {
     "iopub.execute_input": "2023-12-18T05:11:33.951869Z",
     "iopub.status.busy": "2023-12-18T05:11:33.951368Z",
     "iopub.status.idle": "2023-12-18T05:11:33.956740Z",
     "shell.execute_reply": "2023-12-18T05:11:33.955761Z"
    },
    "papermill": {
     "duration": 0.01661,
     "end_time": "2023-12-18T05:11:33.959134",
     "exception": false,
     "start_time": "2023-12-18T05:11:33.942524",
     "status": "completed"
    },
    "tags": []
   },
   "outputs": [],
   "source": [
    "#q_1.solution()"
   ]
  },
  {
   "cell_type": "markdown",
   "id": "6e4351e6",
   "metadata": {
    "papermill": {
     "duration": 0.007135,
     "end_time": "2023-12-18T05:11:33.973475",
     "exception": false,
     "start_time": "2023-12-18T05:11:33.966340",
     "status": "completed"
    },
    "tags": []
   },
   "source": [
    "### 2) Deleted comments\n",
    "\n",
    "How many comments have been deleted? (If a comment was deleted, the `deleted` column in the comments table will have the value `True`.)"
   ]
  },
  {
   "cell_type": "code",
   "execution_count": 6,
   "id": "bdb0fdb1",
   "metadata": {
    "execution": {
     "iopub.execute_input": "2023-12-18T05:11:33.991083Z",
     "iopub.status.busy": "2023-12-18T05:11:33.990204Z",
     "iopub.status.idle": "2023-12-18T05:11:35.649167Z",
     "shell.execute_reply": "2023-12-18T05:11:35.648280Z"
    },
    "papermill": {
     "duration": 1.670679,
     "end_time": "2023-12-18T05:11:35.651733",
     "exception": false,
     "start_time": "2023-12-18T05:11:33.981054",
     "status": "completed"
    },
    "tags": []
   },
   "outputs": [
    {
     "data": {
      "text/html": [
       "<div>\n",
       "<style scoped>\n",
       "    .dataframe tbody tr th:only-of-type {\n",
       "        vertical-align: middle;\n",
       "    }\n",
       "\n",
       "    .dataframe tbody tr th {\n",
       "        vertical-align: top;\n",
       "    }\n",
       "\n",
       "    .dataframe thead th {\n",
       "        text-align: right;\n",
       "    }\n",
       "</style>\n",
       "<table border=\"1\" class=\"dataframe\">\n",
       "  <thead>\n",
       "    <tr style=\"text-align: right;\">\n",
       "      <th></th>\n",
       "      <th>num_deleted_posts</th>\n",
       "    </tr>\n",
       "  </thead>\n",
       "  <tbody>\n",
       "    <tr>\n",
       "      <th>0</th>\n",
       "      <td>968172</td>\n",
       "    </tr>\n",
       "  </tbody>\n",
       "</table>\n",
       "</div>"
      ],
      "text/plain": [
       "   num_deleted_posts\n",
       "0             968172"
      ]
     },
     "execution_count": 6,
     "metadata": {},
     "output_type": "execute_result"
    }
   ],
   "source": [
    "# Write your query here and figure out the answer\n",
    "num_deleted_posts = \"\"\"\n",
    "                    SELECT COUNT(1) AS num_deleted_posts\n",
    "                    FROM `bigquery-public-data.hacker_news.full`\n",
    "                    WHERE deleted = True\n",
    "                    \"\"\"\n",
    "\n",
    "safe_config = bigquery.QueryJobConfig(maximum_bytes_billed=10**10)\n",
    "query_job = client.query(num_deleted_posts, job_config=safe_config)\n",
    "\n",
    "deleted_posts_query = query_job.to_dataframe()\n",
    "deleted_posts_query.head()"
   ]
  },
  {
   "cell_type": "code",
   "execution_count": 7,
   "id": "f12beb6d",
   "metadata": {
    "execution": {
     "iopub.execute_input": "2023-12-18T05:11:35.668665Z",
     "iopub.status.busy": "2023-12-18T05:11:35.667854Z",
     "iopub.status.idle": "2023-12-18T05:11:35.678181Z",
     "shell.execute_reply": "2023-12-18T05:11:35.677091Z"
    },
    "papermill": {
     "duration": 0.022047,
     "end_time": "2023-12-18T05:11:35.680996",
     "exception": false,
     "start_time": "2023-12-18T05:11:35.658949",
     "status": "completed"
    },
    "tags": []
   },
   "outputs": [
    {
     "data": {
      "application/javascript": [
       "parent.postMessage({\"jupyterEvent\": \"custom.exercise_interaction\", \"data\": {\"outcomeType\": 1, \"valueTowardsCompletion\": 0.5, \"interactionType\": 1, \"questionType\": 1, \"questionId\": \"2_NumDeletedPosts\", \"learnToolsVersion\": \"0.3.4\", \"failureMessage\": \"\", \"exceptionClass\": \"\", \"trace\": \"\"}}, \"*\")"
      ],
      "text/plain": [
       "<IPython.core.display.Javascript object>"
      ]
     },
     "metadata": {},
     "output_type": "display_data"
    },
    {
     "data": {
      "text/markdown": [
       "<span style=\"color:#33cc33\">Correct</span>"
      ],
      "text/plain": [
       "Correct"
      ]
     },
     "metadata": {},
     "output_type": "display_data"
    }
   ],
   "source": [
    "num_deleted_posts = 968172 # Put your answer here\n",
    "\n",
    "# Check your answer\n",
    "q2.check()"
   ]
  },
  {
   "cell_type": "markdown",
   "id": "0d9ae4f4",
   "metadata": {
    "papermill": {
     "duration": 0.007704,
     "end_time": "2023-12-18T05:11:35.696279",
     "exception": false,
     "start_time": "2023-12-18T05:11:35.688575",
     "status": "completed"
    },
    "tags": []
   },
   "source": [
    "For the solution, uncomment the line below."
   ]
  },
  {
   "cell_type": "code",
   "execution_count": 8,
   "id": "7723b843",
   "metadata": {
    "execution": {
     "iopub.execute_input": "2023-12-18T05:11:35.713564Z",
     "iopub.status.busy": "2023-12-18T05:11:35.713162Z",
     "iopub.status.idle": "2023-12-18T05:11:35.717609Z",
     "shell.execute_reply": "2023-12-18T05:11:35.716482Z"
    },
    "papermill": {
     "duration": 0.016174,
     "end_time": "2023-12-18T05:11:35.720057",
     "exception": false,
     "start_time": "2023-12-18T05:11:35.703883",
     "status": "completed"
    },
    "tags": []
   },
   "outputs": [],
   "source": [
    "#q_2.solution()"
   ]
  },
  {
   "cell_type": "markdown",
   "id": "9b3a29bd",
   "metadata": {
    "papermill": {
     "duration": 0.011312,
     "end_time": "2023-12-18T05:11:35.741072",
     "exception": false,
     "start_time": "2023-12-18T05:11:35.729760",
     "status": "completed"
    },
    "tags": []
   },
   "source": [
    "# Keep Going\n",
    "**[Click here](https://www.kaggle.com/dansbecker/order-by)** to move on and learn about the **ORDER BY** clause."
   ]
  },
  {
   "cell_type": "markdown",
   "id": "7ab08dde",
   "metadata": {
    "papermill": {
     "duration": 0.007324,
     "end_time": "2023-12-18T05:11:35.756510",
     "exception": false,
     "start_time": "2023-12-18T05:11:35.749186",
     "status": "completed"
    },
    "tags": []
   },
   "source": [
    "---\n",
    "\n",
    "\n",
    "\n",
    "\n",
    "*Have questions or comments? Visit the [course discussion forum](https://www.kaggle.com/learn/intro-to-sql/discussion) to chat with other learners.*"
   ]
  }
 ],
 "metadata": {
  "kaggle": {
   "accelerator": "none",
   "dataSources": [
    {
     "datasetId": 6057,
     "sourceId": 285982,
     "sourceType": "datasetVersion"
    }
   ],
   "isGpuEnabled": false,
   "isInternetEnabled": false,
   "language": "python",
   "sourceType": "notebook"
  },
  "kernelspec": {
   "display_name": "Python 3",
   "language": "python",
   "name": "python3"
  },
  "language_info": {
   "codemirror_mode": {
    "name": "ipython",
    "version": 3
   },
   "file_extension": ".py",
   "mimetype": "text/x-python",
   "name": "python",
   "nbconvert_exporter": "python",
   "pygments_lexer": "ipython3",
   "version": "3.10.12"
  },
  "papermill": {
   "default_parameters": {},
   "duration": 19.988702,
   "end_time": "2023-12-18T05:11:36.687439",
   "environment_variables": {},
   "exception": null,
   "input_path": "__notebook__.ipynb",
   "output_path": "__notebook__.ipynb",
   "parameters": {},
   "start_time": "2023-12-18T05:11:16.698737",
   "version": "2.4.0"
  }
 },
 "nbformat": 4,
 "nbformat_minor": 5
}
