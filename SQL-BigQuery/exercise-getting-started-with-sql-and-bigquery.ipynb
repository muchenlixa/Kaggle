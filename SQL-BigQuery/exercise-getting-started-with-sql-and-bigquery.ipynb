{
 "cells": [
  {
   "cell_type": "markdown",
   "id": "f305f024",
   "metadata": {
    "papermill": {
     "duration": 0.005632,
     "end_time": "2023-12-18T04:32:57.232937",
     "exception": false,
     "start_time": "2023-12-18T04:32:57.227305",
     "status": "completed"
    },
    "tags": []
   },
   "source": [
    "**This notebook is an exercise in the [SQL](https://www.kaggle.com/learn/intro-to-sql) course.  You can reference the tutorial at [this link](https://www.kaggle.com/dansbecker/getting-started-with-sql-and-bigquery).**\n",
    "\n",
    "---\n"
   ]
  },
  {
   "cell_type": "markdown",
   "id": "e7326703",
   "metadata": {
    "papermill": {
     "duration": 0.004729,
     "end_time": "2023-12-18T04:32:57.242927",
     "exception": false,
     "start_time": "2023-12-18T04:32:57.238198",
     "status": "completed"
    },
    "tags": []
   },
   "source": [
    "# Introduction\n",
    "\n",
    "The first test of your new data exploration skills uses data describing crime in the city of Chicago.\n",
    "\n",
    "Before you get started, run the following cell. It sets up the automated feedback system to review your answers."
   ]
  },
  {
   "cell_type": "code",
   "execution_count": 1,
   "id": "1bff1dcb",
   "metadata": {
    "execution": {
     "iopub.execute_input": "2023-12-18T04:32:57.254542Z",
     "iopub.status.busy": "2023-12-18T04:32:57.254144Z",
     "iopub.status.idle": "2023-12-18T04:33:04.312926Z",
     "shell.execute_reply": "2023-12-18T04:33:04.311831Z"
    },
    "papermill": {
     "duration": 7.067256,
     "end_time": "2023-12-18T04:33:04.315295",
     "exception": false,
     "start_time": "2023-12-18T04:32:57.248039",
     "status": "completed"
    },
    "tags": []
   },
   "outputs": [
    {
     "name": "stdout",
     "output_type": "stream",
     "text": [
      "Using Kaggle's public dataset BigQuery integration.\n",
      "Setup Complete\n"
     ]
    }
   ],
   "source": [
    "# Set up feedack system\n",
    "from learntools.core import binder\n",
    "binder.bind(globals())\n",
    "from learntools.sql.ex1 import *\n",
    "print(\"Setup Complete\")"
   ]
  },
  {
   "cell_type": "markdown",
   "id": "30d97324",
   "metadata": {
    "papermill": {
     "duration": 0.005286,
     "end_time": "2023-12-18T04:33:04.326528",
     "exception": false,
     "start_time": "2023-12-18T04:33:04.321242",
     "status": "completed"
    },
    "tags": []
   },
   "source": [
    "Use the next code cell to fetch the dataset."
   ]
  },
  {
   "cell_type": "code",
   "execution_count": 2,
   "id": "e7396293",
   "metadata": {
    "execution": {
     "iopub.execute_input": "2023-12-18T04:33:04.338910Z",
     "iopub.status.busy": "2023-12-18T04:33:04.338344Z",
     "iopub.status.idle": "2023-12-18T04:33:05.435804Z",
     "shell.execute_reply": "2023-12-18T04:33:05.434801Z"
    },
    "papermill": {
     "duration": 1.1065,
     "end_time": "2023-12-18T04:33:05.438332",
     "exception": false,
     "start_time": "2023-12-18T04:33:04.331832",
     "status": "completed"
    },
    "tags": []
   },
   "outputs": [
    {
     "name": "stdout",
     "output_type": "stream",
     "text": [
      "Using Kaggle's public dataset BigQuery integration.\n"
     ]
    }
   ],
   "source": [
    "from google.cloud import bigquery\n",
    "\n",
    "# Create a \"Client\" object\n",
    "client = bigquery.Client()\n",
    "\n",
    "# Construct a reference to the \"chicago_crime\" dataset\n",
    "dataset_ref = client.dataset(\"chicago_crime\", project=\"bigquery-public-data\")\n",
    "\n",
    "# API request - fetch the dataset\n",
    "dataset = client.get_dataset(dataset_ref)"
   ]
  },
  {
   "cell_type": "markdown",
   "id": "54d694d3",
   "metadata": {
    "papermill": {
     "duration": 0.005149,
     "end_time": "2023-12-18T04:33:05.448999",
     "exception": false,
     "start_time": "2023-12-18T04:33:05.443850",
     "status": "completed"
    },
    "tags": []
   },
   "source": [
    "# Exercises\n",
    "\n",
    "### 1) Count tables in the dataset\n",
    "\n",
    "How many tables are in the Chicago Crime dataset?"
   ]
  },
  {
   "cell_type": "code",
   "execution_count": 3,
   "id": "a499fe24",
   "metadata": {
    "execution": {
     "iopub.execute_input": "2023-12-18T04:33:05.461372Z",
     "iopub.status.busy": "2023-12-18T04:33:05.460999Z",
     "iopub.status.idle": "2023-12-18T04:33:06.456934Z",
     "shell.execute_reply": "2023-12-18T04:33:06.455597Z"
    },
    "papermill": {
     "duration": 1.004878,
     "end_time": "2023-12-18T04:33:06.459241",
     "exception": false,
     "start_time": "2023-12-18T04:33:05.454363",
     "status": "completed"
    },
    "tags": []
   },
   "outputs": [
    {
     "name": "stdout",
     "output_type": "stream",
     "text": [
      "crime\n"
     ]
    }
   ],
   "source": [
    "# Write the code you need here to figure out the answer\n",
    "tables = list(client.list_tables(dataset_ref))\n",
    "\n",
    "for table in tables:\n",
    "    print(table.table_id)"
   ]
  },
  {
   "cell_type": "code",
   "execution_count": 4,
   "id": "745f3664",
   "metadata": {
    "execution": {
     "iopub.execute_input": "2023-12-18T04:33:06.472050Z",
     "iopub.status.busy": "2023-12-18T04:33:06.471653Z",
     "iopub.status.idle": "2023-12-18T04:33:06.480858Z",
     "shell.execute_reply": "2023-12-18T04:33:06.479866Z"
    },
    "papermill": {
     "duration": 0.0184,
     "end_time": "2023-12-18T04:33:06.483125",
     "exception": false,
     "start_time": "2023-12-18T04:33:06.464725",
     "status": "completed"
    },
    "tags": []
   },
   "outputs": [
    {
     "data": {
      "application/javascript": [
       "parent.postMessage({\"jupyterEvent\": \"custom.exercise_interaction\", \"data\": {\"outcomeType\": 1, \"valueTowardsCompletion\": 0.3333333333333333, \"interactionType\": 1, \"questionType\": 1, \"questionId\": \"1_CountTables\", \"learnToolsVersion\": \"0.3.4\", \"failureMessage\": \"\", \"exceptionClass\": \"\", \"trace\": \"\"}}, \"*\")"
      ],
      "text/plain": [
       "<IPython.core.display.Javascript object>"
      ]
     },
     "metadata": {},
     "output_type": "display_data"
    },
    {
     "data": {
      "text/markdown": [
       "<span style=\"color:#33cc33\">Correct</span>"
      ],
      "text/plain": [
       "Correct"
      ]
     },
     "metadata": {},
     "output_type": "display_data"
    }
   ],
   "source": [
    "num_tables = 1  # Store the answer as num_tables and then run this cell\n",
    "\n",
    "# Check your answer\n",
    "q_1.check()"
   ]
  },
  {
   "cell_type": "markdown",
   "id": "ad04d5f6",
   "metadata": {
    "papermill": {
     "duration": 0.005595,
     "end_time": "2023-12-18T04:33:06.494376",
     "exception": false,
     "start_time": "2023-12-18T04:33:06.488781",
     "status": "completed"
    },
    "tags": []
   },
   "source": [
    "For a hint or the solution, uncomment the appropriate line below."
   ]
  },
  {
   "cell_type": "code",
   "execution_count": 5,
   "id": "90640df9",
   "metadata": {
    "execution": {
     "iopub.execute_input": "2023-12-18T04:33:06.507605Z",
     "iopub.status.busy": "2023-12-18T04:33:06.507064Z",
     "iopub.status.idle": "2023-12-18T04:33:06.518353Z",
     "shell.execute_reply": "2023-12-18T04:33:06.517425Z"
    },
    "papermill": {
     "duration": 0.020389,
     "end_time": "2023-12-18T04:33:06.520317",
     "exception": false,
     "start_time": "2023-12-18T04:33:06.499928",
     "status": "completed"
    },
    "tags": []
   },
   "outputs": [
    {
     "data": {
      "application/javascript": [
       "parent.postMessage({\"jupyterEvent\": \"custom.exercise_interaction\", \"data\": {\"interactionType\": 2, \"questionType\": 1, \"questionId\": \"1_CountTables\", \"learnToolsVersion\": \"0.3.4\", \"valueTowardsCompletion\": 0.0, \"failureMessage\": \"\", \"exceptionClass\": \"\", \"trace\": \"\", \"outcomeType\": 4}}, \"*\")"
      ],
      "text/plain": [
       "<IPython.core.display.Javascript object>"
      ]
     },
     "metadata": {},
     "output_type": "display_data"
    },
    {
     "data": {
      "text/markdown": [
       "<span style=\"color:#3366cc\">Hint:</span> Use the `list_tables()` method to get a list of the tables in the dataset."
      ],
      "text/plain": [
       "Hint: Use the `list_tables()` method to get a list of the tables in the dataset."
      ]
     },
     "metadata": {},
     "output_type": "display_data"
    },
    {
     "data": {
      "application/javascript": [
       "parent.postMessage({\"jupyterEvent\": \"custom.exercise_interaction\", \"data\": {\"interactionType\": 3, \"questionType\": 1, \"questionId\": \"1_CountTables\", \"learnToolsVersion\": \"0.3.4\", \"valueTowardsCompletion\": 0.0, \"failureMessage\": \"\", \"exceptionClass\": \"\", \"trace\": \"\", \"outcomeType\": 4}}, \"*\")"
      ],
      "text/plain": [
       "<IPython.core.display.Javascript object>"
      ]
     },
     "metadata": {},
     "output_type": "display_data"
    },
    {
     "data": {
      "text/markdown": [
       "<span style=\"color:#33cc99\">Solution:</span> \n",
       "```python\n",
       "\n",
       "# List all the tables in the \"chicago_crime\" dataset\n",
       "tables = list(client.list_tables(dataset))\n",
       "\n",
       "# Print number of tables in the dataset\n",
       "print(len(tables))\n",
       "\n",
       "num_tables = 1\n",
       "\n",
       "```"
      ],
      "text/plain": [
       "Solution: \n",
       "```python\n",
       "\n",
       "# List all the tables in the \"chicago_crime\" dataset\n",
       "tables = list(client.list_tables(dataset))\n",
       "\n",
       "# Print number of tables in the dataset\n",
       "print(len(tables))\n",
       "\n",
       "num_tables = 1\n",
       "\n",
       "```"
      ]
     },
     "metadata": {},
     "output_type": "display_data"
    }
   ],
   "source": [
    "q_1.hint()\n",
    "q_1.solution()"
   ]
  },
  {
   "cell_type": "markdown",
   "id": "dd69f930",
   "metadata": {
    "papermill": {
     "duration": 0.005818,
     "end_time": "2023-12-18T04:33:06.532317",
     "exception": false,
     "start_time": "2023-12-18T04:33:06.526499",
     "status": "completed"
    },
    "tags": []
   },
   "source": [
    "### 2) Explore the table schema\n",
    "\n",
    "How many columns in the `crime` table have `TIMESTAMP` data?"
   ]
  },
  {
   "cell_type": "code",
   "execution_count": 6,
   "id": "e044cf6c",
   "metadata": {
    "execution": {
     "iopub.execute_input": "2023-12-18T04:33:06.545782Z",
     "iopub.status.busy": "2023-12-18T04:33:06.545401Z",
     "iopub.status.idle": "2023-12-18T04:33:06.987218Z",
     "shell.execute_reply": "2023-12-18T04:33:06.986171Z"
    },
    "papermill": {
     "duration": 0.451604,
     "end_time": "2023-12-18T04:33:06.989784",
     "exception": false,
     "start_time": "2023-12-18T04:33:06.538180",
     "status": "completed"
    },
    "tags": []
   },
   "outputs": [
    {
     "data": {
      "text/plain": [
       "[SchemaField('unique_key', 'INTEGER', 'REQUIRED', None, (), None),\n",
       " SchemaField('case_number', 'STRING', 'NULLABLE', None, (), None),\n",
       " SchemaField('date', 'TIMESTAMP', 'NULLABLE', None, (), None),\n",
       " SchemaField('block', 'STRING', 'NULLABLE', None, (), None),\n",
       " SchemaField('iucr', 'STRING', 'NULLABLE', None, (), None),\n",
       " SchemaField('primary_type', 'STRING', 'NULLABLE', None, (), None),\n",
       " SchemaField('description', 'STRING', 'NULLABLE', None, (), None),\n",
       " SchemaField('location_description', 'STRING', 'NULLABLE', None, (), None),\n",
       " SchemaField('arrest', 'BOOLEAN', 'NULLABLE', None, (), None),\n",
       " SchemaField('domestic', 'BOOLEAN', 'NULLABLE', None, (), None),\n",
       " SchemaField('beat', 'INTEGER', 'NULLABLE', None, (), None),\n",
       " SchemaField('district', 'INTEGER', 'NULLABLE', None, (), None),\n",
       " SchemaField('ward', 'INTEGER', 'NULLABLE', None, (), None),\n",
       " SchemaField('community_area', 'INTEGER', 'NULLABLE', None, (), None),\n",
       " SchemaField('fbi_code', 'STRING', 'NULLABLE', None, (), None),\n",
       " SchemaField('x_coordinate', 'FLOAT', 'NULLABLE', None, (), None),\n",
       " SchemaField('y_coordinate', 'FLOAT', 'NULLABLE', None, (), None),\n",
       " SchemaField('year', 'INTEGER', 'NULLABLE', None, (), None),\n",
       " SchemaField('updated_on', 'TIMESTAMP', 'NULLABLE', None, (), None),\n",
       " SchemaField('latitude', 'FLOAT', 'NULLABLE', None, (), None),\n",
       " SchemaField('longitude', 'FLOAT', 'NULLABLE', None, (), None),\n",
       " SchemaField('location', 'STRING', 'NULLABLE', None, (), None)]"
      ]
     },
     "execution_count": 6,
     "metadata": {},
     "output_type": "execute_result"
    }
   ],
   "source": [
    "# Write the code to figure out the answer\n",
    "table_ref = dataset_ref.table('crime')\n",
    "\n",
    "table = client.get_table(table_ref)\n",
    "\n",
    "table.schema"
   ]
  },
  {
   "cell_type": "code",
   "execution_count": 7,
   "id": "a0d0aaac",
   "metadata": {
    "execution": {
     "iopub.execute_input": "2023-12-18T04:33:07.004877Z",
     "iopub.status.busy": "2023-12-18T04:33:07.004158Z",
     "iopub.status.idle": "2023-12-18T04:33:07.012593Z",
     "shell.execute_reply": "2023-12-18T04:33:07.011747Z"
    },
    "papermill": {
     "duration": 0.018353,
     "end_time": "2023-12-18T04:33:07.014592",
     "exception": false,
     "start_time": "2023-12-18T04:33:06.996239",
     "status": "completed"
    },
    "tags": []
   },
   "outputs": [
    {
     "data": {
      "application/javascript": [
       "parent.postMessage({\"jupyterEvent\": \"custom.exercise_interaction\", \"data\": {\"outcomeType\": 1, \"valueTowardsCompletion\": 0.3333333333333333, \"interactionType\": 1, \"questionType\": 1, \"questionId\": \"2_CountTimestampFields\", \"learnToolsVersion\": \"0.3.4\", \"failureMessage\": \"\", \"exceptionClass\": \"\", \"trace\": \"\"}}, \"*\")"
      ],
      "text/plain": [
       "<IPython.core.display.Javascript object>"
      ]
     },
     "metadata": {},
     "output_type": "display_data"
    },
    {
     "data": {
      "text/markdown": [
       "<span style=\"color:#33cc33\">Correct</span>"
      ],
      "text/plain": [
       "Correct"
      ]
     },
     "metadata": {},
     "output_type": "display_data"
    }
   ],
   "source": [
    "num_timestamp_fields = 2 # Put your answer here\n",
    "\n",
    "# Check your answer\n",
    "q_2.check()"
   ]
  },
  {
   "cell_type": "markdown",
   "id": "1671f2fa",
   "metadata": {
    "papermill": {
     "duration": 0.006154,
     "end_time": "2023-12-18T04:33:07.027140",
     "exception": false,
     "start_time": "2023-12-18T04:33:07.020986",
     "status": "completed"
    },
    "tags": []
   },
   "source": [
    "For a hint or the solution, uncomment the appropriate line below."
   ]
  },
  {
   "cell_type": "code",
   "execution_count": 8,
   "id": "7bf0a783",
   "metadata": {
    "execution": {
     "iopub.execute_input": "2023-12-18T04:33:07.042078Z",
     "iopub.status.busy": "2023-12-18T04:33:07.041412Z",
     "iopub.status.idle": "2023-12-18T04:33:07.053248Z",
     "shell.execute_reply": "2023-12-18T04:33:07.052444Z"
    },
    "papermill": {
     "duration": 0.021744,
     "end_time": "2023-12-18T04:33:07.055231",
     "exception": false,
     "start_time": "2023-12-18T04:33:07.033487",
     "status": "completed"
    },
    "tags": []
   },
   "outputs": [
    {
     "data": {
      "application/javascript": [
       "parent.postMessage({\"jupyterEvent\": \"custom.exercise_interaction\", \"data\": {\"interactionType\": 2, \"questionType\": 1, \"questionId\": \"2_CountTimestampFields\", \"learnToolsVersion\": \"0.3.4\", \"valueTowardsCompletion\": 0.0, \"failureMessage\": \"\", \"exceptionClass\": \"\", \"trace\": \"\", \"outcomeType\": 4}}, \"*\")"
      ],
      "text/plain": [
       "<IPython.core.display.Javascript object>"
      ]
     },
     "metadata": {},
     "output_type": "display_data"
    },
    {
     "data": {
      "text/markdown": [
       "<span style=\"color:#3366cc\">Hint:</span> Begin by fetching the `crime` table. Then take a look at the table schema, and check the field type of each column.  How many times does `'TIMESTAMP'` appear?"
      ],
      "text/plain": [
       "Hint: Begin by fetching the `crime` table. Then take a look at the table schema, and check the field type of each column.  How many times does `'TIMESTAMP'` appear?"
      ]
     },
     "metadata": {},
     "output_type": "display_data"
    },
    {
     "data": {
      "application/javascript": [
       "parent.postMessage({\"jupyterEvent\": \"custom.exercise_interaction\", \"data\": {\"interactionType\": 3, \"questionType\": 1, \"questionId\": \"2_CountTimestampFields\", \"learnToolsVersion\": \"0.3.4\", \"valueTowardsCompletion\": 0.0, \"failureMessage\": \"\", \"exceptionClass\": \"\", \"trace\": \"\", \"outcomeType\": 4}}, \"*\")"
      ],
      "text/plain": [
       "<IPython.core.display.Javascript object>"
      ]
     },
     "metadata": {},
     "output_type": "display_data"
    },
    {
     "data": {
      "text/markdown": [
       "<span style=\"color:#33cc99\">Solution:</span> \n",
       "```python\n",
       "\n",
       "# Construct a reference to the \"crime\" table\n",
       "table_ref = dataset_ref.table(\"crime\")\n",
       "\n",
       "# API request - fetch the table\n",
       "table = client.get_table(table_ref)\n",
       "\n",
       "# Print information on all the columns in the \"crime\" table in the \"chicago_crime\" dataset\n",
       "print(table.schema)\n",
       "\n",
       "num_timestamp_fields = 2\n",
       "\n",
       "```"
      ],
      "text/plain": [
       "Solution: \n",
       "```python\n",
       "\n",
       "# Construct a reference to the \"crime\" table\n",
       "table_ref = dataset_ref.table(\"crime\")\n",
       "\n",
       "# API request - fetch the table\n",
       "table = client.get_table(table_ref)\n",
       "\n",
       "# Print information on all the columns in the \"crime\" table in the \"chicago_crime\" dataset\n",
       "print(table.schema)\n",
       "\n",
       "num_timestamp_fields = 2\n",
       "\n",
       "```"
      ]
     },
     "metadata": {},
     "output_type": "display_data"
    }
   ],
   "source": [
    "q_2.hint()\n",
    "q_2.solution()"
   ]
  },
  {
   "cell_type": "markdown",
   "id": "43de2ba2",
   "metadata": {
    "papermill": {
     "duration": 0.006637,
     "end_time": "2023-12-18T04:33:07.068819",
     "exception": false,
     "start_time": "2023-12-18T04:33:07.062182",
     "status": "completed"
    },
    "tags": []
   },
   "source": [
    "### 3) Create a crime map\n",
    "\n",
    "If you wanted to create a map with a dot at the location of each crime, what are the names of the two fields you likely need to pull out of the `crime` table to plot the crimes on a map?"
   ]
  },
  {
   "cell_type": "code",
   "execution_count": 9,
   "id": "e58dd660",
   "metadata": {
    "execution": {
     "iopub.execute_input": "2023-12-18T04:33:07.084631Z",
     "iopub.status.busy": "2023-12-18T04:33:07.084027Z",
     "iopub.status.idle": "2023-12-18T04:33:07.088495Z",
     "shell.execute_reply": "2023-12-18T04:33:07.087514Z"
    },
    "papermill": {
     "duration": 0.014894,
     "end_time": "2023-12-18T04:33:07.090504",
     "exception": false,
     "start_time": "2023-12-18T04:33:07.075610",
     "status": "completed"
    },
    "tags": []
   },
   "outputs": [],
   "source": [
    "# Write the code here to explore the data so you can find the answer\n",
    "# longtitude, \n",
    "# latitude"
   ]
  },
  {
   "cell_type": "code",
   "execution_count": 10,
   "id": "7b2eec39",
   "metadata": {
    "execution": {
     "iopub.execute_input": "2023-12-18T04:33:07.106478Z",
     "iopub.status.busy": "2023-12-18T04:33:07.105809Z",
     "iopub.status.idle": "2023-12-18T04:33:07.114455Z",
     "shell.execute_reply": "2023-12-18T04:33:07.113547Z"
    },
    "papermill": {
     "duration": 0.018888,
     "end_time": "2023-12-18T04:33:07.116432",
     "exception": false,
     "start_time": "2023-12-18T04:33:07.097544",
     "status": "completed"
    },
    "tags": []
   },
   "outputs": [
    {
     "data": {
      "application/javascript": [
       "parent.postMessage({\"jupyterEvent\": \"custom.exercise_interaction\", \"data\": {\"outcomeType\": 1, \"valueTowardsCompletion\": 0.3333333333333333, \"interactionType\": 1, \"questionType\": 2, \"questionId\": \"3_IdentifyFieldsForPlotting\", \"learnToolsVersion\": \"0.3.4\", \"failureMessage\": \"\", \"exceptionClass\": \"\", \"trace\": \"\"}}, \"*\")"
      ],
      "text/plain": [
       "<IPython.core.display.Javascript object>"
      ]
     },
     "metadata": {},
     "output_type": "display_data"
    },
    {
     "data": {
      "text/markdown": [
       "<span style=\"color:#33cc33\">Correct</span>"
      ],
      "text/plain": [
       "Correct"
      ]
     },
     "metadata": {},
     "output_type": "display_data"
    }
   ],
   "source": [
    "fields_for_plotting = ['latitude', 'longitude'] # Put your answers here\n",
    "\n",
    "# Check your answer\n",
    "q_3.check()"
   ]
  },
  {
   "cell_type": "markdown",
   "id": "5b393f80",
   "metadata": {
    "papermill": {
     "duration": 0.007162,
     "end_time": "2023-12-18T04:33:07.130680",
     "exception": false,
     "start_time": "2023-12-18T04:33:07.123518",
     "status": "completed"
    },
    "tags": []
   },
   "source": [
    "For a hint or the solution, uncomment the appropriate line below."
   ]
  },
  {
   "cell_type": "code",
   "execution_count": 11,
   "id": "602279ac",
   "metadata": {
    "execution": {
     "iopub.execute_input": "2023-12-18T04:33:07.146933Z",
     "iopub.status.busy": "2023-12-18T04:33:07.146334Z",
     "iopub.status.idle": "2023-12-18T04:33:07.158020Z",
     "shell.execute_reply": "2023-12-18T04:33:07.157014Z"
    },
    "papermill": {
     "duration": 0.022107,
     "end_time": "2023-12-18T04:33:07.159957",
     "exception": false,
     "start_time": "2023-12-18T04:33:07.137850",
     "status": "completed"
    },
    "tags": []
   },
   "outputs": [
    {
     "data": {
      "application/javascript": [
       "parent.postMessage({\"jupyterEvent\": \"custom.exercise_interaction\", \"data\": {\"interactionType\": 2, \"questionType\": 2, \"questionId\": \"3_IdentifyFieldsForPlotting\", \"learnToolsVersion\": \"0.3.4\", \"valueTowardsCompletion\": 0.0, \"failureMessage\": \"\", \"exceptionClass\": \"\", \"trace\": \"\", \"outcomeType\": 4}}, \"*\")"
      ],
      "text/plain": [
       "<IPython.core.display.Javascript object>"
      ]
     },
     "metadata": {},
     "output_type": "display_data"
    },
    {
     "data": {
      "text/markdown": [
       "<span style=\"color:#3366cc\">Hint:</span> Look at the table schema.  There are a couple options, but two of the fields are things commonly used to plot on maps. Both are `'FLOAT'` types. Use quotes around the field names in your answer."
      ],
      "text/plain": [
       "Hint: Look at the table schema.  There are a couple options, but two of the fields are things commonly used to plot on maps. Both are `'FLOAT'` types. Use quotes around the field names in your answer."
      ]
     },
     "metadata": {},
     "output_type": "display_data"
    },
    {
     "data": {
      "application/javascript": [
       "parent.postMessage({\"jupyterEvent\": \"custom.exercise_interaction\", \"data\": {\"interactionType\": 3, \"questionType\": 2, \"questionId\": \"3_IdentifyFieldsForPlotting\", \"learnToolsVersion\": \"0.3.4\", \"valueTowardsCompletion\": 0.0, \"failureMessage\": \"\", \"exceptionClass\": \"\", \"trace\": \"\", \"outcomeType\": 4}}, \"*\")"
      ],
      "text/plain": [
       "<IPython.core.display.Javascript object>"
      ]
     },
     "metadata": {},
     "output_type": "display_data"
    },
    {
     "data": {
      "text/markdown": [
       "<span style=\"color:#33cc99\">Solution:</span> \n",
       "```python\n",
       "fields_for_plotting = ['latitude', 'longitude']\n",
       "```"
      ],
      "text/plain": [
       "Solution: \n",
       "```python\n",
       "fields_for_plotting = ['latitude', 'longitude']\n",
       "```"
      ]
     },
     "metadata": {},
     "output_type": "display_data"
    }
   ],
   "source": [
    "q_3.hint()\n",
    "q_3.solution()"
   ]
  },
  {
   "cell_type": "markdown",
   "id": "e541e3dc",
   "metadata": {
    "papermill": {
     "duration": 0.00733,
     "end_time": "2023-12-18T04:33:07.174917",
     "exception": false,
     "start_time": "2023-12-18T04:33:07.167587",
     "status": "completed"
    },
    "tags": []
   },
   "source": [
    "Thinking about the question above, there are a few columns that appear to have geographic data. Look at a few values (with the `list_rows()` command) to see if you can determine their relationship.  Two columns will still be hard to interpret. But it should be obvious how the `location` column relates to `latitude` and `longitude`."
   ]
  },
  {
   "cell_type": "code",
   "execution_count": 12,
   "id": "f04dc09c",
   "metadata": {
    "execution": {
     "iopub.execute_input": "2023-12-18T04:33:07.193013Z",
     "iopub.status.busy": "2023-12-18T04:33:07.192405Z",
     "iopub.status.idle": "2023-12-18T04:33:08.347808Z",
     "shell.execute_reply": "2023-12-18T04:33:08.346840Z"
    },
    "papermill": {
     "duration": 1.167233,
     "end_time": "2023-12-18T04:33:08.350131",
     "exception": false,
     "start_time": "2023-12-18T04:33:07.182898",
     "status": "completed"
    },
    "tags": []
   },
   "outputs": [
    {
     "data": {
      "text/html": [
       "<div>\n",
       "<style scoped>\n",
       "    .dataframe tbody tr th:only-of-type {\n",
       "        vertical-align: middle;\n",
       "    }\n",
       "\n",
       "    .dataframe tbody tr th {\n",
       "        vertical-align: top;\n",
       "    }\n",
       "\n",
       "    .dataframe thead th {\n",
       "        text-align: right;\n",
       "    }\n",
       "</style>\n",
       "<table border=\"1\" class=\"dataframe\">\n",
       "  <thead>\n",
       "    <tr style=\"text-align: right;\">\n",
       "      <th></th>\n",
       "      <th>unique_key</th>\n",
       "      <th>case_number</th>\n",
       "      <th>date</th>\n",
       "      <th>block</th>\n",
       "      <th>iucr</th>\n",
       "      <th>primary_type</th>\n",
       "      <th>description</th>\n",
       "      <th>location_description</th>\n",
       "      <th>arrest</th>\n",
       "      <th>domestic</th>\n",
       "      <th>...</th>\n",
       "      <th>ward</th>\n",
       "      <th>community_area</th>\n",
       "      <th>fbi_code</th>\n",
       "      <th>x_coordinate</th>\n",
       "      <th>y_coordinate</th>\n",
       "      <th>year</th>\n",
       "      <th>updated_on</th>\n",
       "      <th>latitude</th>\n",
       "      <th>longitude</th>\n",
       "      <th>location</th>\n",
       "    </tr>\n",
       "  </thead>\n",
       "  <tbody>\n",
       "    <tr>\n",
       "      <th>0</th>\n",
       "      <td>12461437</td>\n",
       "      <td>JE346938</td>\n",
       "      <td>2021-08-23 06:00:00+00:00</td>\n",
       "      <td>0000X E WACKER DR</td>\n",
       "      <td>0281</td>\n",
       "      <td>CRIMINAL SEXUAL ASSAULT</td>\n",
       "      <td>NON-AGGRAVATED</td>\n",
       "      <td>HOTEL / MOTEL</td>\n",
       "      <td>False</td>\n",
       "      <td>False</td>\n",
       "      <td>...</td>\n",
       "      <td>42</td>\n",
       "      <td>32</td>\n",
       "      <td>02</td>\n",
       "      <td>1177009.0</td>\n",
       "      <td>1902589.0</td>\n",
       "      <td>2021</td>\n",
       "      <td>2021-08-30 03:39:57+00:00</td>\n",
       "      <td>41.888046</td>\n",
       "      <td>-87.625414</td>\n",
       "      <td>(41.888045958, -87.625413826)</td>\n",
       "    </tr>\n",
       "    <tr>\n",
       "      <th>1</th>\n",
       "      <td>7487197</td>\n",
       "      <td>HS289466</td>\n",
       "      <td>2010-05-03 08:40:00+00:00</td>\n",
       "      <td>002XX S CANAL ST</td>\n",
       "      <td>031A</td>\n",
       "      <td>ROBBERY</td>\n",
       "      <td>ARMED: HANDGUN</td>\n",
       "      <td>SIDEWALK</td>\n",
       "      <td>False</td>\n",
       "      <td>False</td>\n",
       "      <td>...</td>\n",
       "      <td>2</td>\n",
       "      <td>28</td>\n",
       "      <td>03</td>\n",
       "      <td>1173177.0</td>\n",
       "      <td>1899241.0</td>\n",
       "      <td>2010</td>\n",
       "      <td>2018-02-10 03:50:01+00:00</td>\n",
       "      <td>41.878945</td>\n",
       "      <td>-87.639585</td>\n",
       "      <td>(41.878944724, -87.639585472)</td>\n",
       "    </tr>\n",
       "    <tr>\n",
       "      <th>2</th>\n",
       "      <td>9601036</td>\n",
       "      <td>HX251230</td>\n",
       "      <td>2014-05-06 02:00:00+00:00</td>\n",
       "      <td>0000X E LOWER WACKER DR</td>\n",
       "      <td>0320</td>\n",
       "      <td>ROBBERY</td>\n",
       "      <td>STRONGARM - NO WEAPON</td>\n",
       "      <td>PARKING LOT/GARAGE(NON.RESID.)</td>\n",
       "      <td>False</td>\n",
       "      <td>False</td>\n",
       "      <td>...</td>\n",
       "      <td>42</td>\n",
       "      <td>32</td>\n",
       "      <td>03</td>\n",
       "      <td>1176611.0</td>\n",
       "      <td>1902152.0</td>\n",
       "      <td>2014</td>\n",
       "      <td>2016-02-04 06:33:39+00:00</td>\n",
       "      <td>41.886856</td>\n",
       "      <td>-87.626889</td>\n",
       "      <td>(41.886855807, -87.62688861)</td>\n",
       "    </tr>\n",
       "    <tr>\n",
       "      <th>3</th>\n",
       "      <td>7137796</td>\n",
       "      <td>HR547423</td>\n",
       "      <td>2009-09-20 05:30:00+00:00</td>\n",
       "      <td>005XX W ADAMS ST</td>\n",
       "      <td>0320</td>\n",
       "      <td>ROBBERY</td>\n",
       "      <td>STRONGARM - NO WEAPON</td>\n",
       "      <td>SIDEWALK</td>\n",
       "      <td>False</td>\n",
       "      <td>False</td>\n",
       "      <td>...</td>\n",
       "      <td>2</td>\n",
       "      <td>28</td>\n",
       "      <td>03</td>\n",
       "      <td>1172648.0</td>\n",
       "      <td>1899361.0</td>\n",
       "      <td>2009</td>\n",
       "      <td>2018-02-28 03:56:25+00:00</td>\n",
       "      <td>41.879286</td>\n",
       "      <td>-87.641524</td>\n",
       "      <td>(41.879285729, -87.641524294)</td>\n",
       "    </tr>\n",
       "    <tr>\n",
       "      <th>4</th>\n",
       "      <td>10514343</td>\n",
       "      <td>HZ256230</td>\n",
       "      <td>2016-05-08 01:00:00+00:00</td>\n",
       "      <td>001XX N MICHIGAN AVE</td>\n",
       "      <td>0320</td>\n",
       "      <td>ROBBERY</td>\n",
       "      <td>STRONGARM - NO WEAPON</td>\n",
       "      <td>SIDEWALK</td>\n",
       "      <td>False</td>\n",
       "      <td>False</td>\n",
       "      <td>...</td>\n",
       "      <td>42</td>\n",
       "      <td>32</td>\n",
       "      <td>03</td>\n",
       "      <td>1177276.0</td>\n",
       "      <td>1901405.0</td>\n",
       "      <td>2016</td>\n",
       "      <td>2018-02-10 03:50:01+00:00</td>\n",
       "      <td>41.884791</td>\n",
       "      <td>-87.624469</td>\n",
       "      <td>(41.884790951, -87.624469241)</td>\n",
       "    </tr>\n",
       "  </tbody>\n",
       "</table>\n",
       "<p>5 rows × 22 columns</p>\n",
       "</div>"
      ],
      "text/plain": [
       "   unique_key case_number                      date                    block  \\\n",
       "0    12461437    JE346938 2021-08-23 06:00:00+00:00        0000X E WACKER DR   \n",
       "1     7487197    HS289466 2010-05-03 08:40:00+00:00         002XX S CANAL ST   \n",
       "2     9601036    HX251230 2014-05-06 02:00:00+00:00  0000X E LOWER WACKER DR   \n",
       "3     7137796    HR547423 2009-09-20 05:30:00+00:00         005XX W ADAMS ST   \n",
       "4    10514343    HZ256230 2016-05-08 01:00:00+00:00     001XX N MICHIGAN AVE   \n",
       "\n",
       "   iucr             primary_type            description  \\\n",
       "0  0281  CRIMINAL SEXUAL ASSAULT         NON-AGGRAVATED   \n",
       "1  031A                  ROBBERY         ARMED: HANDGUN   \n",
       "2  0320                  ROBBERY  STRONGARM - NO WEAPON   \n",
       "3  0320                  ROBBERY  STRONGARM - NO WEAPON   \n",
       "4  0320                  ROBBERY  STRONGARM - NO WEAPON   \n",
       "\n",
       "             location_description  arrest  domestic  ...  ward  \\\n",
       "0                   HOTEL / MOTEL   False     False  ...    42   \n",
       "1                        SIDEWALK   False     False  ...     2   \n",
       "2  PARKING LOT/GARAGE(NON.RESID.)   False     False  ...    42   \n",
       "3                        SIDEWALK   False     False  ...     2   \n",
       "4                        SIDEWALK   False     False  ...    42   \n",
       "\n",
       "   community_area  fbi_code  x_coordinate y_coordinate  year  \\\n",
       "0              32        02     1177009.0    1902589.0  2021   \n",
       "1              28        03     1173177.0    1899241.0  2010   \n",
       "2              32        03     1176611.0    1902152.0  2014   \n",
       "3              28        03     1172648.0    1899361.0  2009   \n",
       "4              32        03     1177276.0    1901405.0  2016   \n",
       "\n",
       "                 updated_on   latitude  longitude  \\\n",
       "0 2021-08-30 03:39:57+00:00  41.888046 -87.625414   \n",
       "1 2018-02-10 03:50:01+00:00  41.878945 -87.639585   \n",
       "2 2016-02-04 06:33:39+00:00  41.886856 -87.626889   \n",
       "3 2018-02-28 03:56:25+00:00  41.879286 -87.641524   \n",
       "4 2018-02-10 03:50:01+00:00  41.884791 -87.624469   \n",
       "\n",
       "                        location  \n",
       "0  (41.888045958, -87.625413826)  \n",
       "1  (41.878944724, -87.639585472)  \n",
       "2   (41.886855807, -87.62688861)  \n",
       "3  (41.879285729, -87.641524294)  \n",
       "4  (41.884790951, -87.624469241)  \n",
       "\n",
       "[5 rows x 22 columns]"
      ]
     },
     "execution_count": 12,
     "metadata": {},
     "output_type": "execute_result"
    }
   ],
   "source": [
    "# Scratch space for your code\n",
    "client.list_rows(table,max_results=5).to_dataframe()"
   ]
  },
  {
   "cell_type": "markdown",
   "id": "9a048318",
   "metadata": {
    "papermill": {
     "duration": 0.008302,
     "end_time": "2023-12-18T04:33:08.366695",
     "exception": false,
     "start_time": "2023-12-18T04:33:08.358393",
     "status": "completed"
    },
    "tags": []
   },
   "source": [
    "# Keep going\n",
    "\n",
    "You've looked at the schema, but you haven't yet done anything exciting with the data itself. Things get more interesting when you get to the data, so keep going to **[write your first SQL query](https://www.kaggle.com/dansbecker/select-from-where).**"
   ]
  },
  {
   "cell_type": "markdown",
   "id": "78d10009",
   "metadata": {
    "papermill": {
     "duration": 0.008046,
     "end_time": "2023-12-18T04:33:08.382978",
     "exception": false,
     "start_time": "2023-12-18T04:33:08.374932",
     "status": "completed"
    },
    "tags": []
   },
   "source": [
    "---\n",
    "\n",
    "\n",
    "\n",
    "\n",
    "*Have questions or comments? Visit the [course discussion forum](https://www.kaggle.com/learn/intro-to-sql/discussion) to chat with other learners.*"
   ]
  }
 ],
 "metadata": {
  "kaggle": {
   "accelerator": "none",
   "dataSources": [
    {
     "datasetId": 22090,
     "sourceId": 28376,
     "sourceType": "datasetVersion"
    },
    {
     "datasetId": 6057,
     "sourceId": 285982,
     "sourceType": "datasetVersion"
    }
   ],
   "isGpuEnabled": false,
   "isInternetEnabled": false,
   "language": "python",
   "sourceType": "notebook"
  },
  "kernelspec": {
   "display_name": "Python 3",
   "language": "python",
   "name": "python3"
  },
  "language_info": {
   "codemirror_mode": {
    "name": "ipython",
    "version": 3
   },
   "file_extension": ".py",
   "mimetype": "text/x-python",
   "name": "python",
   "nbconvert_exporter": "python",
   "pygments_lexer": "ipython3",
   "version": "3.10.12"
  },
  "papermill": {
   "default_parameters": {},
   "duration": 15.798636,
   "end_time": "2023-12-18T04:33:09.112309",
   "environment_variables": {},
   "exception": null,
   "input_path": "__notebook__.ipynb",
   "output_path": "__notebook__.ipynb",
   "parameters": {},
   "start_time": "2023-12-18T04:32:53.313673",
   "version": "2.4.0"
  }
 },
 "nbformat": 4,
 "nbformat_minor": 5
}
