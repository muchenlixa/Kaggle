{
 "cells": [
  {
   "cell_type": "markdown",
   "id": "99765b54",
   "metadata": {
    "papermill": {
     "duration": 0.008428,
     "end_time": "2023-12-05T17:20:28.275830",
     "exception": false,
     "start_time": "2023-12-05T17:20:28.267402",
     "status": "completed"
    },
    "tags": []
   },
   "source": [
    "**This notebook is an exercise in the [Intro to Programming](https://www.kaggle.com/learn/intro-to-programming) course.  You can reference the tutorial at [this link](https://www.kaggle.com/alexisbcook/functions).**\n",
    "\n",
    "---\n"
   ]
  },
  {
   "cell_type": "markdown",
   "id": "01ce9588",
   "metadata": {
    "papermill": {
     "duration": 0.004664,
     "end_time": "2023-12-05T17:20:28.285620",
     "exception": false,
     "start_time": "2023-12-05T17:20:28.280956",
     "status": "completed"
    },
    "tags": []
   },
   "source": [
    "In the tutorial, you learned about functions. In this exercise, you'll write some of your own!\n",
    "\n",
    "# Set up the notebook\n",
    "\n",
    "Run the next code cell without changes to set up the notebook."
   ]
  },
  {
   "cell_type": "code",
   "execution_count": 1,
   "id": "ec81d1e6",
   "metadata": {
    "execution": {
     "iopub.execute_input": "2023-12-05T17:20:28.297094Z",
     "iopub.status.busy": "2023-12-05T17:20:28.296704Z",
     "iopub.status.idle": "2023-12-05T17:20:28.671752Z",
     "shell.execute_reply": "2023-12-05T17:20:28.670399Z"
    },
    "papermill": {
     "duration": 0.383486,
     "end_time": "2023-12-05T17:20:28.674026",
     "exception": false,
     "start_time": "2023-12-05T17:20:28.290540",
     "status": "completed"
    },
    "tags": []
   },
   "outputs": [
    {
     "name": "stdout",
     "output_type": "stream",
     "text": [
      "Setup complete.\n"
     ]
    }
   ],
   "source": [
    "# Set up the exercise\n",
    "import math\n",
    "from learntools.core import binder\n",
    "binder.bind(globals())\n",
    "from learntools.intro_to_programming.ex2 import *\n",
    "print('Setup complete.')"
   ]
  },
  {
   "cell_type": "markdown",
   "id": "245107ba",
   "metadata": {
    "papermill": {
     "duration": 0.005255,
     "end_time": "2023-12-05T17:20:28.684966",
     "exception": false,
     "start_time": "2023-12-05T17:20:28.679711",
     "status": "completed"
    },
    "tags": []
   },
   "source": [
    "# Question 1\n",
    "\n",
    "In the [House Prices - Advanced Regression Techniques competition](https://www.kaggle.com/c/house-prices-advanced-regression-techniques/overview), you need to use information like the number of bedrooms and bathrooms to predict the price of a house.  Inspired by this competition, you'll write your own function to do this.\n",
    "\n",
    "In the next code cell, create a function `get_expected_cost()` that has two arguments:\n",
    "- `beds` - number of bedrooms \n",
    "- `baths` - number of bathrooms\n",
    "\n",
    "It should return the expected cost of a house with that number of bedrooms and bathrooms.  Assume that:\n",
    "- the expected cost for a house with 0 bedrooms and 0 bathrooms is `80000`.  \n",
    "- each bedroom adds `30000` to the expected cost\n",
    "- each bathroom adds `10000` to the expected cost.\n",
    "\n",
    "For instance, \n",
    "- a house with 1 bedroom and 1 bathroom has an expected cost of `120000`, and \n",
    "- a house with 2 bedrooms and 1 bathroom has an expected cost of `150000`."
   ]
  },
  {
   "cell_type": "code",
   "execution_count": 2,
   "id": "322d8e79",
   "metadata": {
    "execution": {
     "iopub.execute_input": "2023-12-05T17:20:28.696632Z",
     "iopub.status.busy": "2023-12-05T17:20:28.696096Z",
     "iopub.status.idle": "2023-12-05T17:20:28.705373Z",
     "shell.execute_reply": "2023-12-05T17:20:28.704235Z"
    },
    "papermill": {
     "duration": 0.017754,
     "end_time": "2023-12-05T17:20:28.707731",
     "exception": false,
     "start_time": "2023-12-05T17:20:28.689977",
     "status": "completed"
    },
    "tags": []
   },
   "outputs": [
    {
     "data": {
      "application/javascript": [
       "parent.postMessage({\"jupyterEvent\": \"custom.exercise_interaction\", \"data\": {\"outcomeType\": 1, \"valueTowardsCompletion\": 0.2, \"interactionType\": 1, \"questionType\": 2, \"questionId\": \"1_GetExpectedCost\", \"learnToolsVersion\": \"0.3.4\", \"failureMessage\": \"\", \"exceptionClass\": \"\", \"trace\": \"\"}}, \"*\")"
      ],
      "text/plain": [
       "<IPython.core.display.Javascript object>"
      ]
     },
     "metadata": {},
     "output_type": "display_data"
    },
    {
     "data": {
      "text/markdown": [
       "<span style=\"color:#33cc33\">Correct</span>"
      ],
      "text/plain": [
       "Correct"
      ]
     },
     "metadata": {},
     "output_type": "display_data"
    }
   ],
   "source": [
    "# TODO: Complete the function\n",
    "def get_expected_cost(beds, baths):\n",
    "    value = 80000 + beds * 30000 + baths * 10000\n",
    "    return value\n",
    "\n",
    "# Check your answer \n",
    "q1.check()"
   ]
  },
  {
   "cell_type": "code",
   "execution_count": 3,
   "id": "bc878c16",
   "metadata": {
    "execution": {
     "iopub.execute_input": "2023-12-05T17:20:28.719840Z",
     "iopub.status.busy": "2023-12-05T17:20:28.719473Z",
     "iopub.status.idle": "2023-12-05T17:20:28.724732Z",
     "shell.execute_reply": "2023-12-05T17:20:28.723253Z"
    },
    "papermill": {
     "duration": 0.014105,
     "end_time": "2023-12-05T17:20:28.727242",
     "exception": false,
     "start_time": "2023-12-05T17:20:28.713137",
     "status": "completed"
    },
    "tags": []
   },
   "outputs": [],
   "source": [
    "# Uncomment to see a hint\n",
    "#q1.hint()\n",
    "\n",
    "# Uncomment to view the solution\n",
    "#q1.solution()"
   ]
  },
  {
   "cell_type": "markdown",
   "id": "903169d6",
   "metadata": {
    "papermill": {
     "duration": 0.005482,
     "end_time": "2023-12-05T17:20:28.738278",
     "exception": false,
     "start_time": "2023-12-05T17:20:28.732796",
     "status": "completed"
    },
    "tags": []
   },
   "source": [
    "# Question 2\n",
    "\n",
    "You are thinking about buying a home and want to get an idea of how much you will spend, based on the number of bedrooms and bathrooms.  You are trying to decide between four different options:\n",
    "- Option 1: house with two bedrooms and three bathrooms\n",
    "- Option 2: house with three bedrooms and two bathrooms\n",
    "- Option 3: house with three bedrooms and three bathrooms\n",
    "- Option 4: house with three bedrooms and four bathrooms\n",
    "\n",
    "Use the `get_expected_cost()` function you defined in question 1 to set `option_1`, `option_2`, `option_3`, and `option_4` to the expected cost of each option."
   ]
  },
  {
   "cell_type": "code",
   "execution_count": 4,
   "id": "317546c8",
   "metadata": {
    "execution": {
     "iopub.execute_input": "2023-12-05T17:20:28.750710Z",
     "iopub.status.busy": "2023-12-05T17:20:28.750344Z",
     "iopub.status.idle": "2023-12-05T17:20:28.761162Z",
     "shell.execute_reply": "2023-12-05T17:20:28.759860Z"
    },
    "papermill": {
     "duration": 0.020111,
     "end_time": "2023-12-05T17:20:28.763764",
     "exception": false,
     "start_time": "2023-12-05T17:20:28.743653",
     "status": "completed"
    },
    "tags": []
   },
   "outputs": [
    {
     "name": "stdout",
     "output_type": "stream",
     "text": [
      "170000\n",
      "190000\n",
      "200000\n",
      "210000\n"
     ]
    },
    {
     "data": {
      "application/javascript": [
       "parent.postMessage({\"jupyterEvent\": \"custom.exercise_interaction\", \"data\": {\"outcomeType\": 1, \"valueTowardsCompletion\": 0.2, \"interactionType\": 1, \"questionType\": 1, \"questionId\": \"2_RunGetExpectedCost\", \"learnToolsVersion\": \"0.3.4\", \"failureMessage\": \"\", \"exceptionClass\": \"\", \"trace\": \"\"}}, \"*\")"
      ],
      "text/plain": [
       "<IPython.core.display.Javascript object>"
      ]
     },
     "metadata": {},
     "output_type": "display_data"
    },
    {
     "data": {
      "text/markdown": [
       "<span style=\"color:#33cc33\">Correct</span>"
      ],
      "text/plain": [
       "Correct"
      ]
     },
     "metadata": {},
     "output_type": "display_data"
    }
   ],
   "source": [
    "# TODO: Use the get_expected_cost function to fill in each value\n",
    "option_one = get_expected_cost(2,3)\n",
    "option_two = get_expected_cost(3,2)\n",
    "option_three = get_expected_cost(3,3)\n",
    "option_four = get_expected_cost(3,4)\n",
    "\n",
    "print(option_one)\n",
    "print(option_two)\n",
    "print(option_three)\n",
    "print(option_four)\n",
    "\n",
    "# Check your answer\n",
    "q2.check()"
   ]
  },
  {
   "cell_type": "code",
   "execution_count": 5,
   "id": "e1324b1a",
   "metadata": {
    "execution": {
     "iopub.execute_input": "2023-12-05T17:20:28.777237Z",
     "iopub.status.busy": "2023-12-05T17:20:28.776820Z",
     "iopub.status.idle": "2023-12-05T17:20:28.781665Z",
     "shell.execute_reply": "2023-12-05T17:20:28.780324Z"
    },
    "papermill": {
     "duration": 0.01403,
     "end_time": "2023-12-05T17:20:28.783761",
     "exception": false,
     "start_time": "2023-12-05T17:20:28.769731",
     "status": "completed"
    },
    "tags": []
   },
   "outputs": [],
   "source": [
    "# Uncomment to see a hint\n",
    "#q2.hint()\n",
    "\n",
    "# Uncomment to view the solution\n",
    "#q2.solution()"
   ]
  },
  {
   "cell_type": "markdown",
   "id": "aa93c55a",
   "metadata": {
    "papermill": {
     "duration": 0.005512,
     "end_time": "2023-12-05T17:20:28.795439",
     "exception": false,
     "start_time": "2023-12-05T17:20:28.789927",
     "status": "completed"
    },
    "tags": []
   },
   "source": [
    "# Question 3\n",
    "\n",
    "You're a home decorator, and you'd like to use Python to streamline some of your work.  Specifically, you're creating a tool that you intend to use to calculate the cost of painting a room.\n",
    "\n",
    "As a first step, define a function `get_cost()` that takes as input:\n",
    "- `sqft_walls` = total square feet of walls to be painted\n",
    "- `sqft_ceiling` = square feet of ceiling to be painted\n",
    "- `sqft_per_gallon` = number of square feet that you can cover with one gallon of paint\n",
    "- `cost_per_gallon` = cost (in dollars) of one gallon of paint\n",
    "\n",
    "It should return the cost (in dollars) of putting one coat of paint on all walls and the ceiling.  Assume you can buy the exact amount of paint that you need, so you can buy partial gallons (e.g., if you need 7.523 gallons, you can buy that exact amount, instead of needing to buy 8 gallons and waste some paint).  Do not round your answer."
   ]
  },
  {
   "cell_type": "code",
   "execution_count": 6,
   "id": "36680ba1",
   "metadata": {
    "execution": {
     "iopub.execute_input": "2023-12-05T17:20:28.808385Z",
     "iopub.status.busy": "2023-12-05T17:20:28.807987Z",
     "iopub.status.idle": "2023-12-05T17:20:28.816961Z",
     "shell.execute_reply": "2023-12-05T17:20:28.815809Z"
    },
    "papermill": {
     "duration": 0.017867,
     "end_time": "2023-12-05T17:20:28.818869",
     "exception": false,
     "start_time": "2023-12-05T17:20:28.801002",
     "status": "completed"
    },
    "tags": []
   },
   "outputs": [
    {
     "data": {
      "application/javascript": [
       "parent.postMessage({\"jupyterEvent\": \"custom.exercise_interaction\", \"data\": {\"outcomeType\": 1, \"valueTowardsCompletion\": 0.2, \"interactionType\": 1, \"questionType\": 2, \"questionId\": \"3_GetCostPaint\", \"learnToolsVersion\": \"0.3.4\", \"failureMessage\": \"\", \"exceptionClass\": \"\", \"trace\": \"\"}}, \"*\")"
      ],
      "text/plain": [
       "<IPython.core.display.Javascript object>"
      ]
     },
     "metadata": {},
     "output_type": "display_data"
    },
    {
     "data": {
      "text/markdown": [
       "<span style=\"color:#33cc33\">Correct</span>"
      ],
      "text/plain": [
       "Correct"
      ]
     },
     "metadata": {},
     "output_type": "display_data"
    }
   ],
   "source": [
    "# TODO: Finish defining the function\n",
    "def get_cost(sqft_walls, sqft_ceiling, sqft_per_gallon, cost_per_gallon):\n",
    "    cost = ((sqft_walls + sqft_ceiling) / sqft_per_gallon) * cost_per_gallon\n",
    "    return cost\n",
    "\n",
    "# Check your answer\n",
    "q3.check()"
   ]
  },
  {
   "cell_type": "code",
   "execution_count": 7,
   "id": "0c934ca6",
   "metadata": {
    "execution": {
     "iopub.execute_input": "2023-12-05T17:20:28.834804Z",
     "iopub.status.busy": "2023-12-05T17:20:28.833594Z",
     "iopub.status.idle": "2023-12-05T17:20:28.837645Z",
     "shell.execute_reply": "2023-12-05T17:20:28.837026Z"
    },
    "papermill": {
     "duration": 0.014225,
     "end_time": "2023-12-05T17:20:28.839453",
     "exception": false,
     "start_time": "2023-12-05T17:20:28.825228",
     "status": "completed"
    },
    "tags": []
   },
   "outputs": [],
   "source": [
    "# Uncomment to see a hint\n",
    "#q3.hint()\n",
    "\n",
    "# Uncomment to view the solution\n",
    "#q3.solution()"
   ]
  },
  {
   "cell_type": "markdown",
   "id": "93606f3d",
   "metadata": {
    "papermill": {
     "duration": 0.005555,
     "end_time": "2023-12-05T17:20:28.851115",
     "exception": false,
     "start_time": "2023-12-05T17:20:28.845560",
     "status": "completed"
    },
    "tags": []
   },
   "source": [
    "# Question 4\n",
    "\n",
    "Use the `get_cost()` function you defined in Question 3 to calculate the cost of applying one coat of paint to a room with:\n",
    "- 432 square feet of walls, and\n",
    "- 144 square feet of ceiling.\n",
    "\n",
    "Assume that one gallon of paint covers 400 square feet and costs $15.  As in Question 3, assume you can buy partial gallons of paint.  Do not round your answer."
   ]
  },
  {
   "cell_type": "code",
   "execution_count": 8,
   "id": "14891c82",
   "metadata": {
    "execution": {
     "iopub.execute_input": "2023-12-05T17:20:28.864892Z",
     "iopub.status.busy": "2023-12-05T17:20:28.864277Z",
     "iopub.status.idle": "2023-12-05T17:20:28.871495Z",
     "shell.execute_reply": "2023-12-05T17:20:28.870442Z"
    },
    "papermill": {
     "duration": 0.016653,
     "end_time": "2023-12-05T17:20:28.873605",
     "exception": false,
     "start_time": "2023-12-05T17:20:28.856952",
     "status": "completed"
    },
    "tags": []
   },
   "outputs": [
    {
     "data": {
      "application/javascript": [
       "parent.postMessage({\"jupyterEvent\": \"custom.exercise_interaction\", \"data\": {\"outcomeType\": 1, \"valueTowardsCompletion\": 0.2, \"interactionType\": 1, \"questionType\": 1, \"questionId\": \"4_GetCostPaintExample\", \"learnToolsVersion\": \"0.3.4\", \"failureMessage\": \"\", \"exceptionClass\": \"\", \"trace\": \"\"}}, \"*\")"
      ],
      "text/plain": [
       "<IPython.core.display.Javascript object>"
      ]
     },
     "metadata": {},
     "output_type": "display_data"
    },
    {
     "data": {
      "text/markdown": [
       "<span style=\"color:#33cc33\">Correct</span>"
      ],
      "text/plain": [
       "Correct"
      ]
     },
     "metadata": {},
     "output_type": "display_data"
    }
   ],
   "source": [
    "# TODO: Set the project_cost variable to the cost of the project\n",
    "project_cost = get_cost(432, 144, 400, 15)\n",
    "\n",
    "# Check your answer\n",
    "q4.check()"
   ]
  },
  {
   "cell_type": "code",
   "execution_count": 9,
   "id": "014a86e5",
   "metadata": {
    "execution": {
     "iopub.execute_input": "2023-12-05T17:20:28.887714Z",
     "iopub.status.busy": "2023-12-05T17:20:28.887054Z",
     "iopub.status.idle": "2023-12-05T17:20:28.890567Z",
     "shell.execute_reply": "2023-12-05T17:20:28.889889Z"
    },
    "papermill": {
     "duration": 0.012799,
     "end_time": "2023-12-05T17:20:28.892627",
     "exception": false,
     "start_time": "2023-12-05T17:20:28.879828",
     "status": "completed"
    },
    "tags": []
   },
   "outputs": [],
   "source": [
    "# Uncomment to see a hint\n",
    "#q4.hint()\n",
    "\n",
    "# Uncomment to view the solution\n",
    "#q4.solution()"
   ]
  },
  {
   "cell_type": "markdown",
   "id": "df6c7cb7",
   "metadata": {
    "papermill": {
     "duration": 0.00556,
     "end_time": "2023-12-05T17:20:28.904312",
     "exception": false,
     "start_time": "2023-12-05T17:20:28.898752",
     "status": "completed"
    },
    "tags": []
   },
   "source": [
    "# 🌶️ Question 5\n",
    "\n",
    "Now say you can no longer buy fractions of a gallon.  (For instance, if you need 4.3 gallons to do a project, then you have to buy 5 gallons of paint.)\n",
    "\n",
    "With this new scenario, you will create a new function `get_actual_cost` that uses the same inputs and calculates the cost of your project.\n",
    "\n",
    "One function that you'll need to use to do this is `math.ceil()`.  We demonstrate usage of this function in the code cell below.  It takes as a number as input and rounds the number up to the nearest integer.  \n",
    "\n",
    "Run the next code cell to test this function for yourself.  Feel free to change the value of `test_value` and make sure `math.ceil()` returns the number you expect."
   ]
  },
  {
   "cell_type": "code",
   "execution_count": 10,
   "id": "fa80ba9c",
   "metadata": {
    "execution": {
     "iopub.execute_input": "2023-12-05T17:20:28.917259Z",
     "iopub.status.busy": "2023-12-05T17:20:28.916682Z",
     "iopub.status.idle": "2023-12-05T17:20:28.921136Z",
     "shell.execute_reply": "2023-12-05T17:20:28.920142Z"
    },
    "papermill": {
     "duration": 0.012912,
     "end_time": "2023-12-05T17:20:28.922770",
     "exception": false,
     "start_time": "2023-12-05T17:20:28.909858",
     "status": "completed"
    },
    "tags": []
   },
   "outputs": [
    {
     "name": "stdout",
     "output_type": "stream",
     "text": [
      "3\n"
     ]
    }
   ],
   "source": [
    "test_value = 2.17\n",
    "\n",
    "rounded_value = math.ceil(test_value)\n",
    "print(rounded_value)"
   ]
  },
  {
   "cell_type": "markdown",
   "id": "82a68ebf",
   "metadata": {
    "papermill": {
     "duration": 0.005667,
     "end_time": "2023-12-05T17:20:28.934319",
     "exception": false,
     "start_time": "2023-12-05T17:20:28.928652",
     "status": "completed"
    },
    "tags": []
   },
   "source": [
    "Use the next code cell to define the function `get_actual_cost()`.  You'll need to use the `math.ceil()` function to do this.\n",
    "\n",
    "When answering this question, note that it's completely valid to define a function that makes use of another function.  For instance, we can define a function `round_up_and_divide_by_three` that makes use of the `math.ceil` function:\n",
    "```\n",
    "def round_up_and_divide_by_three(num):\n",
    "    new_value = math.ceil(num)\n",
    "    final_value = new_value / 3\n",
    "    return final_value\n",
    "```"
   ]
  },
  {
   "cell_type": "code",
   "execution_count": 11,
   "id": "38befcf0",
   "metadata": {
    "execution": {
     "iopub.execute_input": "2023-12-05T17:20:28.948777Z",
     "iopub.status.busy": "2023-12-05T17:20:28.948169Z",
     "iopub.status.idle": "2023-12-05T17:20:28.956197Z",
     "shell.execute_reply": "2023-12-05T17:20:28.955356Z"
    },
    "papermill": {
     "duration": 0.017592,
     "end_time": "2023-12-05T17:20:28.957721",
     "exception": false,
     "start_time": "2023-12-05T17:20:28.940129",
     "status": "completed"
    },
    "tags": []
   },
   "outputs": [
    {
     "data": {
      "application/javascript": [
       "parent.postMessage({\"jupyterEvent\": \"custom.exercise_interaction\", \"data\": {\"outcomeType\": 1, \"valueTowardsCompletion\": 0.2, \"interactionType\": 1, \"questionType\": 2, \"questionId\": \"5_NoMoreFractions\", \"learnToolsVersion\": \"0.3.4\", \"failureMessage\": \"\", \"exceptionClass\": \"\", \"trace\": \"\"}}, \"*\")"
      ],
      "text/plain": [
       "<IPython.core.display.Javascript object>"
      ]
     },
     "metadata": {},
     "output_type": "display_data"
    },
    {
     "data": {
      "text/markdown": [
       "<span style=\"color:#33cc33\">Correct</span>"
      ],
      "text/plain": [
       "Correct"
      ]
     },
     "metadata": {},
     "output_type": "display_data"
    }
   ],
   "source": [
    "def get_actual_cost(sqft_walls, sqft_ceiling, sqft_per_gallon, cost_per_gallon):\n",
    "    cost = math.ceil((sqft_walls + sqft_ceiling) / sqft_per_gallon) * cost_per_gallon\n",
    "    return cost\n",
    "\n",
    "# Check your answer\n",
    "q5.check()"
   ]
  },
  {
   "cell_type": "code",
   "execution_count": 12,
   "id": "d1f13f09",
   "metadata": {
    "execution": {
     "iopub.execute_input": "2023-12-05T17:20:28.971939Z",
     "iopub.status.busy": "2023-12-05T17:20:28.971570Z",
     "iopub.status.idle": "2023-12-05T17:20:28.975965Z",
     "shell.execute_reply": "2023-12-05T17:20:28.974635Z"
    },
    "papermill": {
     "duration": 0.014277,
     "end_time": "2023-12-05T17:20:28.978283",
     "exception": false,
     "start_time": "2023-12-05T17:20:28.964006",
     "status": "completed"
    },
    "tags": []
   },
   "outputs": [],
   "source": [
    "# Uncomment to see a hint\n",
    "#q5.hint()\n",
    "\n",
    "# Uncomment to view the solution\n",
    "#q5.solution()"
   ]
  },
  {
   "cell_type": "markdown",
   "id": "aaffd57f",
   "metadata": {
    "papermill": {
     "duration": 0.006243,
     "end_time": "2023-12-05T17:20:28.991105",
     "exception": false,
     "start_time": "2023-12-05T17:20:28.984862",
     "status": "completed"
    },
    "tags": []
   },
   "source": [
    "Once your function is verified as correct, run the next code cell to calculate the updated cost of your project."
   ]
  },
  {
   "cell_type": "code",
   "execution_count": 13,
   "id": "7fecea22",
   "metadata": {
    "execution": {
     "iopub.execute_input": "2023-12-05T17:20:29.006042Z",
     "iopub.status.busy": "2023-12-05T17:20:29.005427Z",
     "iopub.status.idle": "2023-12-05T17:20:29.011139Z",
     "shell.execute_reply": "2023-12-05T17:20:29.010400Z"
    },
    "papermill": {
     "duration": 0.015271,
     "end_time": "2023-12-05T17:20:29.012849",
     "exception": false,
     "start_time": "2023-12-05T17:20:28.997578",
     "status": "completed"
    },
    "tags": []
   },
   "outputs": [
    {
     "data": {
      "text/plain": [
       "30"
      ]
     },
     "execution_count": 13,
     "metadata": {},
     "output_type": "execute_result"
    }
   ],
   "source": [
    "get_actual_cost(432, 144, 400, 15) "
   ]
  },
  {
   "cell_type": "markdown",
   "id": "22fedb77",
   "metadata": {
    "papermill": {
     "duration": 0.005979,
     "end_time": "2023-12-05T17:20:29.025209",
     "exception": false,
     "start_time": "2023-12-05T17:20:29.019230",
     "status": "completed"
    },
    "tags": []
   },
   "source": [
    "Say you're working with a slightly larger room.  Run the next code cell to calculate the cost of the project."
   ]
  },
  {
   "cell_type": "code",
   "execution_count": 14,
   "id": "5c3099fb",
   "metadata": {
    "execution": {
     "iopub.execute_input": "2023-12-05T17:20:29.040064Z",
     "iopub.status.busy": "2023-12-05T17:20:29.039443Z",
     "iopub.status.idle": "2023-12-05T17:20:29.045888Z",
     "shell.execute_reply": "2023-12-05T17:20:29.044658Z"
    },
    "papermill": {
     "duration": 0.016883,
     "end_time": "2023-12-05T17:20:29.048458",
     "exception": false,
     "start_time": "2023-12-05T17:20:29.031575",
     "status": "completed"
    },
    "tags": []
   },
   "outputs": [
    {
     "data": {
      "text/plain": [
       "45"
      ]
     },
     "execution_count": 14,
     "metadata": {},
     "output_type": "execute_result"
    }
   ],
   "source": [
    "get_actual_cost(594, 288, 400, 15) "
   ]
  },
  {
   "cell_type": "markdown",
   "id": "fb2a9569",
   "metadata": {
    "papermill": {
     "duration": 0.006213,
     "end_time": "2023-12-05T17:20:29.061692",
     "exception": false,
     "start_time": "2023-12-05T17:20:29.055479",
     "status": "completed"
    },
    "tags": []
   },
   "source": [
    "# Keep going\n",
    "\n",
    "Continue to learn about **[data types](https://www.kaggle.com/alexisbcook/data-types)**."
   ]
  },
  {
   "cell_type": "markdown",
   "id": "5fb980e1",
   "metadata": {
    "papermill": {
     "duration": 0.006358,
     "end_time": "2023-12-05T17:20:29.074392",
     "exception": false,
     "start_time": "2023-12-05T17:20:29.068034",
     "status": "completed"
    },
    "tags": []
   },
   "source": [
    "---\n",
    "\n",
    "\n",
    "\n",
    "\n",
    "*Have questions or comments? Visit the [course discussion forum](https://www.kaggle.com/learn/intro-to-programming/discussion) to chat with other learners.*"
   ]
  }
 ],
 "metadata": {
  "kaggle": {
   "accelerator": "none",
   "dataSources": [],
   "isGpuEnabled": false,
   "isInternetEnabled": false,
   "language": "python",
   "sourceType": "notebook"
  },
  "kernelspec": {
   "display_name": "Python 3",
   "language": "python",
   "name": "python3"
  },
  "language_info": {
   "codemirror_mode": {
    "name": "ipython",
    "version": 3
   },
   "file_extension": ".py",
   "mimetype": "text/x-python",
   "name": "python",
   "nbconvert_exporter": "python",
   "pygments_lexer": "ipython3",
   "version": "3.10.12"
  },
  "papermill": {
   "default_parameters": {},
   "duration": 3.859498,
   "end_time": "2023-12-05T17:20:29.501323",
   "environment_variables": {},
   "exception": null,
   "input_path": "__notebook__.ipynb",
   "output_path": "__notebook__.ipynb",
   "parameters": {},
   "start_time": "2023-12-05T17:20:25.641825",
   "version": "2.4.0"
  }
 },
 "nbformat": 4,
 "nbformat_minor": 5
}
