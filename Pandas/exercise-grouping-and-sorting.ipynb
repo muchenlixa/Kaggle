{
 "cells": [
  {
   "cell_type": "markdown",
   "id": "3a7f6edd",
   "metadata": {
    "papermill": {
     "duration": 0.005973,
     "end_time": "2023-12-12T06:23:32.624007",
     "exception": false,
     "start_time": "2023-12-12T06:23:32.618034",
     "status": "completed"
    },
    "tags": []
   },
   "source": [
    "**This notebook is an exercise in the [Pandas](https://www.kaggle.com/learn/pandas) course.  You can reference the tutorial at [this link](https://www.kaggle.com/residentmario/grouping-and-sorting).**\n",
    "\n",
    "---\n"
   ]
  },
  {
   "cell_type": "markdown",
   "id": "0b51838f",
   "metadata": {
    "papermill": {
     "duration": 0.005026,
     "end_time": "2023-12-12T06:23:32.634398",
     "exception": false,
     "start_time": "2023-12-12T06:23:32.629372",
     "status": "completed"
    },
    "tags": []
   },
   "source": [
    "# Introduction\n",
    "\n",
    "In these exercises we'll apply groupwise analysis to our dataset.\n",
    "\n",
    "Run the code cell below to load the data before running the exercises."
   ]
  },
  {
   "cell_type": "code",
   "execution_count": 1,
   "id": "0f64bb7e",
   "metadata": {
    "execution": {
     "iopub.execute_input": "2023-12-12T06:23:32.647384Z",
     "iopub.status.busy": "2023-12-12T06:23:32.646680Z",
     "iopub.status.idle": "2023-12-12T06:23:35.631655Z",
     "shell.execute_reply": "2023-12-12T06:23:35.630999Z"
    },
    "papermill": {
     "duration": 2.994474,
     "end_time": "2023-12-12T06:23:35.634094",
     "exception": false,
     "start_time": "2023-12-12T06:23:32.639620",
     "status": "completed"
    },
    "tags": []
   },
   "outputs": [
    {
     "name": "stdout",
     "output_type": "stream",
     "text": [
      "Setup complete.\n"
     ]
    }
   ],
   "source": [
    "import pandas as pd\n",
    "\n",
    "reviews = pd.read_csv(\"../input/wine-reviews/winemag-data-130k-v2.csv\", index_col=0)\n",
    "#pd.set_option(\"display.max_rows\", 5)\n",
    "\n",
    "from learntools.core import binder; binder.bind(globals())\n",
    "from learntools.pandas.grouping_and_sorting import *\n",
    "print(\"Setup complete.\")"
   ]
  },
  {
   "cell_type": "code",
   "execution_count": 2,
   "id": "ad3bb095",
   "metadata": {
    "execution": {
     "iopub.execute_input": "2023-12-12T06:23:35.648528Z",
     "iopub.status.busy": "2023-12-12T06:23:35.648021Z",
     "iopub.status.idle": "2023-12-12T06:23:35.665700Z",
     "shell.execute_reply": "2023-12-12T06:23:35.664795Z"
    },
    "papermill": {
     "duration": 0.026733,
     "end_time": "2023-12-12T06:23:35.667870",
     "exception": false,
     "start_time": "2023-12-12T06:23:35.641137",
     "status": "completed"
    },
    "tags": []
   },
   "outputs": [
    {
     "data": {
      "text/html": [
       "<div>\n",
       "<style scoped>\n",
       "    .dataframe tbody tr th:only-of-type {\n",
       "        vertical-align: middle;\n",
       "    }\n",
       "\n",
       "    .dataframe tbody tr th {\n",
       "        vertical-align: top;\n",
       "    }\n",
       "\n",
       "    .dataframe thead th {\n",
       "        text-align: right;\n",
       "    }\n",
       "</style>\n",
       "<table border=\"1\" class=\"dataframe\">\n",
       "  <thead>\n",
       "    <tr style=\"text-align: right;\">\n",
       "      <th></th>\n",
       "      <th>country</th>\n",
       "      <th>description</th>\n",
       "      <th>designation</th>\n",
       "      <th>points</th>\n",
       "      <th>price</th>\n",
       "      <th>province</th>\n",
       "      <th>region_1</th>\n",
       "      <th>region_2</th>\n",
       "      <th>taster_name</th>\n",
       "      <th>taster_twitter_handle</th>\n",
       "      <th>title</th>\n",
       "      <th>variety</th>\n",
       "      <th>winery</th>\n",
       "    </tr>\n",
       "  </thead>\n",
       "  <tbody>\n",
       "    <tr>\n",
       "      <th>0</th>\n",
       "      <td>Italy</td>\n",
       "      <td>Aromas include tropical fruit, broom, brimston...</td>\n",
       "      <td>Vulkà Bianco</td>\n",
       "      <td>87</td>\n",
       "      <td>NaN</td>\n",
       "      <td>Sicily &amp; Sardinia</td>\n",
       "      <td>Etna</td>\n",
       "      <td>NaN</td>\n",
       "      <td>Kerin O’Keefe</td>\n",
       "      <td>@kerinokeefe</td>\n",
       "      <td>Nicosia 2013 Vulkà Bianco  (Etna)</td>\n",
       "      <td>White Blend</td>\n",
       "      <td>Nicosia</td>\n",
       "    </tr>\n",
       "    <tr>\n",
       "      <th>1</th>\n",
       "      <td>Portugal</td>\n",
       "      <td>This is ripe and fruity, a wine that is smooth...</td>\n",
       "      <td>Avidagos</td>\n",
       "      <td>87</td>\n",
       "      <td>15.0</td>\n",
       "      <td>Douro</td>\n",
       "      <td>NaN</td>\n",
       "      <td>NaN</td>\n",
       "      <td>Roger Voss</td>\n",
       "      <td>@vossroger</td>\n",
       "      <td>Quinta dos Avidagos 2011 Avidagos Red (Douro)</td>\n",
       "      <td>Portuguese Red</td>\n",
       "      <td>Quinta dos Avidagos</td>\n",
       "    </tr>\n",
       "    <tr>\n",
       "      <th>2</th>\n",
       "      <td>US</td>\n",
       "      <td>Tart and snappy, the flavors of lime flesh and...</td>\n",
       "      <td>NaN</td>\n",
       "      <td>87</td>\n",
       "      <td>14.0</td>\n",
       "      <td>Oregon</td>\n",
       "      <td>Willamette Valley</td>\n",
       "      <td>Willamette Valley</td>\n",
       "      <td>Paul Gregutt</td>\n",
       "      <td>@paulgwine</td>\n",
       "      <td>Rainstorm 2013 Pinot Gris (Willamette Valley)</td>\n",
       "      <td>Pinot Gris</td>\n",
       "      <td>Rainstorm</td>\n",
       "    </tr>\n",
       "    <tr>\n",
       "      <th>3</th>\n",
       "      <td>US</td>\n",
       "      <td>Pineapple rind, lemon pith and orange blossom ...</td>\n",
       "      <td>Reserve Late Harvest</td>\n",
       "      <td>87</td>\n",
       "      <td>13.0</td>\n",
       "      <td>Michigan</td>\n",
       "      <td>Lake Michigan Shore</td>\n",
       "      <td>NaN</td>\n",
       "      <td>Alexander Peartree</td>\n",
       "      <td>NaN</td>\n",
       "      <td>St. Julian 2013 Reserve Late Harvest Riesling ...</td>\n",
       "      <td>Riesling</td>\n",
       "      <td>St. Julian</td>\n",
       "    </tr>\n",
       "    <tr>\n",
       "      <th>4</th>\n",
       "      <td>US</td>\n",
       "      <td>Much like the regular bottling from 2012, this...</td>\n",
       "      <td>Vintner's Reserve Wild Child Block</td>\n",
       "      <td>87</td>\n",
       "      <td>65.0</td>\n",
       "      <td>Oregon</td>\n",
       "      <td>Willamette Valley</td>\n",
       "      <td>Willamette Valley</td>\n",
       "      <td>Paul Gregutt</td>\n",
       "      <td>@paulgwine</td>\n",
       "      <td>Sweet Cheeks 2012 Vintner's Reserve Wild Child...</td>\n",
       "      <td>Pinot Noir</td>\n",
       "      <td>Sweet Cheeks</td>\n",
       "    </tr>\n",
       "  </tbody>\n",
       "</table>\n",
       "</div>"
      ],
      "text/plain": [
       "    country                                        description  \\\n",
       "0     Italy  Aromas include tropical fruit, broom, brimston...   \n",
       "1  Portugal  This is ripe and fruity, a wine that is smooth...   \n",
       "2        US  Tart and snappy, the flavors of lime flesh and...   \n",
       "3        US  Pineapple rind, lemon pith and orange blossom ...   \n",
       "4        US  Much like the regular bottling from 2012, this...   \n",
       "\n",
       "                          designation  points  price           province  \\\n",
       "0                        Vulkà Bianco      87    NaN  Sicily & Sardinia   \n",
       "1                            Avidagos      87   15.0              Douro   \n",
       "2                                 NaN      87   14.0             Oregon   \n",
       "3                Reserve Late Harvest      87   13.0           Michigan   \n",
       "4  Vintner's Reserve Wild Child Block      87   65.0             Oregon   \n",
       "\n",
       "              region_1           region_2         taster_name  \\\n",
       "0                 Etna                NaN       Kerin O’Keefe   \n",
       "1                  NaN                NaN          Roger Voss   \n",
       "2    Willamette Valley  Willamette Valley        Paul Gregutt   \n",
       "3  Lake Michigan Shore                NaN  Alexander Peartree   \n",
       "4    Willamette Valley  Willamette Valley        Paul Gregutt   \n",
       "\n",
       "  taster_twitter_handle                                              title  \\\n",
       "0          @kerinokeefe                  Nicosia 2013 Vulkà Bianco  (Etna)   \n",
       "1            @vossroger      Quinta dos Avidagos 2011 Avidagos Red (Douro)   \n",
       "2           @paulgwine       Rainstorm 2013 Pinot Gris (Willamette Valley)   \n",
       "3                   NaN  St. Julian 2013 Reserve Late Harvest Riesling ...   \n",
       "4           @paulgwine   Sweet Cheeks 2012 Vintner's Reserve Wild Child...   \n",
       "\n",
       "          variety               winery  \n",
       "0     White Blend              Nicosia  \n",
       "1  Portuguese Red  Quinta dos Avidagos  \n",
       "2      Pinot Gris            Rainstorm  \n",
       "3        Riesling           St. Julian  \n",
       "4      Pinot Noir         Sweet Cheeks  "
      ]
     },
     "execution_count": 2,
     "metadata": {},
     "output_type": "execute_result"
    }
   ],
   "source": [
    "reviews.head()"
   ]
  },
  {
   "cell_type": "markdown",
   "id": "f7bf38ed",
   "metadata": {
    "papermill": {
     "duration": 0.006599,
     "end_time": "2023-12-12T06:23:35.680663",
     "exception": false,
     "start_time": "2023-12-12T06:23:35.674064",
     "status": "completed"
    },
    "tags": []
   },
   "source": [
    "# Exercises"
   ]
  },
  {
   "cell_type": "markdown",
   "id": "706dee1f",
   "metadata": {
    "papermill": {
     "duration": 0.006033,
     "end_time": "2023-12-12T06:23:35.693299",
     "exception": false,
     "start_time": "2023-12-12T06:23:35.687266",
     "status": "completed"
    },
    "tags": []
   },
   "source": [
    "## 1.\n",
    "Who are the most common wine reviewers in the dataset? Create a `Series` whose index is the `taster_twitter_handle` category from the dataset, and whose values count how many reviews each person wrote."
   ]
  },
  {
   "cell_type": "code",
   "execution_count": 3,
   "id": "6ed69151",
   "metadata": {
    "execution": {
     "iopub.execute_input": "2023-12-12T06:23:35.707316Z",
     "iopub.status.busy": "2023-12-12T06:23:35.706949Z",
     "iopub.status.idle": "2023-12-12T06:23:35.725643Z",
     "shell.execute_reply": "2023-12-12T06:23:35.724815Z"
    },
    "papermill": {
     "duration": 0.028849,
     "end_time": "2023-12-12T06:23:35.728347",
     "exception": false,
     "start_time": "2023-12-12T06:23:35.699498",
     "status": "completed"
    },
    "tags": []
   },
   "outputs": [
    {
     "data": {
      "application/javascript": [
       "parent.postMessage({\"jupyterEvent\": \"custom.exercise_interaction\", \"data\": {\"outcomeType\": 1, \"valueTowardsCompletion\": 0.16666666666666666, \"interactionType\": 1, \"questionType\": 1, \"questionId\": \"1_ReviewsWritten\", \"learnToolsVersion\": \"0.3.4\", \"failureMessage\": \"\", \"exceptionClass\": \"\", \"trace\": \"\"}}, \"*\")"
      ],
      "text/plain": [
       "<IPython.core.display.Javascript object>"
      ]
     },
     "metadata": {},
     "output_type": "display_data"
    },
    {
     "data": {
      "text/markdown": [
       "<span style=\"color:#33cc33\">Correct:</span> \n",
       "\n",
       "\n",
       "```python\n",
       "reviews_written = reviews.groupby('taster_twitter_handle').size()\n",
       "```\n",
       "or\n",
       "```python\n",
       "reviews_written = reviews.groupby('taster_twitter_handle').taster_twitter_handle.count()\n",
       "```\n"
      ],
      "text/plain": [
       "Correct: \n",
       "\n",
       "\n",
       "```python\n",
       "reviews_written = reviews.groupby('taster_twitter_handle').size()\n",
       "```\n",
       "or\n",
       "```python\n",
       "reviews_written = reviews.groupby('taster_twitter_handle').taster_twitter_handle.count()\n",
       "```"
      ]
     },
     "metadata": {},
     "output_type": "display_data"
    }
   ],
   "source": [
    "# Your code here\n",
    "reviews_written = reviews.groupby('taster_twitter_handle').size()\n",
    "\n",
    "# Check your answer\n",
    "q1.check()"
   ]
  },
  {
   "cell_type": "code",
   "execution_count": 4,
   "id": "aff80dc9",
   "metadata": {
    "execution": {
     "iopub.execute_input": "2023-12-12T06:23:35.742236Z",
     "iopub.status.busy": "2023-12-12T06:23:35.741914Z",
     "iopub.status.idle": "2023-12-12T06:23:35.752221Z",
     "shell.execute_reply": "2023-12-12T06:23:35.751353Z"
    },
    "papermill": {
     "duration": 0.019144,
     "end_time": "2023-12-12T06:23:35.754080",
     "exception": false,
     "start_time": "2023-12-12T06:23:35.734936",
     "status": "completed"
    },
    "tags": []
   },
   "outputs": [
    {
     "data": {
      "application/javascript": [
       "parent.postMessage({\"jupyterEvent\": \"custom.exercise_interaction\", \"data\": {\"interactionType\": 2, \"questionType\": 1, \"questionId\": \"1_ReviewsWritten\", \"learnToolsVersion\": \"0.3.4\", \"valueTowardsCompletion\": 0.0, \"failureMessage\": \"\", \"exceptionClass\": \"\", \"trace\": \"\", \"outcomeType\": 4}}, \"*\")"
      ],
      "text/plain": [
       "<IPython.core.display.Javascript object>"
      ]
     },
     "metadata": {},
     "output_type": "display_data"
    },
    {
     "data": {
      "text/markdown": [
       "<span style=\"color:#3366cc\">Hint:</span> Use the `groupby` operation and `size()` (or `count()`)."
      ],
      "text/plain": [
       "Hint: Use the `groupby` operation and `size()` (or `count()`)."
      ]
     },
     "metadata": {},
     "output_type": "display_data"
    },
    {
     "data": {
      "application/javascript": [
       "parent.postMessage({\"jupyterEvent\": \"custom.exercise_interaction\", \"data\": {\"interactionType\": 3, \"questionType\": 1, \"questionId\": \"1_ReviewsWritten\", \"learnToolsVersion\": \"0.3.4\", \"valueTowardsCompletion\": 0.0, \"failureMessage\": \"\", \"exceptionClass\": \"\", \"trace\": \"\", \"outcomeType\": 4}}, \"*\")"
      ],
      "text/plain": [
       "<IPython.core.display.Javascript object>"
      ]
     },
     "metadata": {},
     "output_type": "display_data"
    },
    {
     "data": {
      "text/markdown": [
       "<span style=\"color:#33cc99\">Solution:</span> \n",
       "```python\n",
       "reviews_written = reviews.groupby('taster_twitter_handle').size()\n",
       "```\n",
       "or\n",
       "```python\n",
       "reviews_written = reviews.groupby('taster_twitter_handle').taster_twitter_handle.count()\n",
       "```\n"
      ],
      "text/plain": [
       "Solution: \n",
       "```python\n",
       "reviews_written = reviews.groupby('taster_twitter_handle').size()\n",
       "```\n",
       "or\n",
       "```python\n",
       "reviews_written = reviews.groupby('taster_twitter_handle').taster_twitter_handle.count()\n",
       "```"
      ]
     },
     "metadata": {},
     "output_type": "display_data"
    }
   ],
   "source": [
    "q1.hint()\n",
    "q1.solution()"
   ]
  },
  {
   "cell_type": "markdown",
   "id": "d00c598f",
   "metadata": {
    "papermill": {
     "duration": 0.006845,
     "end_time": "2023-12-12T06:23:35.768078",
     "exception": false,
     "start_time": "2023-12-12T06:23:35.761233",
     "status": "completed"
    },
    "tags": []
   },
   "source": [
    "## 2.\n",
    "What is the best wine I can buy for a given amount of money? Create a `Series` whose index is wine prices and whose values is the maximum number of points a wine costing that much was given in a review. Sort the values by price, ascending (so that `4.0` dollars is at the top and `3300.0` dollars is at the bottom)."
   ]
  },
  {
   "cell_type": "code",
   "execution_count": 5,
   "id": "d7e49df3",
   "metadata": {
    "execution": {
     "iopub.execute_input": "2023-12-12T06:23:35.782844Z",
     "iopub.status.busy": "2023-12-12T06:23:35.782451Z",
     "iopub.status.idle": "2023-12-12T06:23:35.795846Z",
     "shell.execute_reply": "2023-12-12T06:23:35.794319Z"
    },
    "papermill": {
     "duration": 0.023804,
     "end_time": "2023-12-12T06:23:35.798195",
     "exception": false,
     "start_time": "2023-12-12T06:23:35.774391",
     "status": "completed"
    },
    "tags": []
   },
   "outputs": [
    {
     "data": {
      "application/javascript": [
       "parent.postMessage({\"jupyterEvent\": \"custom.exercise_interaction\", \"data\": {\"outcomeType\": 1, \"valueTowardsCompletion\": 0.16666666666666666, \"interactionType\": 1, \"questionType\": 1, \"questionId\": \"2_BestRatingPerPrice\", \"learnToolsVersion\": \"0.3.4\", \"failureMessage\": \"\", \"exceptionClass\": \"\", \"trace\": \"\"}}, \"*\")"
      ],
      "text/plain": [
       "<IPython.core.display.Javascript object>"
      ]
     },
     "metadata": {},
     "output_type": "display_data"
    },
    {
     "data": {
      "text/markdown": [
       "<span style=\"color:#33cc33\">Correct</span>"
      ],
      "text/plain": [
       "Correct"
      ]
     },
     "metadata": {},
     "output_type": "display_data"
    }
   ],
   "source": [
    "# best_rating_per_price = reviews.groupby('price').points.max().reset_index().sort_values(by='price')\n",
    "best_rating_per_price = reviews.groupby('price').points.max().sort_index()\n",
    "\n",
    "# Check your answer\n",
    "q2.check()"
   ]
  },
  {
   "cell_type": "code",
   "execution_count": 6,
   "id": "8e0a92a3",
   "metadata": {
    "execution": {
     "iopub.execute_input": "2023-12-12T06:23:35.814250Z",
     "iopub.status.busy": "2023-12-12T06:23:35.813043Z",
     "iopub.status.idle": "2023-12-12T06:23:35.827908Z",
     "shell.execute_reply": "2023-12-12T06:23:35.826243Z"
    },
    "papermill": {
     "duration": 0.025843,
     "end_time": "2023-12-12T06:23:35.830720",
     "exception": false,
     "start_time": "2023-12-12T06:23:35.804877",
     "status": "completed"
    },
    "tags": []
   },
   "outputs": [
    {
     "data": {
      "application/javascript": [
       "parent.postMessage({\"jupyterEvent\": \"custom.exercise_interaction\", \"data\": {\"interactionType\": 2, \"questionType\": 1, \"questionId\": \"2_BestRatingPerPrice\", \"learnToolsVersion\": \"0.3.4\", \"valueTowardsCompletion\": 0.0, \"failureMessage\": \"\", \"exceptionClass\": \"\", \"trace\": \"\", \"outcomeType\": 4}}, \"*\")"
      ],
      "text/plain": [
       "<IPython.core.display.Javascript object>"
      ]
     },
     "metadata": {},
     "output_type": "display_data"
    },
    {
     "data": {
      "text/markdown": [
       "<span style=\"color:#3366cc\">Hint:</span> Use `max()` and `sort_index()`.  The relevant columns in the DataFrame are `price` and `points`."
      ],
      "text/plain": [
       "Hint: Use `max()` and `sort_index()`.  The relevant columns in the DataFrame are `price` and `points`."
      ]
     },
     "metadata": {},
     "output_type": "display_data"
    },
    {
     "data": {
      "application/javascript": [
       "parent.postMessage({\"jupyterEvent\": \"custom.exercise_interaction\", \"data\": {\"interactionType\": 3, \"questionType\": 1, \"questionId\": \"2_BestRatingPerPrice\", \"learnToolsVersion\": \"0.3.4\", \"valueTowardsCompletion\": 0.0, \"failureMessage\": \"\", \"exceptionClass\": \"\", \"trace\": \"\", \"outcomeType\": 4}}, \"*\")"
      ],
      "text/plain": [
       "<IPython.core.display.Javascript object>"
      ]
     },
     "metadata": {},
     "output_type": "display_data"
    },
    {
     "data": {
      "text/markdown": [
       "<span style=\"color:#33cc99\">Solution:</span> \n",
       "```python\n",
       "best_rating_per_price = reviews.groupby('price')['points'].max().sort_index()\n",
       "```"
      ],
      "text/plain": [
       "Solution: \n",
       "```python\n",
       "best_rating_per_price = reviews.groupby('price')['points'].max().sort_index()\n",
       "```"
      ]
     },
     "metadata": {},
     "output_type": "display_data"
    }
   ],
   "source": [
    "q2.hint()\n",
    "q2.solution()"
   ]
  },
  {
   "cell_type": "markdown",
   "id": "46cfd840",
   "metadata": {
    "papermill": {
     "duration": 0.006624,
     "end_time": "2023-12-12T06:23:35.844623",
     "exception": false,
     "start_time": "2023-12-12T06:23:35.837999",
     "status": "completed"
    },
    "tags": []
   },
   "source": [
    "## 3.\n",
    "What are the minimum and maximum prices for each `variety` of wine? Create a `DataFrame` whose index is the `variety` category from the dataset and whose values are the `min` and `max` values thereof."
   ]
  },
  {
   "cell_type": "code",
   "execution_count": 7,
   "id": "e31e9e9e",
   "metadata": {
    "execution": {
     "iopub.execute_input": "2023-12-12T06:23:35.860966Z",
     "iopub.status.busy": "2023-12-12T06:23:35.860458Z",
     "iopub.status.idle": "2023-12-12T06:23:35.884746Z",
     "shell.execute_reply": "2023-12-12T06:23:35.884045Z"
    },
    "papermill": {
     "duration": 0.035174,
     "end_time": "2023-12-12T06:23:35.886385",
     "exception": false,
     "start_time": "2023-12-12T06:23:35.851211",
     "status": "completed"
    },
    "tags": []
   },
   "outputs": [
    {
     "data": {
      "application/javascript": [
       "parent.postMessage({\"jupyterEvent\": \"custom.exercise_interaction\", \"data\": {\"outcomeType\": 1, \"valueTowardsCompletion\": 0.16666666666666666, \"interactionType\": 1, \"questionType\": 1, \"questionId\": \"3_PriceExtremes\", \"learnToolsVersion\": \"0.3.4\", \"failureMessage\": \"\", \"exceptionClass\": \"\", \"trace\": \"\"}}, \"*\")"
      ],
      "text/plain": [
       "<IPython.core.display.Javascript object>"
      ]
     },
     "metadata": {},
     "output_type": "display_data"
    },
    {
     "data": {
      "text/markdown": [
       "<span style=\"color:#33cc33\">Correct</span>"
      ],
      "text/plain": [
       "Correct"
      ]
     },
     "metadata": {},
     "output_type": "display_data"
    }
   ],
   "source": [
    "price_extremes = reviews.groupby('variety').price.agg([min,max])\n",
    "\n",
    "# Check your answer\n",
    "q3.check()"
   ]
  },
  {
   "cell_type": "code",
   "execution_count": 8,
   "id": "792f082b",
   "metadata": {
    "execution": {
     "iopub.execute_input": "2023-12-12T06:23:35.902391Z",
     "iopub.status.busy": "2023-12-12T06:23:35.901958Z",
     "iopub.status.idle": "2023-12-12T06:23:35.908237Z",
     "shell.execute_reply": "2023-12-12T06:23:35.906034Z"
    },
    "papermill": {
     "duration": 0.01744,
     "end_time": "2023-12-12T06:23:35.910865",
     "exception": false,
     "start_time": "2023-12-12T06:23:35.893425",
     "status": "completed"
    },
    "tags": []
   },
   "outputs": [],
   "source": [
    "#q3.hint()\n",
    "#q3.solution()"
   ]
  },
  {
   "cell_type": "markdown",
   "id": "0506b5e7",
   "metadata": {
    "papermill": {
     "duration": 0.006686,
     "end_time": "2023-12-12T06:23:35.924919",
     "exception": false,
     "start_time": "2023-12-12T06:23:35.918233",
     "status": "completed"
    },
    "tags": []
   },
   "source": [
    "## 4.\n",
    "What are the most expensive wine varieties? Create a variable `sorted_varieties` containing a copy of the dataframe from the previous question where varieties are sorted in descending order based on minimum price, then on maximum price (to break ties)."
   ]
  },
  {
   "cell_type": "code",
   "execution_count": 9,
   "id": "468efea9",
   "metadata": {
    "execution": {
     "iopub.execute_input": "2023-12-12T06:23:35.940863Z",
     "iopub.status.busy": "2023-12-12T06:23:35.940372Z",
     "iopub.status.idle": "2023-12-12T06:23:35.952655Z",
     "shell.execute_reply": "2023-12-12T06:23:35.951707Z"
    },
    "papermill": {
     "duration": 0.02274,
     "end_time": "2023-12-12T06:23:35.954415",
     "exception": false,
     "start_time": "2023-12-12T06:23:35.931675",
     "status": "completed"
    },
    "tags": []
   },
   "outputs": [
    {
     "data": {
      "application/javascript": [
       "parent.postMessage({\"jupyterEvent\": \"custom.exercise_interaction\", \"data\": {\"outcomeType\": 1, \"valueTowardsCompletion\": 0.16666666666666666, \"interactionType\": 1, \"questionType\": 1, \"questionId\": \"4_SortedVarieties\", \"learnToolsVersion\": \"0.3.4\", \"failureMessage\": \"\", \"exceptionClass\": \"\", \"trace\": \"\"}}, \"*\")"
      ],
      "text/plain": [
       "<IPython.core.display.Javascript object>"
      ]
     },
     "metadata": {},
     "output_type": "display_data"
    },
    {
     "data": {
      "text/markdown": [
       "<span style=\"color:#33cc33\">Correct</span>"
      ],
      "text/plain": [
       "Correct"
      ]
     },
     "metadata": {},
     "output_type": "display_data"
    }
   ],
   "source": [
    "#sorted_varieties = price_extremes.reset_index().sort_values(by=['min','max'])\n",
    "sorted_varieties = price_extremes.sort_values(by=['min','max'],ascending=False)\n",
    "# Check your answer\n",
    "q4.check()"
   ]
  },
  {
   "cell_type": "code",
   "execution_count": 10,
   "id": "e6444a1a",
   "metadata": {
    "execution": {
     "iopub.execute_input": "2023-12-12T06:23:35.970705Z",
     "iopub.status.busy": "2023-12-12T06:23:35.970278Z",
     "iopub.status.idle": "2023-12-12T06:23:35.984289Z",
     "shell.execute_reply": "2023-12-12T06:23:35.983473Z"
    },
    "papermill": {
     "duration": 0.024153,
     "end_time": "2023-12-12T06:23:35.985855",
     "exception": false,
     "start_time": "2023-12-12T06:23:35.961702",
     "status": "completed"
    },
    "tags": []
   },
   "outputs": [
    {
     "data": {
      "application/javascript": [
       "parent.postMessage({\"jupyterEvent\": \"custom.exercise_interaction\", \"data\": {\"interactionType\": 2, \"questionType\": 1, \"questionId\": \"4_SortedVarieties\", \"learnToolsVersion\": \"0.3.4\", \"valueTowardsCompletion\": 0.0, \"failureMessage\": \"\", \"exceptionClass\": \"\", \"trace\": \"\", \"outcomeType\": 4}}, \"*\")"
      ],
      "text/plain": [
       "<IPython.core.display.Javascript object>"
      ]
     },
     "metadata": {},
     "output_type": "display_data"
    },
    {
     "data": {
      "text/markdown": [
       "<span style=\"color:#3366cc\">Hint:</span> Use `sort_values()`, and provide a list of names to sort by."
      ],
      "text/plain": [
       "Hint: Use `sort_values()`, and provide a list of names to sort by."
      ]
     },
     "metadata": {},
     "output_type": "display_data"
    },
    {
     "data": {
      "application/javascript": [
       "parent.postMessage({\"jupyterEvent\": \"custom.exercise_interaction\", \"data\": {\"interactionType\": 3, \"questionType\": 1, \"questionId\": \"4_SortedVarieties\", \"learnToolsVersion\": \"0.3.4\", \"valueTowardsCompletion\": 0.0, \"failureMessage\": \"\", \"exceptionClass\": \"\", \"trace\": \"\", \"outcomeType\": 4}}, \"*\")"
      ],
      "text/plain": [
       "<IPython.core.display.Javascript object>"
      ]
     },
     "metadata": {},
     "output_type": "display_data"
    },
    {
     "data": {
      "text/markdown": [
       "<span style=\"color:#33cc99\">Solution:</span> \n",
       "```python\n",
       "sorted_varieties = price_extremes.sort_values(by=['min', 'max'], ascending=False)\n",
       "```"
      ],
      "text/plain": [
       "Solution: \n",
       "```python\n",
       "sorted_varieties = price_extremes.sort_values(by=['min', 'max'], ascending=False)\n",
       "```"
      ]
     },
     "metadata": {},
     "output_type": "display_data"
    }
   ],
   "source": [
    "q4.hint()\n",
    "q4.solution()"
   ]
  },
  {
   "cell_type": "markdown",
   "id": "9a26e1e0",
   "metadata": {
    "papermill": {
     "duration": 0.007255,
     "end_time": "2023-12-12T06:23:36.000800",
     "exception": false,
     "start_time": "2023-12-12T06:23:35.993545",
     "status": "completed"
    },
    "tags": []
   },
   "source": [
    "## 5.\n",
    "Create a `Series` whose index is reviewers and whose values is the average review score given out by that reviewer. Hint: you will need the `taster_name` and `points` columns."
   ]
  },
  {
   "cell_type": "code",
   "execution_count": 11,
   "id": "ea3de4aa",
   "metadata": {
    "execution": {
     "iopub.execute_input": "2023-12-12T06:23:36.019259Z",
     "iopub.status.busy": "2023-12-12T06:23:36.018387Z",
     "iopub.status.idle": "2023-12-12T06:23:36.040234Z",
     "shell.execute_reply": "2023-12-12T06:23:36.038650Z"
    },
    "papermill": {
     "duration": 0.033832,
     "end_time": "2023-12-12T06:23:36.042850",
     "exception": false,
     "start_time": "2023-12-12T06:23:36.009018",
     "status": "completed"
    },
    "tags": []
   },
   "outputs": [
    {
     "data": {
      "application/javascript": [
       "parent.postMessage({\"jupyterEvent\": \"custom.exercise_interaction\", \"data\": {\"outcomeType\": 1, \"valueTowardsCompletion\": 0.16666666666666666, \"interactionType\": 1, \"questionType\": 1, \"questionId\": \"5_ReviewerMeanRatings\", \"learnToolsVersion\": \"0.3.4\", \"failureMessage\": \"\", \"exceptionClass\": \"\", \"trace\": \"\"}}, \"*\")"
      ],
      "text/plain": [
       "<IPython.core.display.Javascript object>"
      ]
     },
     "metadata": {},
     "output_type": "display_data"
    },
    {
     "data": {
      "text/markdown": [
       "<span style=\"color:#33cc33\">Correct</span>"
      ],
      "text/plain": [
       "Correct"
      ]
     },
     "metadata": {},
     "output_type": "display_data"
    }
   ],
   "source": [
    "reviewer_mean_ratings = reviews.groupby('taster_name').points.mean()\n",
    "\n",
    "# Check your answer\n",
    "q5.check()"
   ]
  },
  {
   "cell_type": "code",
   "execution_count": 12,
   "id": "0c83e288",
   "metadata": {
    "execution": {
     "iopub.execute_input": "2023-12-12T06:23:36.061675Z",
     "iopub.status.busy": "2023-12-12T06:23:36.061175Z",
     "iopub.status.idle": "2023-12-12T06:23:36.065865Z",
     "shell.execute_reply": "2023-12-12T06:23:36.064687Z"
    },
    "papermill": {
     "duration": 0.016532,
     "end_time": "2023-12-12T06:23:36.067708",
     "exception": false,
     "start_time": "2023-12-12T06:23:36.051176",
     "status": "completed"
    },
    "tags": []
   },
   "outputs": [],
   "source": [
    "#q5.hint()\n",
    "#q5.solution()"
   ]
  },
  {
   "cell_type": "markdown",
   "id": "d3fe4503",
   "metadata": {
    "papermill": {
     "duration": 0.007646,
     "end_time": "2023-12-12T06:23:36.084006",
     "exception": false,
     "start_time": "2023-12-12T06:23:36.076360",
     "status": "completed"
    },
    "tags": []
   },
   "source": [
    "Are there significant differences in the average scores assigned by the various reviewers? Run the cell below to use the `describe()` method to see a summary of the range of values."
   ]
  },
  {
   "cell_type": "code",
   "execution_count": 13,
   "id": "aed57b8e",
   "metadata": {
    "execution": {
     "iopub.execute_input": "2023-12-12T06:23:36.103465Z",
     "iopub.status.busy": "2023-12-12T06:23:36.103084Z",
     "iopub.status.idle": "2023-12-12T06:23:36.116821Z",
     "shell.execute_reply": "2023-12-12T06:23:36.115396Z"
    },
    "papermill": {
     "duration": 0.027238,
     "end_time": "2023-12-12T06:23:36.118971",
     "exception": false,
     "start_time": "2023-12-12T06:23:36.091733",
     "status": "completed"
    },
    "tags": []
   },
   "outputs": [
    {
     "data": {
      "text/plain": [
       "count    19.000000\n",
       "mean     88.233026\n",
       "std       1.243610\n",
       "min      85.855422\n",
       "25%      87.323501\n",
       "50%      88.536235\n",
       "75%      88.975256\n",
       "max      90.562551\n",
       "Name: points, dtype: float64"
      ]
     },
     "execution_count": 13,
     "metadata": {},
     "output_type": "execute_result"
    }
   ],
   "source": [
    "reviewer_mean_ratings.describe()"
   ]
  },
  {
   "cell_type": "markdown",
   "id": "0641bfee",
   "metadata": {
    "papermill": {
     "duration": 0.009681,
     "end_time": "2023-12-12T06:23:36.138372",
     "exception": false,
     "start_time": "2023-12-12T06:23:36.128691",
     "status": "completed"
    },
    "tags": []
   },
   "source": [
    "## 6.\n",
    "What combination of countries and varieties are most common? Create a `Series` whose index is a `MultiIndex`of `{country, variety}` pairs. For example, a pinot noir produced in the US should map to `{\"US\", \"Pinot Noir\"}`. Sort the values in the `Series` in descending order based on wine count."
   ]
  },
  {
   "cell_type": "code",
   "execution_count": 14,
   "id": "3648e026",
   "metadata": {
    "execution": {
     "iopub.execute_input": "2023-12-12T06:23:36.158470Z",
     "iopub.status.busy": "2023-12-12T06:23:36.158081Z",
     "iopub.status.idle": "2023-12-12T06:23:36.190777Z",
     "shell.execute_reply": "2023-12-12T06:23:36.189220Z"
    },
    "papermill": {
     "duration": 0.045684,
     "end_time": "2023-12-12T06:23:36.193508",
     "exception": false,
     "start_time": "2023-12-12T06:23:36.147824",
     "status": "completed"
    },
    "tags": []
   },
   "outputs": [
    {
     "data": {
      "application/javascript": [
       "parent.postMessage({\"jupyterEvent\": \"custom.exercise_interaction\", \"data\": {\"outcomeType\": 1, \"valueTowardsCompletion\": 0.16666666666666666, \"interactionType\": 1, \"questionType\": 1, \"questionId\": \"6_GroupbyCountryVariety\", \"learnToolsVersion\": \"0.3.4\", \"failureMessage\": \"\", \"exceptionClass\": \"\", \"trace\": \"\"}}, \"*\")"
      ],
      "text/plain": [
       "<IPython.core.display.Javascript object>"
      ]
     },
     "metadata": {},
     "output_type": "display_data"
    },
    {
     "data": {
      "text/markdown": [
       "<span style=\"color:#33cc33\">Correct</span>"
      ],
      "text/plain": [
       "Correct"
      ]
     },
     "metadata": {},
     "output_type": "display_data"
    }
   ],
   "source": [
    "country_variety_counts = reviews.groupby(['country','variety']).points.count().sort_values(ascending=False)\n",
    "\n",
    "\n",
    "# Check your answer\n",
    "q6.check()"
   ]
  },
  {
   "cell_type": "code",
   "execution_count": 15,
   "id": "9f5e6465",
   "metadata": {
    "execution": {
     "iopub.execute_input": "2023-12-12T06:23:36.216001Z",
     "iopub.status.busy": "2023-12-12T06:23:36.215387Z",
     "iopub.status.idle": "2023-12-12T06:23:36.226496Z",
     "shell.execute_reply": "2023-12-12T06:23:36.225190Z"
    },
    "papermill": {
     "duration": 0.025116,
     "end_time": "2023-12-12T06:23:36.229308",
     "exception": false,
     "start_time": "2023-12-12T06:23:36.204192",
     "status": "completed"
    },
    "tags": []
   },
   "outputs": [
    {
     "data": {
      "application/javascript": [
       "parent.postMessage({\"jupyterEvent\": \"custom.exercise_interaction\", \"data\": {\"interactionType\": 2, \"questionType\": 1, \"questionId\": \"6_GroupbyCountryVariety\", \"learnToolsVersion\": \"0.3.4\", \"valueTowardsCompletion\": 0.0, \"failureMessage\": \"\", \"exceptionClass\": \"\", \"trace\": \"\", \"outcomeType\": 4}}, \"*\")"
      ],
      "text/plain": [
       "<IPython.core.display.Javascript object>"
      ]
     },
     "metadata": {},
     "output_type": "display_data"
    },
    {
     "data": {
      "text/markdown": [
       "<span style=\"color:#3366cc\">Hint:</span> Use `groupby()`, and provide a list of columns to group by.  You may also find `size()` and `sort_values()` to be useful!"
      ],
      "text/plain": [
       "Hint: Use `groupby()`, and provide a list of columns to group by.  You may also find `size()` and `sort_values()` to be useful!"
      ]
     },
     "metadata": {},
     "output_type": "display_data"
    },
    {
     "data": {
      "application/javascript": [
       "parent.postMessage({\"jupyterEvent\": \"custom.exercise_interaction\", \"data\": {\"interactionType\": 3, \"questionType\": 1, \"questionId\": \"6_GroupbyCountryVariety\", \"learnToolsVersion\": \"0.3.4\", \"valueTowardsCompletion\": 0.0, \"failureMessage\": \"\", \"exceptionClass\": \"\", \"trace\": \"\", \"outcomeType\": 4}}, \"*\")"
      ],
      "text/plain": [
       "<IPython.core.display.Javascript object>"
      ]
     },
     "metadata": {},
     "output_type": "display_data"
    },
    {
     "data": {
      "text/markdown": [
       "<span style=\"color:#33cc99\">Solution:</span> \n",
       "```python\n",
       "country_variety_counts = reviews.groupby(['country', 'variety']).size().sort_values(ascending=False)\n",
       "```"
      ],
      "text/plain": [
       "Solution: \n",
       "```python\n",
       "country_variety_counts = reviews.groupby(['country', 'variety']).size().sort_values(ascending=False)\n",
       "```"
      ]
     },
     "metadata": {},
     "output_type": "display_data"
    }
   ],
   "source": [
    "q6.hint()\n",
    "q6.solution()"
   ]
  },
  {
   "cell_type": "markdown",
   "id": "a27910ae",
   "metadata": {
    "papermill": {
     "duration": 0.009009,
     "end_time": "2023-12-12T06:23:36.247745",
     "exception": false,
     "start_time": "2023-12-12T06:23:36.238736",
     "status": "completed"
    },
    "tags": []
   },
   "source": [
    "# Keep going\n",
    "\n",
    "Move on to the [**data types and missing data**](https://www.kaggle.com/residentmario/data-types-and-missing-values)."
   ]
  },
  {
   "cell_type": "markdown",
   "id": "9c0b8687",
   "metadata": {
    "papermill": {
     "duration": 0.00981,
     "end_time": "2023-12-12T06:23:36.268008",
     "exception": false,
     "start_time": "2023-12-12T06:23:36.258198",
     "status": "completed"
    },
    "tags": []
   },
   "source": [
    "---\n",
    "\n",
    "\n",
    "\n",
    "\n",
    "*Have questions or comments? Visit the [course discussion forum](https://www.kaggle.com/learn/pandas/discussion) to chat with other learners.*"
   ]
  }
 ],
 "metadata": {
  "kaggle": {
   "accelerator": "none",
   "dataSources": [
    {
     "datasetId": 655,
     "sourceId": 1252,
     "sourceType": "datasetVersion"
    },
    {
     "datasetId": 2321,
     "sourceId": 3919,
     "sourceType": "datasetVersion"
    },
    {
     "datasetId": 2894,
     "sourceId": 4877,
     "sourceType": "datasetVersion"
    },
    {
     "datasetId": 3491,
     "sourceId": 5624,
     "sourceType": "datasetVersion"
    },
    {
     "datasetId": 1442,
     "sourceId": 8172,
     "sourceType": "datasetVersion"
    },
    {
     "datasetId": 9366,
     "sourceId": 13206,
     "sourceType": "datasetVersion"
    },
    {
     "datasetId": 179555,
     "sourceId": 403916,
     "sourceType": "datasetVersion"
    },
    {
     "datasetId": 4549,
     "sourceId": 466349,
     "sourceType": "datasetVersion"
    },
    {
     "datasetId": 2478,
     "sourceId": 1151655,
     "sourceType": "datasetVersion"
    },
    {
     "datasetId": 10128,
     "sourceId": 5438389,
     "sourceType": "datasetVersion"
    }
   ],
   "isGpuEnabled": false,
   "isInternetEnabled": false,
   "language": "python",
   "sourceType": "notebook"
  },
  "kernelspec": {
   "display_name": "Python 3",
   "language": "python",
   "name": "python3"
  },
  "language_info": {
   "codemirror_mode": {
    "name": "ipython",
    "version": 3
   },
   "file_extension": ".py",
   "mimetype": "text/x-python",
   "name": "python",
   "nbconvert_exporter": "python",
   "pygments_lexer": "ipython3",
   "version": "3.10.12"
  },
  "papermill": {
   "default_parameters": {},
   "duration": 6.661625,
   "end_time": "2023-12-12T06:23:36.799061",
   "environment_variables": {},
   "exception": null,
   "input_path": "__notebook__.ipynb",
   "output_path": "__notebook__.ipynb",
   "parameters": {},
   "start_time": "2023-12-12T06:23:30.137436",
   "version": "2.4.0"
  }
 },
 "nbformat": 4,
 "nbformat_minor": 5
}
