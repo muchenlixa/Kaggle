{
 "cells": [
  {
   "cell_type": "markdown",
   "id": "5a40ca20",
   "metadata": {
    "papermill": {
     "duration": 0.008254,
     "end_time": "2023-12-12T04:09:24.379742",
     "exception": false,
     "start_time": "2023-12-12T04:09:24.371488",
     "status": "completed"
    },
    "tags": []
   },
   "source": [
    "**This notebook is an exercise in the [Pandas](https://www.kaggle.com/learn/pandas) course.  You can reference the tutorial at [this link](https://www.kaggle.com/residentmario/renaming-and-combining).**\n",
    "\n",
    "---\n"
   ]
  },
  {
   "cell_type": "markdown",
   "id": "6dbb806d",
   "metadata": {
    "papermill": {
     "duration": 0.008133,
     "end_time": "2023-12-12T04:09:24.397701",
     "exception": false,
     "start_time": "2023-12-12T04:09:24.389568",
     "status": "completed"
    },
    "tags": []
   },
   "source": [
    "# Introduction\n",
    "\n",
    "Run the following cell to load your data and some utility functions."
   ]
  },
  {
   "cell_type": "code",
   "execution_count": 1,
   "id": "cc3dfd18",
   "metadata": {
    "execution": {
     "iopub.execute_input": "2023-12-12T04:09:24.415622Z",
     "iopub.status.busy": "2023-12-12T04:09:24.414906Z",
     "iopub.status.idle": "2023-12-12T04:09:29.300324Z",
     "shell.execute_reply": "2023-12-12T04:09:29.299083Z"
    },
    "papermill": {
     "duration": 4.897582,
     "end_time": "2023-12-12T04:09:29.303136",
     "exception": false,
     "start_time": "2023-12-12T04:09:24.405554",
     "status": "completed"
    },
    "tags": []
   },
   "outputs": [
    {
     "name": "stdout",
     "output_type": "stream",
     "text": [
      "Setup complete.\n"
     ]
    }
   ],
   "source": [
    "import pandas as pd\n",
    "\n",
    "reviews = pd.read_csv(\"../input/wine-reviews/winemag-data-130k-v2.csv\", index_col=0)\n",
    "\n",
    "from learntools.core import binder; binder.bind(globals())\n",
    "from learntools.pandas.renaming_and_combining import *\n",
    "print(\"Setup complete.\")"
   ]
  },
  {
   "cell_type": "markdown",
   "id": "4ecabbe2",
   "metadata": {
    "papermill": {
     "duration": 0.007771,
     "end_time": "2023-12-12T04:09:29.319287",
     "exception": false,
     "start_time": "2023-12-12T04:09:29.311516",
     "status": "completed"
    },
    "tags": []
   },
   "source": [
    "# Exercises\n",
    "\n",
    "View the first several lines of your data by running the cell below:"
   ]
  },
  {
   "cell_type": "code",
   "execution_count": 2,
   "id": "64a3f97e",
   "metadata": {
    "execution": {
     "iopub.execute_input": "2023-12-12T04:09:29.337252Z",
     "iopub.status.busy": "2023-12-12T04:09:29.336622Z",
     "iopub.status.idle": "2023-12-12T04:09:29.359857Z",
     "shell.execute_reply": "2023-12-12T04:09:29.358770Z"
    },
    "papermill": {
     "duration": 0.034995,
     "end_time": "2023-12-12T04:09:29.362247",
     "exception": false,
     "start_time": "2023-12-12T04:09:29.327252",
     "status": "completed"
    },
    "tags": []
   },
   "outputs": [
    {
     "data": {
      "text/html": [
       "<div>\n",
       "<style scoped>\n",
       "    .dataframe tbody tr th:only-of-type {\n",
       "        vertical-align: middle;\n",
       "    }\n",
       "\n",
       "    .dataframe tbody tr th {\n",
       "        vertical-align: top;\n",
       "    }\n",
       "\n",
       "    .dataframe thead th {\n",
       "        text-align: right;\n",
       "    }\n",
       "</style>\n",
       "<table border=\"1\" class=\"dataframe\">\n",
       "  <thead>\n",
       "    <tr style=\"text-align: right;\">\n",
       "      <th></th>\n",
       "      <th>country</th>\n",
       "      <th>description</th>\n",
       "      <th>designation</th>\n",
       "      <th>points</th>\n",
       "      <th>price</th>\n",
       "      <th>province</th>\n",
       "      <th>region_1</th>\n",
       "      <th>region_2</th>\n",
       "      <th>taster_name</th>\n",
       "      <th>taster_twitter_handle</th>\n",
       "      <th>title</th>\n",
       "      <th>variety</th>\n",
       "      <th>winery</th>\n",
       "    </tr>\n",
       "  </thead>\n",
       "  <tbody>\n",
       "    <tr>\n",
       "      <th>0</th>\n",
       "      <td>Italy</td>\n",
       "      <td>Aromas include tropical fruit, broom, brimston...</td>\n",
       "      <td>Vulkà Bianco</td>\n",
       "      <td>87</td>\n",
       "      <td>NaN</td>\n",
       "      <td>Sicily &amp; Sardinia</td>\n",
       "      <td>Etna</td>\n",
       "      <td>NaN</td>\n",
       "      <td>Kerin O’Keefe</td>\n",
       "      <td>@kerinokeefe</td>\n",
       "      <td>Nicosia 2013 Vulkà Bianco  (Etna)</td>\n",
       "      <td>White Blend</td>\n",
       "      <td>Nicosia</td>\n",
       "    </tr>\n",
       "    <tr>\n",
       "      <th>1</th>\n",
       "      <td>Portugal</td>\n",
       "      <td>This is ripe and fruity, a wine that is smooth...</td>\n",
       "      <td>Avidagos</td>\n",
       "      <td>87</td>\n",
       "      <td>15.0</td>\n",
       "      <td>Douro</td>\n",
       "      <td>NaN</td>\n",
       "      <td>NaN</td>\n",
       "      <td>Roger Voss</td>\n",
       "      <td>@vossroger</td>\n",
       "      <td>Quinta dos Avidagos 2011 Avidagos Red (Douro)</td>\n",
       "      <td>Portuguese Red</td>\n",
       "      <td>Quinta dos Avidagos</td>\n",
       "    </tr>\n",
       "    <tr>\n",
       "      <th>2</th>\n",
       "      <td>US</td>\n",
       "      <td>Tart and snappy, the flavors of lime flesh and...</td>\n",
       "      <td>NaN</td>\n",
       "      <td>87</td>\n",
       "      <td>14.0</td>\n",
       "      <td>Oregon</td>\n",
       "      <td>Willamette Valley</td>\n",
       "      <td>Willamette Valley</td>\n",
       "      <td>Paul Gregutt</td>\n",
       "      <td>@paulgwine</td>\n",
       "      <td>Rainstorm 2013 Pinot Gris (Willamette Valley)</td>\n",
       "      <td>Pinot Gris</td>\n",
       "      <td>Rainstorm</td>\n",
       "    </tr>\n",
       "    <tr>\n",
       "      <th>3</th>\n",
       "      <td>US</td>\n",
       "      <td>Pineapple rind, lemon pith and orange blossom ...</td>\n",
       "      <td>Reserve Late Harvest</td>\n",
       "      <td>87</td>\n",
       "      <td>13.0</td>\n",
       "      <td>Michigan</td>\n",
       "      <td>Lake Michigan Shore</td>\n",
       "      <td>NaN</td>\n",
       "      <td>Alexander Peartree</td>\n",
       "      <td>NaN</td>\n",
       "      <td>St. Julian 2013 Reserve Late Harvest Riesling ...</td>\n",
       "      <td>Riesling</td>\n",
       "      <td>St. Julian</td>\n",
       "    </tr>\n",
       "    <tr>\n",
       "      <th>4</th>\n",
       "      <td>US</td>\n",
       "      <td>Much like the regular bottling from 2012, this...</td>\n",
       "      <td>Vintner's Reserve Wild Child Block</td>\n",
       "      <td>87</td>\n",
       "      <td>65.0</td>\n",
       "      <td>Oregon</td>\n",
       "      <td>Willamette Valley</td>\n",
       "      <td>Willamette Valley</td>\n",
       "      <td>Paul Gregutt</td>\n",
       "      <td>@paulgwine</td>\n",
       "      <td>Sweet Cheeks 2012 Vintner's Reserve Wild Child...</td>\n",
       "      <td>Pinot Noir</td>\n",
       "      <td>Sweet Cheeks</td>\n",
       "    </tr>\n",
       "  </tbody>\n",
       "</table>\n",
       "</div>"
      ],
      "text/plain": [
       "    country                                        description  \\\n",
       "0     Italy  Aromas include tropical fruit, broom, brimston...   \n",
       "1  Portugal  This is ripe and fruity, a wine that is smooth...   \n",
       "2        US  Tart and snappy, the flavors of lime flesh and...   \n",
       "3        US  Pineapple rind, lemon pith and orange blossom ...   \n",
       "4        US  Much like the regular bottling from 2012, this...   \n",
       "\n",
       "                          designation  points  price           province  \\\n",
       "0                        Vulkà Bianco      87    NaN  Sicily & Sardinia   \n",
       "1                            Avidagos      87   15.0              Douro   \n",
       "2                                 NaN      87   14.0             Oregon   \n",
       "3                Reserve Late Harvest      87   13.0           Michigan   \n",
       "4  Vintner's Reserve Wild Child Block      87   65.0             Oregon   \n",
       "\n",
       "              region_1           region_2         taster_name  \\\n",
       "0                 Etna                NaN       Kerin O’Keefe   \n",
       "1                  NaN                NaN          Roger Voss   \n",
       "2    Willamette Valley  Willamette Valley        Paul Gregutt   \n",
       "3  Lake Michigan Shore                NaN  Alexander Peartree   \n",
       "4    Willamette Valley  Willamette Valley        Paul Gregutt   \n",
       "\n",
       "  taster_twitter_handle                                              title  \\\n",
       "0          @kerinokeefe                  Nicosia 2013 Vulkà Bianco  (Etna)   \n",
       "1            @vossroger      Quinta dos Avidagos 2011 Avidagos Red (Douro)   \n",
       "2           @paulgwine       Rainstorm 2013 Pinot Gris (Willamette Valley)   \n",
       "3                   NaN  St. Julian 2013 Reserve Late Harvest Riesling ...   \n",
       "4           @paulgwine   Sweet Cheeks 2012 Vintner's Reserve Wild Child...   \n",
       "\n",
       "          variety               winery  \n",
       "0     White Blend              Nicosia  \n",
       "1  Portuguese Red  Quinta dos Avidagos  \n",
       "2      Pinot Gris            Rainstorm  \n",
       "3        Riesling           St. Julian  \n",
       "4      Pinot Noir         Sweet Cheeks  "
      ]
     },
     "execution_count": 2,
     "metadata": {},
     "output_type": "execute_result"
    }
   ],
   "source": [
    "reviews.head()"
   ]
  },
  {
   "cell_type": "markdown",
   "id": "414e04c1",
   "metadata": {
    "papermill": {
     "duration": 0.008012,
     "end_time": "2023-12-12T04:09:29.378414",
     "exception": false,
     "start_time": "2023-12-12T04:09:29.370402",
     "status": "completed"
    },
    "tags": []
   },
   "source": [
    "## 1.\n",
    "`region_1` and `region_2` are pretty uninformative names for locale columns in the dataset. Create a copy of `reviews` with these columns renamed to `region` and `locale`, respectively."
   ]
  },
  {
   "cell_type": "code",
   "execution_count": 3,
   "id": "8e72cc07",
   "metadata": {
    "execution": {
     "iopub.execute_input": "2023-12-12T04:09:29.396337Z",
     "iopub.status.busy": "2023-12-12T04:09:29.395963Z",
     "iopub.status.idle": "2023-12-12T04:09:29.421519Z",
     "shell.execute_reply": "2023-12-12T04:09:29.420369Z"
    },
    "papermill": {
     "duration": 0.03706,
     "end_time": "2023-12-12T04:09:29.423705",
     "exception": false,
     "start_time": "2023-12-12T04:09:29.386645",
     "status": "completed"
    },
    "tags": []
   },
   "outputs": [
    {
     "data": {
      "application/javascript": [
       "parent.postMessage({\"jupyterEvent\": \"custom.exercise_interaction\", \"data\": {\"outcomeType\": 1, \"valueTowardsCompletion\": 0.25, \"interactionType\": 1, \"questionType\": 1, \"questionId\": \"1_RenameCols\", \"learnToolsVersion\": \"0.3.4\", \"failureMessage\": \"\", \"exceptionClass\": \"\", \"trace\": \"\"}}, \"*\")"
      ],
      "text/plain": [
       "<IPython.core.display.Javascript object>"
      ]
     },
     "metadata": {},
     "output_type": "display_data"
    },
    {
     "data": {
      "text/markdown": [
       "<span style=\"color:#33cc33\">Correct</span>"
      ],
      "text/plain": [
       "Correct"
      ]
     },
     "metadata": {},
     "output_type": "display_data"
    }
   ],
   "source": [
    "# Your code here\n",
    "renamed = reviews.rename(columns={'region_1':'region','region_2':'locale'})\n",
    "\n",
    "# Check your answer\n",
    "q1.check()"
   ]
  },
  {
   "cell_type": "code",
   "execution_count": 4,
   "id": "26c7c5ab",
   "metadata": {
    "execution": {
     "iopub.execute_input": "2023-12-12T04:09:29.442436Z",
     "iopub.status.busy": "2023-12-12T04:09:29.442017Z",
     "iopub.status.idle": "2023-12-12T04:09:29.454109Z",
     "shell.execute_reply": "2023-12-12T04:09:29.453178Z"
    },
    "papermill": {
     "duration": 0.023975,
     "end_time": "2023-12-12T04:09:29.456305",
     "exception": false,
     "start_time": "2023-12-12T04:09:29.432330",
     "status": "completed"
    },
    "tags": []
   },
   "outputs": [
    {
     "data": {
      "application/javascript": [
       "parent.postMessage({\"jupyterEvent\": \"custom.exercise_interaction\", \"data\": {\"interactionType\": 2, \"questionType\": 1, \"questionId\": \"1_RenameCols\", \"learnToolsVersion\": \"0.3.4\", \"valueTowardsCompletion\": 0.0, \"failureMessage\": \"\", \"exceptionClass\": \"\", \"trace\": \"\", \"outcomeType\": 4}}, \"*\")"
      ],
      "text/plain": [
       "<IPython.core.display.Javascript object>"
      ]
     },
     "metadata": {},
     "output_type": "display_data"
    },
    {
     "data": {
      "text/markdown": [
       "<span style=\"color:#3366cc\">Hint:</span> Use `rename()`, and specify a `columns` parameter."
      ],
      "text/plain": [
       "Hint: Use `rename()`, and specify a `columns` parameter."
      ]
     },
     "metadata": {},
     "output_type": "display_data"
    },
    {
     "data": {
      "application/javascript": [
       "parent.postMessage({\"jupyterEvent\": \"custom.exercise_interaction\", \"data\": {\"interactionType\": 3, \"questionType\": 1, \"questionId\": \"1_RenameCols\", \"learnToolsVersion\": \"0.3.4\", \"valueTowardsCompletion\": 0.0, \"failureMessage\": \"\", \"exceptionClass\": \"\", \"trace\": \"\", \"outcomeType\": 4}}, \"*\")"
      ],
      "text/plain": [
       "<IPython.core.display.Javascript object>"
      ]
     },
     "metadata": {},
     "output_type": "display_data"
    },
    {
     "data": {
      "text/markdown": [
       "<span style=\"color:#33cc99\">Solution:</span> \n",
       "```python\n",
       "renamed = reviews.rename(columns=dict(region_1='region', region_2='locale'))\n",
       "```"
      ],
      "text/plain": [
       "Solution: \n",
       "```python\n",
       "renamed = reviews.rename(columns=dict(region_1='region', region_2='locale'))\n",
       "```"
      ]
     },
     "metadata": {},
     "output_type": "display_data"
    }
   ],
   "source": [
    "q1.hint()\n",
    "q1.solution()"
   ]
  },
  {
   "cell_type": "markdown",
   "id": "8e49eaf0",
   "metadata": {
    "papermill": {
     "duration": 0.008999,
     "end_time": "2023-12-12T04:09:29.474745",
     "exception": false,
     "start_time": "2023-12-12T04:09:29.465746",
     "status": "completed"
    },
    "tags": []
   },
   "source": [
    "## 2.\n",
    "Set the index name in the dataset to `wines`."
   ]
  },
  {
   "cell_type": "code",
   "execution_count": 5,
   "id": "56d18221",
   "metadata": {
    "execution": {
     "iopub.execute_input": "2023-12-12T04:09:29.495192Z",
     "iopub.status.busy": "2023-12-12T04:09:29.494760Z",
     "iopub.status.idle": "2023-12-12T04:09:29.516368Z",
     "shell.execute_reply": "2023-12-12T04:09:29.515344Z"
    },
    "papermill": {
     "duration": 0.034626,
     "end_time": "2023-12-12T04:09:29.518796",
     "exception": false,
     "start_time": "2023-12-12T04:09:29.484170",
     "status": "completed"
    },
    "tags": []
   },
   "outputs": [
    {
     "data": {
      "application/javascript": [
       "parent.postMessage({\"jupyterEvent\": \"custom.exercise_interaction\", \"data\": {\"outcomeType\": 1, \"valueTowardsCompletion\": 0.25, \"interactionType\": 1, \"questionType\": 1, \"questionId\": \"2_RenameIndex\", \"learnToolsVersion\": \"0.3.4\", \"failureMessage\": \"\", \"exceptionClass\": \"\", \"trace\": \"\"}}, \"*\")"
      ],
      "text/plain": [
       "<IPython.core.display.Javascript object>"
      ]
     },
     "metadata": {},
     "output_type": "display_data"
    },
    {
     "data": {
      "text/markdown": [
       "<span style=\"color:#33cc33\">Correct</span>"
      ],
      "text/plain": [
       "Correct"
      ]
     },
     "metadata": {},
     "output_type": "display_data"
    }
   ],
   "source": [
    "reindexed = reviews.rename_axis('wines',axis='rows')\n",
    "\n",
    "# Check your answer\n",
    "q2.check()"
   ]
  },
  {
   "cell_type": "code",
   "execution_count": 6,
   "id": "0e6aaeb9",
   "metadata": {
    "execution": {
     "iopub.execute_input": "2023-12-12T04:09:29.540036Z",
     "iopub.status.busy": "2023-12-12T04:09:29.539589Z",
     "iopub.status.idle": "2023-12-12T04:09:29.552035Z",
     "shell.execute_reply": "2023-12-12T04:09:29.551039Z"
    },
    "papermill": {
     "duration": 0.025945,
     "end_time": "2023-12-12T04:09:29.554412",
     "exception": false,
     "start_time": "2023-12-12T04:09:29.528467",
     "status": "completed"
    },
    "tags": []
   },
   "outputs": [
    {
     "data": {
      "application/javascript": [
       "parent.postMessage({\"jupyterEvent\": \"custom.exercise_interaction\", \"data\": {\"interactionType\": 2, \"questionType\": 1, \"questionId\": \"2_RenameIndex\", \"learnToolsVersion\": \"0.3.4\", \"valueTowardsCompletion\": 0.0, \"failureMessage\": \"\", \"exceptionClass\": \"\", \"trace\": \"\", \"outcomeType\": 4}}, \"*\")"
      ],
      "text/plain": [
       "<IPython.core.display.Javascript object>"
      ]
     },
     "metadata": {},
     "output_type": "display_data"
    },
    {
     "data": {
      "text/markdown": [
       "<span style=\"color:#3366cc\">Hint:</span> Use the `rename_axis()` method."
      ],
      "text/plain": [
       "Hint: Use the `rename_axis()` method."
      ]
     },
     "metadata": {},
     "output_type": "display_data"
    },
    {
     "data": {
      "application/javascript": [
       "parent.postMessage({\"jupyterEvent\": \"custom.exercise_interaction\", \"data\": {\"interactionType\": 3, \"questionType\": 1, \"questionId\": \"2_RenameIndex\", \"learnToolsVersion\": \"0.3.4\", \"valueTowardsCompletion\": 0.0, \"failureMessage\": \"\", \"exceptionClass\": \"\", \"trace\": \"\", \"outcomeType\": 4}}, \"*\")"
      ],
      "text/plain": [
       "<IPython.core.display.Javascript object>"
      ]
     },
     "metadata": {},
     "output_type": "display_data"
    },
    {
     "data": {
      "text/markdown": [
       "<span style=\"color:#33cc99\">Solution:</span> \n",
       "```python\n",
       "reindexed = reviews.rename_axis('wines', axis='rows')\n",
       "```"
      ],
      "text/plain": [
       "Solution: \n",
       "```python\n",
       "reindexed = reviews.rename_axis('wines', axis='rows')\n",
       "```"
      ]
     },
     "metadata": {},
     "output_type": "display_data"
    }
   ],
   "source": [
    "q2.hint()\n",
    "q2.solution()"
   ]
  },
  {
   "cell_type": "markdown",
   "id": "b0f15327",
   "metadata": {
    "papermill": {
     "duration": 0.009758,
     "end_time": "2023-12-12T04:09:29.574180",
     "exception": false,
     "start_time": "2023-12-12T04:09:29.564422",
     "status": "completed"
    },
    "tags": []
   },
   "source": [
    "## 3.\n",
    "The [Things on Reddit](https://www.kaggle.com/residentmario/things-on-reddit/data) dataset includes product links from a selection of top-ranked forums (\"subreddits\") on reddit.com. Run the cell below to load a dataframe of products mentioned on the */r/gaming* subreddit and another dataframe for products mentioned on the *r//movies* subreddit."
   ]
  },
  {
   "cell_type": "code",
   "execution_count": 7,
   "id": "147bf117",
   "metadata": {
    "execution": {
     "iopub.execute_input": "2023-12-12T04:09:29.595443Z",
     "iopub.status.busy": "2023-12-12T04:09:29.595023Z",
     "iopub.status.idle": "2023-12-12T04:09:29.609762Z",
     "shell.execute_reply": "2023-12-12T04:09:29.608864Z"
    },
    "papermill": {
     "duration": 0.028254,
     "end_time": "2023-12-12T04:09:29.612084",
     "exception": false,
     "start_time": "2023-12-12T04:09:29.583830",
     "status": "completed"
    },
    "tags": []
   },
   "outputs": [],
   "source": [
    "gaming_products = pd.read_csv(\"../input/things-on-reddit/top-things/top-things/reddits/g/gaming.csv\")\n",
    "gaming_products['subreddit'] = \"r/gaming\"\n",
    "movie_products = pd.read_csv(\"../input/things-on-reddit/top-things/top-things/reddits/m/movies.csv\")\n",
    "movie_products['subreddit'] = \"r/movies\""
   ]
  },
  {
   "cell_type": "markdown",
   "id": "bd1fef31",
   "metadata": {
    "papermill": {
     "duration": 0.0103,
     "end_time": "2023-12-12T04:09:29.632876",
     "exception": false,
     "start_time": "2023-12-12T04:09:29.622576",
     "status": "completed"
    },
    "tags": []
   },
   "source": [
    "Create a `DataFrame` of products mentioned on *either* subreddit."
   ]
  },
  {
   "cell_type": "code",
   "execution_count": 8,
   "id": "670b6262",
   "metadata": {
    "execution": {
     "iopub.execute_input": "2023-12-12T04:09:29.655219Z",
     "iopub.status.busy": "2023-12-12T04:09:29.654806Z",
     "iopub.status.idle": "2023-12-12T04:09:29.666571Z",
     "shell.execute_reply": "2023-12-12T04:09:29.665491Z"
    },
    "papermill": {
     "duration": 0.025545,
     "end_time": "2023-12-12T04:09:29.668650",
     "exception": false,
     "start_time": "2023-12-12T04:09:29.643105",
     "status": "completed"
    },
    "tags": []
   },
   "outputs": [
    {
     "data": {
      "application/javascript": [
       "parent.postMessage({\"jupyterEvent\": \"custom.exercise_interaction\", \"data\": {\"outcomeType\": 1, \"valueTowardsCompletion\": 0.25, \"interactionType\": 1, \"questionType\": 2, \"questionId\": \"3_ConcatReddit\", \"learnToolsVersion\": \"0.3.4\", \"failureMessage\": \"\", \"exceptionClass\": \"\", \"trace\": \"\"}}, \"*\")"
      ],
      "text/plain": [
       "<IPython.core.display.Javascript object>"
      ]
     },
     "metadata": {},
     "output_type": "display_data"
    },
    {
     "data": {
      "text/markdown": [
       "<span style=\"color:#33cc33\">Correct</span>"
      ],
      "text/plain": [
       "Correct"
      ]
     },
     "metadata": {},
     "output_type": "display_data"
    }
   ],
   "source": [
    "combined_products = pd.concat([gaming_products,movie_products])\n",
    "\n",
    "# Check your answer\n",
    "q3.check()"
   ]
  },
  {
   "cell_type": "code",
   "execution_count": 9,
   "id": "0d59f763",
   "metadata": {
    "execution": {
     "iopub.execute_input": "2023-12-12T04:09:29.692411Z",
     "iopub.status.busy": "2023-12-12T04:09:29.691691Z",
     "iopub.status.idle": "2023-12-12T04:09:29.703933Z",
     "shell.execute_reply": "2023-12-12T04:09:29.702935Z"
    },
    "papermill": {
     "duration": 0.026531,
     "end_time": "2023-12-12T04:09:29.706176",
     "exception": false,
     "start_time": "2023-12-12T04:09:29.679645",
     "status": "completed"
    },
    "tags": []
   },
   "outputs": [
    {
     "data": {
      "application/javascript": [
       "parent.postMessage({\"jupyterEvent\": \"custom.exercise_interaction\", \"data\": {\"interactionType\": 2, \"questionType\": 2, \"questionId\": \"3_ConcatReddit\", \"learnToolsVersion\": \"0.3.4\", \"valueTowardsCompletion\": 0.0, \"failureMessage\": \"\", \"exceptionClass\": \"\", \"trace\": \"\", \"outcomeType\": 4}}, \"*\")"
      ],
      "text/plain": [
       "<IPython.core.display.Javascript object>"
      ]
     },
     "metadata": {},
     "output_type": "display_data"
    },
    {
     "data": {
      "text/markdown": [
       "<span style=\"color:#3366cc\">Hint:</span> Use `pd.concat()`"
      ],
      "text/plain": [
       "Hint: Use `pd.concat()`"
      ]
     },
     "metadata": {},
     "output_type": "display_data"
    },
    {
     "data": {
      "application/javascript": [
       "parent.postMessage({\"jupyterEvent\": \"custom.exercise_interaction\", \"data\": {\"interactionType\": 3, \"questionType\": 2, \"questionId\": \"3_ConcatReddit\", \"learnToolsVersion\": \"0.3.4\", \"valueTowardsCompletion\": 0.0, \"failureMessage\": \"\", \"exceptionClass\": \"\", \"trace\": \"\", \"outcomeType\": 4}}, \"*\")"
      ],
      "text/plain": [
       "<IPython.core.display.Javascript object>"
      ]
     },
     "metadata": {},
     "output_type": "display_data"
    },
    {
     "data": {
      "text/markdown": [
       "<span style=\"color:#33cc99\">Solution:</span> \n",
       "```python\n",
       "combined_products = pd.concat([gaming_products, movie_products])\n",
       "```"
      ],
      "text/plain": [
       "Solution: \n",
       "```python\n",
       "combined_products = pd.concat([gaming_products, movie_products])\n",
       "```"
      ]
     },
     "metadata": {},
     "output_type": "display_data"
    }
   ],
   "source": [
    "q3.hint()\n",
    "q3.solution()"
   ]
  },
  {
   "cell_type": "markdown",
   "id": "95d55b50",
   "metadata": {
    "papermill": {
     "duration": 0.011061,
     "end_time": "2023-12-12T04:09:29.728487",
     "exception": false,
     "start_time": "2023-12-12T04:09:29.717426",
     "status": "completed"
    },
    "tags": []
   },
   "source": [
    "## 4.\n",
    "The [Powerlifting Database](https://www.kaggle.com/open-powerlifting/powerlifting-database) dataset on Kaggle includes one CSV table for powerlifting meets and a separate one for powerlifting competitors. Run the cell below to load these datasets into dataframes:"
   ]
  },
  {
   "cell_type": "code",
   "execution_count": 10,
   "id": "fc08dd43",
   "metadata": {
    "execution": {
     "iopub.execute_input": "2023-12-12T04:09:29.753321Z",
     "iopub.status.busy": "2023-12-12T04:09:29.752894Z",
     "iopub.status.idle": "2023-12-12T04:09:30.721136Z",
     "shell.execute_reply": "2023-12-12T04:09:30.720024Z"
    },
    "papermill": {
     "duration": 0.983636,
     "end_time": "2023-12-12T04:09:30.723666",
     "exception": false,
     "start_time": "2023-12-12T04:09:29.740030",
     "status": "completed"
    },
    "tags": []
   },
   "outputs": [],
   "source": [
    "powerlifting_meets = pd.read_csv(\"../input/powerlifting-database/meets.csv\")\n",
    "powerlifting_competitors = pd.read_csv(\"../input/powerlifting-database/openpowerlifting.csv\")"
   ]
  },
  {
   "cell_type": "code",
   "execution_count": 11,
   "id": "fb6dc9e6",
   "metadata": {
    "execution": {
     "iopub.execute_input": "2023-12-12T04:09:30.748291Z",
     "iopub.status.busy": "2023-12-12T04:09:30.747892Z",
     "iopub.status.idle": "2023-12-12T04:09:30.761942Z",
     "shell.execute_reply": "2023-12-12T04:09:30.760896Z"
    },
    "papermill": {
     "duration": 0.029261,
     "end_time": "2023-12-12T04:09:30.764198",
     "exception": false,
     "start_time": "2023-12-12T04:09:30.734937",
     "status": "completed"
    },
    "tags": []
   },
   "outputs": [
    {
     "data": {
      "text/html": [
       "<div>\n",
       "<style scoped>\n",
       "    .dataframe tbody tr th:only-of-type {\n",
       "        vertical-align: middle;\n",
       "    }\n",
       "\n",
       "    .dataframe tbody tr th {\n",
       "        vertical-align: top;\n",
       "    }\n",
       "\n",
       "    .dataframe thead th {\n",
       "        text-align: right;\n",
       "    }\n",
       "</style>\n",
       "<table border=\"1\" class=\"dataframe\">\n",
       "  <thead>\n",
       "    <tr style=\"text-align: right;\">\n",
       "      <th></th>\n",
       "      <th>MeetID</th>\n",
       "      <th>MeetPath</th>\n",
       "      <th>Federation</th>\n",
       "      <th>Date</th>\n",
       "      <th>MeetCountry</th>\n",
       "      <th>MeetState</th>\n",
       "      <th>MeetTown</th>\n",
       "      <th>MeetName</th>\n",
       "    </tr>\n",
       "  </thead>\n",
       "  <tbody>\n",
       "    <tr>\n",
       "      <th>0</th>\n",
       "      <td>0</td>\n",
       "      <td>365strong/1601</td>\n",
       "      <td>365Strong</td>\n",
       "      <td>2016-10-29</td>\n",
       "      <td>USA</td>\n",
       "      <td>NC</td>\n",
       "      <td>Charlotte</td>\n",
       "      <td>2016 Junior &amp; Senior National Powerlifting Cha...</td>\n",
       "    </tr>\n",
       "    <tr>\n",
       "      <th>1</th>\n",
       "      <td>1</td>\n",
       "      <td>365strong/1602</td>\n",
       "      <td>365Strong</td>\n",
       "      <td>2016-11-19</td>\n",
       "      <td>USA</td>\n",
       "      <td>MO</td>\n",
       "      <td>Ozark</td>\n",
       "      <td>Thanksgiving Powerlifting Classic</td>\n",
       "    </tr>\n",
       "    <tr>\n",
       "      <th>2</th>\n",
       "      <td>2</td>\n",
       "      <td>365strong/1603</td>\n",
       "      <td>365Strong</td>\n",
       "      <td>2016-07-09</td>\n",
       "      <td>USA</td>\n",
       "      <td>NC</td>\n",
       "      <td>Charlotte</td>\n",
       "      <td>Charlotte Europa Games</td>\n",
       "    </tr>\n",
       "    <tr>\n",
       "      <th>3</th>\n",
       "      <td>3</td>\n",
       "      <td>365strong/1604</td>\n",
       "      <td>365Strong</td>\n",
       "      <td>2016-06-11</td>\n",
       "      <td>USA</td>\n",
       "      <td>SC</td>\n",
       "      <td>Rock Hill</td>\n",
       "      <td>Carolina Cup Push Pull Challenge</td>\n",
       "    </tr>\n",
       "    <tr>\n",
       "      <th>4</th>\n",
       "      <td>4</td>\n",
       "      <td>365strong/1605</td>\n",
       "      <td>365Strong</td>\n",
       "      <td>2016-04-10</td>\n",
       "      <td>USA</td>\n",
       "      <td>SC</td>\n",
       "      <td>Rock Hill</td>\n",
       "      <td>Eastern USA Challenge</td>\n",
       "    </tr>\n",
       "  </tbody>\n",
       "</table>\n",
       "</div>"
      ],
      "text/plain": [
       "   MeetID        MeetPath Federation        Date MeetCountry MeetState  \\\n",
       "0       0  365strong/1601  365Strong  2016-10-29         USA        NC   \n",
       "1       1  365strong/1602  365Strong  2016-11-19         USA        MO   \n",
       "2       2  365strong/1603  365Strong  2016-07-09         USA        NC   \n",
       "3       3  365strong/1604  365Strong  2016-06-11         USA        SC   \n",
       "4       4  365strong/1605  365Strong  2016-04-10         USA        SC   \n",
       "\n",
       "    MeetTown                                           MeetName  \n",
       "0  Charlotte  2016 Junior & Senior National Powerlifting Cha...  \n",
       "1      Ozark                  Thanksgiving Powerlifting Classic  \n",
       "2  Charlotte                             Charlotte Europa Games  \n",
       "3  Rock Hill                   Carolina Cup Push Pull Challenge  \n",
       "4  Rock Hill                              Eastern USA Challenge  "
      ]
     },
     "execution_count": 11,
     "metadata": {},
     "output_type": "execute_result"
    }
   ],
   "source": [
    "powerlifting_meets.head()"
   ]
  },
  {
   "cell_type": "code",
   "execution_count": 12,
   "id": "cc8bc662",
   "metadata": {
    "execution": {
     "iopub.execute_input": "2023-12-12T04:09:30.789373Z",
     "iopub.status.busy": "2023-12-12T04:09:30.789013Z",
     "iopub.status.idle": "2023-12-12T04:09:30.812366Z",
     "shell.execute_reply": "2023-12-12T04:09:30.811276Z"
    },
    "papermill": {
     "duration": 0.03919,
     "end_time": "2023-12-12T04:09:30.814747",
     "exception": false,
     "start_time": "2023-12-12T04:09:30.775557",
     "status": "completed"
    },
    "tags": []
   },
   "outputs": [
    {
     "data": {
      "text/html": [
       "<div>\n",
       "<style scoped>\n",
       "    .dataframe tbody tr th:only-of-type {\n",
       "        vertical-align: middle;\n",
       "    }\n",
       "\n",
       "    .dataframe tbody tr th {\n",
       "        vertical-align: top;\n",
       "    }\n",
       "\n",
       "    .dataframe thead th {\n",
       "        text-align: right;\n",
       "    }\n",
       "</style>\n",
       "<table border=\"1\" class=\"dataframe\">\n",
       "  <thead>\n",
       "    <tr style=\"text-align: right;\">\n",
       "      <th></th>\n",
       "      <th>MeetID</th>\n",
       "      <th>Name</th>\n",
       "      <th>Sex</th>\n",
       "      <th>Equipment</th>\n",
       "      <th>Age</th>\n",
       "      <th>Division</th>\n",
       "      <th>BodyweightKg</th>\n",
       "      <th>WeightClassKg</th>\n",
       "      <th>Squat4Kg</th>\n",
       "      <th>BestSquatKg</th>\n",
       "      <th>Bench4Kg</th>\n",
       "      <th>BestBenchKg</th>\n",
       "      <th>Deadlift4Kg</th>\n",
       "      <th>BestDeadliftKg</th>\n",
       "      <th>TotalKg</th>\n",
       "      <th>Place</th>\n",
       "      <th>Wilks</th>\n",
       "    </tr>\n",
       "  </thead>\n",
       "  <tbody>\n",
       "    <tr>\n",
       "      <th>0</th>\n",
       "      <td>0</td>\n",
       "      <td>Angie Belk Terry</td>\n",
       "      <td>F</td>\n",
       "      <td>Wraps</td>\n",
       "      <td>47.0</td>\n",
       "      <td>Mst 45-49</td>\n",
       "      <td>59.60</td>\n",
       "      <td>60</td>\n",
       "      <td>NaN</td>\n",
       "      <td>47.63</td>\n",
       "      <td>NaN</td>\n",
       "      <td>20.41</td>\n",
       "      <td>NaN</td>\n",
       "      <td>70.31</td>\n",
       "      <td>138.35</td>\n",
       "      <td>1</td>\n",
       "      <td>155.05</td>\n",
       "    </tr>\n",
       "    <tr>\n",
       "      <th>1</th>\n",
       "      <td>0</td>\n",
       "      <td>Dawn Bogart</td>\n",
       "      <td>F</td>\n",
       "      <td>Single-ply</td>\n",
       "      <td>42.0</td>\n",
       "      <td>Mst 40-44</td>\n",
       "      <td>58.51</td>\n",
       "      <td>60</td>\n",
       "      <td>NaN</td>\n",
       "      <td>142.88</td>\n",
       "      <td>NaN</td>\n",
       "      <td>95.25</td>\n",
       "      <td>NaN</td>\n",
       "      <td>163.29</td>\n",
       "      <td>401.42</td>\n",
       "      <td>1</td>\n",
       "      <td>456.38</td>\n",
       "    </tr>\n",
       "    <tr>\n",
       "      <th>2</th>\n",
       "      <td>0</td>\n",
       "      <td>Dawn Bogart</td>\n",
       "      <td>F</td>\n",
       "      <td>Single-ply</td>\n",
       "      <td>42.0</td>\n",
       "      <td>Open Senior</td>\n",
       "      <td>58.51</td>\n",
       "      <td>60</td>\n",
       "      <td>NaN</td>\n",
       "      <td>142.88</td>\n",
       "      <td>NaN</td>\n",
       "      <td>95.25</td>\n",
       "      <td>NaN</td>\n",
       "      <td>163.29</td>\n",
       "      <td>401.42</td>\n",
       "      <td>1</td>\n",
       "      <td>456.38</td>\n",
       "    </tr>\n",
       "    <tr>\n",
       "      <th>3</th>\n",
       "      <td>0</td>\n",
       "      <td>Dawn Bogart</td>\n",
       "      <td>F</td>\n",
       "      <td>Raw</td>\n",
       "      <td>42.0</td>\n",
       "      <td>Open Senior</td>\n",
       "      <td>58.51</td>\n",
       "      <td>60</td>\n",
       "      <td>NaN</td>\n",
       "      <td>NaN</td>\n",
       "      <td>NaN</td>\n",
       "      <td>95.25</td>\n",
       "      <td>NaN</td>\n",
       "      <td>NaN</td>\n",
       "      <td>95.25</td>\n",
       "      <td>1</td>\n",
       "      <td>108.29</td>\n",
       "    </tr>\n",
       "    <tr>\n",
       "      <th>4</th>\n",
       "      <td>0</td>\n",
       "      <td>Destiny Dula</td>\n",
       "      <td>F</td>\n",
       "      <td>Raw</td>\n",
       "      <td>18.0</td>\n",
       "      <td>Teen 18-19</td>\n",
       "      <td>63.68</td>\n",
       "      <td>67.5</td>\n",
       "      <td>NaN</td>\n",
       "      <td>NaN</td>\n",
       "      <td>NaN</td>\n",
       "      <td>31.75</td>\n",
       "      <td>NaN</td>\n",
       "      <td>90.72</td>\n",
       "      <td>122.47</td>\n",
       "      <td>1</td>\n",
       "      <td>130.47</td>\n",
       "    </tr>\n",
       "  </tbody>\n",
       "</table>\n",
       "</div>"
      ],
      "text/plain": [
       "   MeetID              Name Sex   Equipment   Age     Division  BodyweightKg  \\\n",
       "0       0  Angie Belk Terry   F       Wraps  47.0    Mst 45-49         59.60   \n",
       "1       0       Dawn Bogart   F  Single-ply  42.0    Mst 40-44         58.51   \n",
       "2       0       Dawn Bogart   F  Single-ply  42.0  Open Senior         58.51   \n",
       "3       0       Dawn Bogart   F         Raw  42.0  Open Senior         58.51   \n",
       "4       0      Destiny Dula   F         Raw  18.0   Teen 18-19         63.68   \n",
       "\n",
       "  WeightClassKg  Squat4Kg  BestSquatKg  Bench4Kg  BestBenchKg  Deadlift4Kg  \\\n",
       "0            60       NaN        47.63       NaN        20.41          NaN   \n",
       "1            60       NaN       142.88       NaN        95.25          NaN   \n",
       "2            60       NaN       142.88       NaN        95.25          NaN   \n",
       "3            60       NaN          NaN       NaN        95.25          NaN   \n",
       "4          67.5       NaN          NaN       NaN        31.75          NaN   \n",
       "\n",
       "   BestDeadliftKg  TotalKg Place   Wilks  \n",
       "0           70.31   138.35     1  155.05  \n",
       "1          163.29   401.42     1  456.38  \n",
       "2          163.29   401.42     1  456.38  \n",
       "3             NaN    95.25     1  108.29  \n",
       "4           90.72   122.47     1  130.47  "
      ]
     },
     "execution_count": 12,
     "metadata": {},
     "output_type": "execute_result"
    }
   ],
   "source": [
    "powerlifting_competitors.head()"
   ]
  },
  {
   "cell_type": "markdown",
   "id": "4f87d326",
   "metadata": {
    "papermill": {
     "duration": 0.01162,
     "end_time": "2023-12-12T04:09:30.839791",
     "exception": false,
     "start_time": "2023-12-12T04:09:30.828171",
     "status": "completed"
    },
    "tags": []
   },
   "source": [
    "Both tables include references to a `MeetID`, a unique key for each meet (competition) included in the database. Using this, generate a dataset combining the two tables into one."
   ]
  },
  {
   "cell_type": "code",
   "execution_count": 13,
   "id": "e35b1bbb",
   "metadata": {
    "execution": {
     "iopub.execute_input": "2023-12-12T04:09:30.865305Z",
     "iopub.status.busy": "2023-12-12T04:09:30.864901Z",
     "iopub.status.idle": "2023-12-12T04:09:31.896771Z",
     "shell.execute_reply": "2023-12-12T04:09:31.895699Z"
    },
    "papermill": {
     "duration": 1.047442,
     "end_time": "2023-12-12T04:09:31.899166",
     "exception": false,
     "start_time": "2023-12-12T04:09:30.851724",
     "status": "completed"
    },
    "tags": []
   },
   "outputs": [
    {
     "data": {
      "application/javascript": [
       "parent.postMessage({\"jupyterEvent\": \"custom.exercise_interaction\", \"data\": {\"outcomeType\": 1, \"valueTowardsCompletion\": 0.25, \"interactionType\": 1, \"questionType\": 2, \"questionId\": \"4_JoinLifting\", \"learnToolsVersion\": \"0.3.4\", \"failureMessage\": \"\", \"exceptionClass\": \"\", \"trace\": \"\"}}, \"*\")"
      ],
      "text/plain": [
       "<IPython.core.display.Javascript object>"
      ]
     },
     "metadata": {},
     "output_type": "display_data"
    },
    {
     "data": {
      "text/markdown": [
       "<span style=\"color:#33cc33\">Correct</span>"
      ],
      "text/plain": [
       "Correct"
      ]
     },
     "metadata": {},
     "output_type": "display_data"
    }
   ],
   "source": [
    "powerlifting_combined = powerlifting_meets.set_index('MeetID').join(powerlifting_competitors.set_index('MeetID'))\n",
    "\n",
    "powerlifting_combined.head()\n",
    "\n",
    "# Check your answer\n",
    "q4.check()"
   ]
  },
  {
   "cell_type": "code",
   "execution_count": 14,
   "id": "d7667f6d",
   "metadata": {
    "execution": {
     "iopub.execute_input": "2023-12-12T04:09:31.924999Z",
     "iopub.status.busy": "2023-12-12T04:09:31.923975Z",
     "iopub.status.idle": "2023-12-12T04:09:31.937995Z",
     "shell.execute_reply": "2023-12-12T04:09:31.937014Z"
    },
    "papermill": {
     "duration": 0.029273,
     "end_time": "2023-12-12T04:09:31.940173",
     "exception": false,
     "start_time": "2023-12-12T04:09:31.910900",
     "status": "completed"
    },
    "tags": []
   },
   "outputs": [
    {
     "data": {
      "application/javascript": [
       "parent.postMessage({\"jupyterEvent\": \"custom.exercise_interaction\", \"data\": {\"interactionType\": 2, \"questionType\": 2, \"questionId\": \"4_JoinLifting\", \"learnToolsVersion\": \"0.3.4\", \"valueTowardsCompletion\": 0.0, \"failureMessage\": \"\", \"exceptionClass\": \"\", \"trace\": \"\", \"outcomeType\": 4}}, \"*\")"
      ],
      "text/plain": [
       "<IPython.core.display.Javascript object>"
      ]
     },
     "metadata": {},
     "output_type": "display_data"
    },
    {
     "data": {
      "text/markdown": [
       "<span style=\"color:#3366cc\">Hint:</span> Use `pd.Dataframe.join()`."
      ],
      "text/plain": [
       "Hint: Use `pd.Dataframe.join()`."
      ]
     },
     "metadata": {},
     "output_type": "display_data"
    },
    {
     "data": {
      "application/javascript": [
       "parent.postMessage({\"jupyterEvent\": \"custom.exercise_interaction\", \"data\": {\"interactionType\": 3, \"questionType\": 2, \"questionId\": \"4_JoinLifting\", \"learnToolsVersion\": \"0.3.4\", \"valueTowardsCompletion\": 0.0, \"failureMessage\": \"\", \"exceptionClass\": \"\", \"trace\": \"\", \"outcomeType\": 4}}, \"*\")"
      ],
      "text/plain": [
       "<IPython.core.display.Javascript object>"
      ]
     },
     "metadata": {},
     "output_type": "display_data"
    },
    {
     "data": {
      "text/markdown": [
       "<span style=\"color:#33cc99\">Solution:</span> \n",
       "```python\n",
       "powerlifting_combined = powerlifting_meets.set_index(\"MeetID\").join(powerlifting_competitors.set_index(\"MeetID\"))\n",
       "```"
      ],
      "text/plain": [
       "Solution: \n",
       "```python\n",
       "powerlifting_combined = powerlifting_meets.set_index(\"MeetID\").join(powerlifting_competitors.set_index(\"MeetID\"))\n",
       "```"
      ]
     },
     "metadata": {},
     "output_type": "display_data"
    }
   ],
   "source": [
    "q4.hint()\n",
    "q4.solution()"
   ]
  },
  {
   "cell_type": "markdown",
   "id": "8ed2493a",
   "metadata": {
    "papermill": {
     "duration": 0.012327,
     "end_time": "2023-12-12T04:09:31.965048",
     "exception": false,
     "start_time": "2023-12-12T04:09:31.952721",
     "status": "completed"
    },
    "tags": []
   },
   "source": [
    "# Congratulations!\n",
    "\n",
    "You've finished the Pandas micro-course.  Many data scientists feel efficiency with Pandas is the most useful and practical skill they have, because it allows you to progress quickly in any project you have.\n",
    "\n",
    "If you'd like to apply your new skills to examining geospatial data, you're encouraged to check out our **[Geospatial Analysis](https://www.kaggle.com/learn/geospatial-analysis)** micro-course.\n",
    "\n",
    "You can also take advantage of your Pandas skills by entering a **[Kaggle Competition](https://www.kaggle.com/competitions)** or by answering a question you find interesting using **[Kaggle Datasets](https://www.kaggle.com/datasets)**."
   ]
  },
  {
   "cell_type": "markdown",
   "id": "539a051a",
   "metadata": {
    "papermill": {
     "duration": 0.012817,
     "end_time": "2023-12-12T04:09:31.990598",
     "exception": false,
     "start_time": "2023-12-12T04:09:31.977781",
     "status": "completed"
    },
    "tags": []
   },
   "source": [
    "---\n",
    "\n",
    "\n",
    "\n",
    "\n",
    "*Have questions or comments? Visit the [course discussion forum](https://www.kaggle.com/learn/pandas/discussion) to chat with other learners.*"
   ]
  }
 ],
 "metadata": {
  "kaggle": {
   "accelerator": "none",
   "dataSources": [
    {
     "datasetId": 655,
     "sourceId": 1252,
     "sourceType": "datasetVersion"
    },
    {
     "datasetId": 2321,
     "sourceId": 3919,
     "sourceType": "datasetVersion"
    },
    {
     "datasetId": 2894,
     "sourceId": 4877,
     "sourceType": "datasetVersion"
    },
    {
     "datasetId": 3491,
     "sourceId": 5624,
     "sourceType": "datasetVersion"
    },
    {
     "datasetId": 1442,
     "sourceId": 8172,
     "sourceType": "datasetVersion"
    },
    {
     "datasetId": 9366,
     "sourceId": 13206,
     "sourceType": "datasetVersion"
    },
    {
     "datasetId": 179555,
     "sourceId": 403916,
     "sourceType": "datasetVersion"
    },
    {
     "datasetId": 4549,
     "sourceId": 466349,
     "sourceType": "datasetVersion"
    },
    {
     "datasetId": 2478,
     "sourceId": 1151655,
     "sourceType": "datasetVersion"
    },
    {
     "datasetId": 10128,
     "sourceId": 5438389,
     "sourceType": "datasetVersion"
    }
   ],
   "isGpuEnabled": false,
   "isInternetEnabled": false,
   "language": "python",
   "sourceType": "notebook"
  },
  "kernelspec": {
   "display_name": "Python 3",
   "language": "python",
   "name": "python3"
  },
  "language_info": {
   "codemirror_mode": {
    "name": "ipython",
    "version": 3
   },
   "file_extension": ".py",
   "mimetype": "text/x-python",
   "name": "python",
   "nbconvert_exporter": "python",
   "pygments_lexer": "ipython3",
   "version": "3.10.12"
  },
  "papermill": {
   "default_parameters": {},
   "duration": 11.522163,
   "end_time": "2023-12-12T04:09:32.624980",
   "environment_variables": {},
   "exception": null,
   "input_path": "__notebook__.ipynb",
   "output_path": "__notebook__.ipynb",
   "parameters": {},
   "start_time": "2023-12-12T04:09:21.102817",
   "version": "2.4.0"
  }
 },
 "nbformat": 4,
 "nbformat_minor": 5
}
