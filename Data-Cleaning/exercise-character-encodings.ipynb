{
 "cells": [
  {
   "cell_type": "markdown",
   "id": "8d7cdb1e",
   "metadata": {
    "papermill": {
     "duration": 0.006953,
     "end_time": "2023-12-17T22:14:01.270731",
     "exception": false,
     "start_time": "2023-12-17T22:14:01.263778",
     "status": "completed"
    },
    "tags": []
   },
   "source": [
    "**This notebook is an exercise in the [Data Cleaning](https://www.kaggle.com/learn/data-cleaning) course.  You can reference the tutorial at [this link](https://www.kaggle.com/alexisbcook/character-encodings).**\n",
    "\n",
    "---\n"
   ]
  },
  {
   "cell_type": "markdown",
   "id": "a84f9303",
   "metadata": {
    "papermill": {
     "duration": 0.006113,
     "end_time": "2023-12-17T22:14:01.283629",
     "exception": false,
     "start_time": "2023-12-17T22:14:01.277516",
     "status": "completed"
    },
    "tags": []
   },
   "source": [
    "In this exercise, you'll apply what you learned in the **Character encodings** tutorial.\n",
    "\n",
    "# Setup\n",
    "\n",
    "The questions below will give you feedback on your work. Run the following cell to set up the feedback system."
   ]
  },
  {
   "cell_type": "code",
   "execution_count": 1,
   "id": "5774a8d2",
   "metadata": {
    "execution": {
     "iopub.execute_input": "2023-12-17T22:14:01.298760Z",
     "iopub.status.busy": "2023-12-17T22:14:01.298344Z",
     "iopub.status.idle": "2023-12-17T22:14:01.862513Z",
     "shell.execute_reply": "2023-12-17T22:14:01.861423Z"
    },
    "papermill": {
     "duration": 0.574674,
     "end_time": "2023-12-17T22:14:01.865102",
     "exception": false,
     "start_time": "2023-12-17T22:14:01.290428",
     "status": "completed"
    },
    "tags": []
   },
   "outputs": [
    {
     "name": "stdout",
     "output_type": "stream",
     "text": [
      "Setup Complete\n"
     ]
    }
   ],
   "source": [
    "from learntools.core import binder\n",
    "binder.bind(globals())\n",
    "from learntools.data_cleaning.ex4 import *\n",
    "print(\"Setup Complete\")"
   ]
  },
  {
   "cell_type": "markdown",
   "id": "2933fb39",
   "metadata": {
    "papermill": {
     "duration": 0.006458,
     "end_time": "2023-12-17T22:14:01.878204",
     "exception": false,
     "start_time": "2023-12-17T22:14:01.871746",
     "status": "completed"
    },
    "tags": []
   },
   "source": [
    "# Get our environment set up\n",
    "\n",
    "The first thing we'll need to do is load in the libraries we'll be using."
   ]
  },
  {
   "cell_type": "code",
   "execution_count": 2,
   "id": "79e2a742",
   "metadata": {
    "execution": {
     "iopub.execute_input": "2023-12-17T22:14:01.893186Z",
     "iopub.status.busy": "2023-12-17T22:14:01.892709Z",
     "iopub.status.idle": "2023-12-17T22:14:01.898523Z",
     "shell.execute_reply": "2023-12-17T22:14:01.897248Z"
    },
    "papermill": {
     "duration": 0.016152,
     "end_time": "2023-12-17T22:14:01.901000",
     "exception": false,
     "start_time": "2023-12-17T22:14:01.884848",
     "status": "completed"
    },
    "tags": []
   },
   "outputs": [],
   "source": [
    "# modules we'll use\n",
    "import pandas as pd\n",
    "import numpy as np\n",
    "\n",
    "# helpful character encoding module\n",
    "import charset_normalizer\n",
    "\n",
    "# set seed for reproducibility\n",
    "np.random.seed(0)"
   ]
  },
  {
   "cell_type": "markdown",
   "id": "6408f41b",
   "metadata": {
    "papermill": {
     "duration": 0.006233,
     "end_time": "2023-12-17T22:14:01.913876",
     "exception": false,
     "start_time": "2023-12-17T22:14:01.907643",
     "status": "completed"
    },
    "tags": []
   },
   "source": [
    "# 1) What are encodings?\n",
    "\n",
    "You're working with a dataset composed of bytes.  Run the code cell below to print a sample entry."
   ]
  },
  {
   "cell_type": "code",
   "execution_count": 3,
   "id": "08a5bda5",
   "metadata": {
    "execution": {
     "iopub.execute_input": "2023-12-17T22:14:01.928799Z",
     "iopub.status.busy": "2023-12-17T22:14:01.928375Z",
     "iopub.status.idle": "2023-12-17T22:14:01.934643Z",
     "shell.execute_reply": "2023-12-17T22:14:01.933510Z"
    },
    "papermill": {
     "duration": 0.016949,
     "end_time": "2023-12-17T22:14:01.937453",
     "exception": false,
     "start_time": "2023-12-17T22:14:01.920504",
     "status": "completed"
    },
    "tags": []
   },
   "outputs": [
    {
     "name": "stdout",
     "output_type": "stream",
     "text": [
      "b'\\xa7A\\xa6n'\n",
      "data type: <class 'bytes'>\n"
     ]
    }
   ],
   "source": [
    "sample_entry = b'\\xa7A\\xa6n'\n",
    "print(sample_entry)\n",
    "print('data type:', type(sample_entry))"
   ]
  },
  {
   "cell_type": "markdown",
   "id": "47c89f10",
   "metadata": {
    "papermill": {
     "duration": 0.006725,
     "end_time": "2023-12-17T22:14:01.950877",
     "exception": false,
     "start_time": "2023-12-17T22:14:01.944152",
     "status": "completed"
    },
    "tags": []
   },
   "source": [
    "You notice that it doesn't use the standard UTF-8 encoding. \n",
    "\n",
    "Use the next code cell to create a variable `new_entry` that changes the encoding from `\"big5-tw\"` to `\"utf-8\"`.  `new_entry` should have the bytes datatype."
   ]
  },
  {
   "cell_type": "code",
   "execution_count": 4,
   "id": "c564714d",
   "metadata": {
    "execution": {
     "iopub.execute_input": "2023-12-17T22:14:01.966035Z",
     "iopub.status.busy": "2023-12-17T22:14:01.965576Z",
     "iopub.status.idle": "2023-12-17T22:14:01.976484Z",
     "shell.execute_reply": "2023-12-17T22:14:01.975316Z"
    },
    "papermill": {
     "duration": 0.021168,
     "end_time": "2023-12-17T22:14:01.978812",
     "exception": false,
     "start_time": "2023-12-17T22:14:01.957644",
     "status": "completed"
    },
    "tags": []
   },
   "outputs": [
    {
     "data": {
      "application/javascript": [
       "parent.postMessage({\"jupyterEvent\": \"custom.exercise_interaction\", \"data\": {\"outcomeType\": 1, \"valueTowardsCompletion\": 0.3333333333333333, \"interactionType\": 1, \"questionType\": 1, \"questionId\": \"1_EncodingsIntro\", \"learnToolsVersion\": \"0.3.4\", \"failureMessage\": \"\", \"exceptionClass\": \"\", \"trace\": \"\"}}, \"*\")"
      ],
      "text/plain": [
       "<IPython.core.display.Javascript object>"
      ]
     },
     "metadata": {},
     "output_type": "display_data"
    },
    {
     "data": {
      "text/markdown": [
       "<span style=\"color:#33cc33\">Correct</span>"
      ],
      "text/plain": [
       "Correct"
      ]
     },
     "metadata": {},
     "output_type": "display_data"
    }
   ],
   "source": [
    "new_entry = sample_entry.decode('big5-tw',errors='replace').encode('utf-8')\n",
    "\n",
    "# Check your answer\n",
    "q1.check()"
   ]
  },
  {
   "cell_type": "code",
   "execution_count": 5,
   "id": "69f3af81",
   "metadata": {
    "execution": {
     "iopub.execute_input": "2023-12-17T22:14:01.994980Z",
     "iopub.status.busy": "2023-12-17T22:14:01.994536Z",
     "iopub.status.idle": "2023-12-17T22:14:02.008258Z",
     "shell.execute_reply": "2023-12-17T22:14:02.007099Z"
    },
    "papermill": {
     "duration": 0.024838,
     "end_time": "2023-12-17T22:14:02.010743",
     "exception": false,
     "start_time": "2023-12-17T22:14:01.985905",
     "status": "completed"
    },
    "tags": []
   },
   "outputs": [
    {
     "data": {
      "application/javascript": [
       "parent.postMessage({\"jupyterEvent\": \"custom.exercise_interaction\", \"data\": {\"interactionType\": 2, \"questionType\": 1, \"questionId\": \"1_EncodingsIntro\", \"learnToolsVersion\": \"0.3.4\", \"valueTowardsCompletion\": 0.0, \"failureMessage\": \"\", \"exceptionClass\": \"\", \"trace\": \"\", \"outcomeType\": 4}}, \"*\")"
      ],
      "text/plain": [
       "<IPython.core.display.Javascript object>"
      ]
     },
     "metadata": {},
     "output_type": "display_data"
    },
    {
     "data": {
      "text/markdown": [
       "<span style=\"color:#3366cc\">Hint:</span> Try using `.decode()` to get the string, then `.encode()` to get the bytes representation, encoded in UTF-8."
      ],
      "text/plain": [
       "Hint: Try using `.decode()` to get the string, then `.encode()` to get the bytes representation, encoded in UTF-8."
      ]
     },
     "metadata": {},
     "output_type": "display_data"
    },
    {
     "data": {
      "application/javascript": [
       "parent.postMessage({\"jupyterEvent\": \"custom.exercise_interaction\", \"data\": {\"interactionType\": 3, \"questionType\": 1, \"questionId\": \"1_EncodingsIntro\", \"learnToolsVersion\": \"0.3.4\", \"valueTowardsCompletion\": 0.0, \"failureMessage\": \"\", \"exceptionClass\": \"\", \"trace\": \"\", \"outcomeType\": 4}}, \"*\")"
      ],
      "text/plain": [
       "<IPython.core.display.Javascript object>"
      ]
     },
     "metadata": {},
     "output_type": "display_data"
    },
    {
     "data": {
      "text/markdown": [
       "<span style=\"color:#33cc99\">Solution:</span> \n",
       "```python\n",
       "before = sample_entry.decode(\"big5-tw\")\n",
       "new_entry = before.encode()\n",
       "\n",
       "```"
      ],
      "text/plain": [
       "Solution: \n",
       "```python\n",
       "before = sample_entry.decode(\"big5-tw\")\n",
       "new_entry = before.encode()\n",
       "\n",
       "```"
      ]
     },
     "metadata": {},
     "output_type": "display_data"
    }
   ],
   "source": [
    "# Lines below will give you a hint or solution code\n",
    "q1.hint()\n",
    "q1.solution()"
   ]
  },
  {
   "cell_type": "code",
   "execution_count": 6,
   "id": "79c33eec",
   "metadata": {
    "execution": {
     "iopub.execute_input": "2023-12-17T22:14:02.028693Z",
     "iopub.status.busy": "2023-12-17T22:14:02.027708Z",
     "iopub.status.idle": "2023-12-17T22:14:02.032947Z",
     "shell.execute_reply": "2023-12-17T22:14:02.032174Z"
    },
    "papermill": {
     "duration": 0.016823,
     "end_time": "2023-12-17T22:14:02.035382",
     "exception": false,
     "start_time": "2023-12-17T22:14:02.018559",
     "status": "completed"
    },
    "tags": []
   },
   "outputs": [
    {
     "name": "stdout",
     "output_type": "stream",
     "text": [
      "b'\\xe4\\xbd\\xa0\\xe5\\xa5\\xbd'\n"
     ]
    }
   ],
   "source": [
    "print(new_entry)"
   ]
  },
  {
   "cell_type": "markdown",
   "id": "32072dd0",
   "metadata": {
    "papermill": {
     "duration": 0.007615,
     "end_time": "2023-12-17T22:14:02.050862",
     "exception": false,
     "start_time": "2023-12-17T22:14:02.043247",
     "status": "completed"
    },
    "tags": []
   },
   "source": [
    "# 2) Reading in files with encoding problems\n",
    "\n",
    "Use the code cell below to read in this file at path `\"../input/fatal-police-shootings-in-the-us/PoliceKillingsUS.csv\"`.  \n",
    "\n",
    "Figure out what the correct encoding should be and read in the file to a DataFrame `police_killings`."
   ]
  },
  {
   "cell_type": "code",
   "execution_count": 7,
   "id": "464c7531",
   "metadata": {
    "execution": {
     "iopub.execute_input": "2023-12-17T22:14:02.068798Z",
     "iopub.status.busy": "2023-12-17T22:14:02.068361Z",
     "iopub.status.idle": "2023-12-17T22:14:02.624787Z",
     "shell.execute_reply": "2023-12-17T22:14:02.623510Z"
    },
    "papermill": {
     "duration": 0.570953,
     "end_time": "2023-12-17T22:14:02.629643",
     "exception": false,
     "start_time": "2023-12-17T22:14:02.058690",
     "status": "completed"
    },
    "tags": []
   },
   "outputs": [
    {
     "name": "stdout",
     "output_type": "stream",
     "text": [
      "{'encoding': 'windows-1250', 'language': 'English', 'confidence': 1.0}\n"
     ]
    },
    {
     "data": {
      "application/javascript": [
       "parent.postMessage({\"jupyterEvent\": \"custom.exercise_interaction\", \"data\": {\"outcomeType\": 1, \"valueTowardsCompletion\": 0.3333333333333333, \"interactionType\": 1, \"questionType\": 1, \"questionId\": \"2_ReadIn\", \"learnToolsVersion\": \"0.3.4\", \"failureMessage\": \"\", \"exceptionClass\": \"\", \"trace\": \"\"}}, \"*\")"
      ],
      "text/plain": [
       "<IPython.core.display.Javascript object>"
      ]
     },
     "metadata": {},
     "output_type": "display_data"
    },
    {
     "data": {
      "text/markdown": [
       "<span style=\"color:#33cc33\">Correct</span>"
      ],
      "text/plain": [
       "Correct"
      ]
     },
     "metadata": {},
     "output_type": "display_data"
    }
   ],
   "source": [
    "# TODO: Load in the DataFrame correctly.\n",
    "# police_killings = \n",
    "\n",
    "with open('../input/fatal-police-shootings-in-the-us/PoliceKillingsUS.csv','rb') as rawdata:\n",
    "    result = charset_normalizer.detect(rawdata.read(100000))\n",
    "    # run this with different numbers might get different result \n",
    "\n",
    "print(result)\n",
    "\n",
    "police_killings = pd.read_csv('../input/fatal-police-shootings-in-the-us/PoliceKillingsUS.csv',\n",
    "                             encoding='windows-1250')\n",
    "\n",
    "police_killings.head()\n",
    "# Check your answer\n",
    "q2.check()"
   ]
  },
  {
   "cell_type": "markdown",
   "id": "832dcddd",
   "metadata": {
    "papermill": {
     "duration": 0.00792,
     "end_time": "2023-12-17T22:14:02.650375",
     "exception": false,
     "start_time": "2023-12-17T22:14:02.642455",
     "status": "completed"
    },
    "tags": []
   },
   "source": [
    "Feel free to use any additional code cells for supplemental work.  To get credit for finishing this question, you'll need to run `q2.check()` and get a result of **Correct**."
   ]
  },
  {
   "cell_type": "code",
   "execution_count": 8,
   "id": "f3b5bee6",
   "metadata": {
    "execution": {
     "iopub.execute_input": "2023-12-17T22:14:02.669021Z",
     "iopub.status.busy": "2023-12-17T22:14:02.668313Z",
     "iopub.status.idle": "2023-12-17T22:14:02.673028Z",
     "shell.execute_reply": "2023-12-17T22:14:02.672152Z"
    },
    "papermill": {
     "duration": 0.016783,
     "end_time": "2023-12-17T22:14:02.675288",
     "exception": false,
     "start_time": "2023-12-17T22:14:02.658505",
     "status": "completed"
    },
    "tags": []
   },
   "outputs": [],
   "source": [
    "# (Optional) Use this code cell for any additional work."
   ]
  },
  {
   "cell_type": "code",
   "execution_count": 9,
   "id": "40932014",
   "metadata": {
    "execution": {
     "iopub.execute_input": "2023-12-17T22:14:02.694149Z",
     "iopub.status.busy": "2023-12-17T22:14:02.693400Z",
     "iopub.status.idle": "2023-12-17T22:14:02.706796Z",
     "shell.execute_reply": "2023-12-17T22:14:02.705760Z"
    },
    "papermill": {
     "duration": 0.025519,
     "end_time": "2023-12-17T22:14:02.709014",
     "exception": false,
     "start_time": "2023-12-17T22:14:02.683495",
     "status": "completed"
    },
    "tags": []
   },
   "outputs": [
    {
     "data": {
      "application/javascript": [
       "parent.postMessage({\"jupyterEvent\": \"custom.exercise_interaction\", \"data\": {\"interactionType\": 2, \"questionType\": 1, \"questionId\": \"2_ReadIn\", \"learnToolsVersion\": \"0.3.4\", \"valueTowardsCompletion\": 0.0, \"failureMessage\": \"\", \"exceptionClass\": \"\", \"trace\": \"\", \"outcomeType\": 4}}, \"*\")"
      ],
      "text/plain": [
       "<IPython.core.display.Javascript object>"
      ]
     },
     "metadata": {},
     "output_type": "display_data"
    },
    {
     "data": {
      "text/markdown": [
       "<span style=\"color:#3366cc\">Hint:</span> If you try to guess the encoding with the first 10,000 bytes of the file, it might give you the wrong answer.  Try using 100,000 or more lines of the file."
      ],
      "text/plain": [
       "Hint: If you try to guess the encoding with the first 10,000 bytes of the file, it might give you the wrong answer.  Try using 100,000 or more lines of the file."
      ]
     },
     "metadata": {},
     "output_type": "display_data"
    },
    {
     "data": {
      "application/javascript": [
       "parent.postMessage({\"jupyterEvent\": \"custom.exercise_interaction\", \"data\": {\"interactionType\": 3, \"questionType\": 1, \"questionId\": \"2_ReadIn\", \"learnToolsVersion\": \"0.3.4\", \"valueTowardsCompletion\": 0.0, \"failureMessage\": \"\", \"exceptionClass\": \"\", \"trace\": \"\", \"outcomeType\": 4}}, \"*\")"
      ],
      "text/plain": [
       "<IPython.core.display.Javascript object>"
      ]
     },
     "metadata": {},
     "output_type": "display_data"
    },
    {
     "data": {
      "text/markdown": [
       "<span style=\"color:#33cc99\">Solution:</span> \n",
       "```python\n",
       "police_killings = pd.read_csv(\"../input/fatal-police-shootings-in-the-us/PoliceKillingsUS.csv\", encoding='Windows-1252')\n",
       "\n",
       "```"
      ],
      "text/plain": [
       "Solution: \n",
       "```python\n",
       "police_killings = pd.read_csv(\"../input/fatal-police-shootings-in-the-us/PoliceKillingsUS.csv\", encoding='Windows-1252')\n",
       "\n",
       "```"
      ]
     },
     "metadata": {},
     "output_type": "display_data"
    }
   ],
   "source": [
    "# Lines below will give you a hint or solution code\n",
    "q2.hint()\n",
    "q2.solution()"
   ]
  },
  {
   "cell_type": "markdown",
   "id": "1a249387",
   "metadata": {
    "papermill": {
     "duration": 0.008553,
     "end_time": "2023-12-17T22:14:02.726367",
     "exception": false,
     "start_time": "2023-12-17T22:14:02.717814",
     "status": "completed"
    },
    "tags": []
   },
   "source": [
    "# 3) Saving your files with UTF-8 encoding\n",
    "\n",
    "Save a version of the police killings dataset to CSV with UTF-8 encoding.  Your answer will be marked correct after saving this file.  \n",
    "\n",
    "Note: When using the `to_csv()` method, supply only the name of the file (e.g., `\"my_file.csv\"`).  This saves the file at the filepath `\"/kaggle/working/my_file.csv\"`."
   ]
  },
  {
   "cell_type": "code",
   "execution_count": 10,
   "id": "12396fce",
   "metadata": {
    "execution": {
     "iopub.execute_input": "2023-12-17T22:14:02.746650Z",
     "iopub.status.busy": "2023-12-17T22:14:02.745957Z",
     "iopub.status.idle": "2023-12-17T22:14:02.798548Z",
     "shell.execute_reply": "2023-12-17T22:14:02.797206Z"
    },
    "papermill": {
     "duration": 0.065879,
     "end_time": "2023-12-17T22:14:02.801141",
     "exception": false,
     "start_time": "2023-12-17T22:14:02.735262",
     "status": "completed"
    },
    "tags": []
   },
   "outputs": [
    {
     "data": {
      "application/javascript": [
       "parent.postMessage({\"jupyterEvent\": \"custom.exercise_interaction\", \"data\": {\"outcomeType\": 1, \"valueTowardsCompletion\": 0.3333333333333333, \"interactionType\": 1, \"questionType\": 2, \"questionId\": \"3_SaveCSV\", \"learnToolsVersion\": \"0.3.4\", \"failureMessage\": \"\", \"exceptionClass\": \"\", \"trace\": \"\"}}, \"*\")"
      ],
      "text/plain": [
       "<IPython.core.display.Javascript object>"
      ]
     },
     "metadata": {},
     "output_type": "display_data"
    },
    {
     "data": {
      "text/markdown": [
       "<span style=\"color:#33cc33\">Correct</span>"
      ],
      "text/plain": [
       "Correct"
      ]
     },
     "metadata": {},
     "output_type": "display_data"
    }
   ],
   "source": [
    "# TODO: Save the police killings dataset to CSV\n",
    "police_killings.to_csv('/kaggle/working/my_file.csv')\n",
    "\n",
    "# Check your answer\n",
    "q3.check()"
   ]
  },
  {
   "cell_type": "code",
   "execution_count": 11,
   "id": "879a8911",
   "metadata": {
    "execution": {
     "iopub.execute_input": "2023-12-17T22:14:02.821368Z",
     "iopub.status.busy": "2023-12-17T22:14:02.820934Z",
     "iopub.status.idle": "2023-12-17T22:14:02.825696Z",
     "shell.execute_reply": "2023-12-17T22:14:02.824549Z"
    },
    "papermill": {
     "duration": 0.017738,
     "end_time": "2023-12-17T22:14:02.828124",
     "exception": false,
     "start_time": "2023-12-17T22:14:02.810386",
     "status": "completed"
    },
    "tags": []
   },
   "outputs": [],
   "source": [
    "# Lines below will give you a hint or solution code\n",
    "#q3.hint()\n",
    "#q3.solution()"
   ]
  },
  {
   "cell_type": "markdown",
   "id": "aae0c9fc",
   "metadata": {
    "papermill": {
     "duration": 0.009098,
     "end_time": "2023-12-17T22:14:02.846624",
     "exception": false,
     "start_time": "2023-12-17T22:14:02.837526",
     "status": "completed"
    },
    "tags": []
   },
   "source": [
    "# (Optional) More practice\n",
    "\n",
    "Check out [this dataset of files in different character encodings](https://www.kaggle.com/rtatman/character-encoding-examples). Can you read in all the files with their original encodings and them save them out as UTF-8 files?\n",
    "\n",
    "If you have a file that's in UTF-8 but has just a couple of weird-looking characters in it, you can try out the [ftfy module](https://ftfy.readthedocs.io/en/latest/#) and see if it helps. \n",
    "\n",
    "# Keep going\n",
    "\n",
    "In the final lesson, learn how to [**clean up inconsistent text entries**](https://www.kaggle.com/alexisbcook/inconsistent-data-entry) in your dataset."
   ]
  },
  {
   "cell_type": "markdown",
   "id": "9b53709e",
   "metadata": {
    "papermill": {
     "duration": 0.008998,
     "end_time": "2023-12-17T22:14:02.865077",
     "exception": false,
     "start_time": "2023-12-17T22:14:02.856079",
     "status": "completed"
    },
    "tags": []
   },
   "source": [
    "---\n",
    "\n",
    "\n",
    "\n",
    "\n",
    "*Have questions or comments? Visit the [course discussion forum](https://www.kaggle.com/learn/data-cleaning/discussion) to chat with other learners.*"
   ]
  }
 ],
 "metadata": {
  "kaggle": {
   "accelerator": "none",
   "dataSources": [
    {
     "datasetId": 2647,
     "sourceId": 4395,
     "sourceType": "datasetVersion"
    }
   ],
   "isGpuEnabled": false,
   "isInternetEnabled": false,
   "language": "python",
   "sourceType": "notebook"
  },
  "kernelspec": {
   "display_name": "Python 3",
   "language": "python",
   "name": "python3"
  },
  "language_info": {
   "codemirror_mode": {
    "name": "ipython",
    "version": 3
   },
   "file_extension": ".py",
   "mimetype": "text/x-python",
   "name": "python",
   "nbconvert_exporter": "python",
   "pygments_lexer": "ipython3",
   "version": "3.10.12"
  },
  "papermill": {
   "default_parameters": {},
   "duration": 5.748722,
   "end_time": "2023-12-17T22:14:03.395219",
   "environment_variables": {},
   "exception": null,
   "input_path": "__notebook__.ipynb",
   "output_path": "__notebook__.ipynb",
   "parameters": {},
   "start_time": "2023-12-17T22:13:57.646497",
   "version": "2.4.0"
  }
 },
 "nbformat": 4,
 "nbformat_minor": 5
}
