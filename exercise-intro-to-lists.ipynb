{
 "cells": [
  {
   "cell_type": "markdown",
   "id": "e32fc0f4",
   "metadata": {
    "papermill": {
     "duration": 0.009446,
     "end_time": "2023-12-05T19:37:17.235524",
     "exception": false,
     "start_time": "2023-12-05T19:37:17.226078",
     "status": "completed"
    },
    "tags": []
   },
   "source": [
    "**This notebook is an exercise in the [Intro to Programming](https://www.kaggle.com/learn/intro-to-programming) course.  You can reference the tutorial at [this link](https://www.kaggle.com/alexisbcook/intro-to-lists).**\n",
    "\n",
    "---\n"
   ]
  },
  {
   "cell_type": "markdown",
   "id": "7ed523f1",
   "metadata": {
    "papermill": {
     "duration": 0.005799,
     "end_time": "2023-12-05T19:37:17.247626",
     "exception": false,
     "start_time": "2023-12-05T19:37:17.241827",
     "status": "completed"
    },
    "tags": []
   },
   "source": [
    "In the tutorial, you learned how to define and modify Python lists.  In this exercise, you will use your new knowledge to solve several problems.\n",
    "\n",
    "# Set up the notebook\n",
    "\n",
    "Run the next code cell without changes to set up the notebook."
   ]
  },
  {
   "cell_type": "code",
   "execution_count": 1,
   "id": "89f8f14b",
   "metadata": {
    "execution": {
     "iopub.execute_input": "2023-12-05T19:37:17.261668Z",
     "iopub.status.busy": "2023-12-05T19:37:17.261187Z",
     "iopub.status.idle": "2023-12-05T19:37:17.698903Z",
     "shell.execute_reply": "2023-12-05T19:37:17.697609Z"
    },
    "papermill": {
     "duration": 0.447831,
     "end_time": "2023-12-05T19:37:17.701519",
     "exception": false,
     "start_time": "2023-12-05T19:37:17.253688",
     "status": "completed"
    },
    "tags": []
   },
   "outputs": [
    {
     "name": "stdout",
     "output_type": "stream",
     "text": [
      "Setup complete.\n"
     ]
    }
   ],
   "source": [
    "from learntools.core import binder\n",
    "binder.bind(globals())\n",
    "from learntools.intro_to_programming.ex5 import *\n",
    "print('Setup complete.')"
   ]
  },
  {
   "cell_type": "markdown",
   "id": "2e6ebdb4",
   "metadata": {
    "papermill": {
     "duration": 0.005807,
     "end_time": "2023-12-05T19:37:17.713683",
     "exception": false,
     "start_time": "2023-12-05T19:37:17.707876",
     "status": "completed"
    },
    "tags": []
   },
   "source": [
    "# Question 1\n",
    "\n",
    "You own a restaurant with five food dishes, organized in the Python list `menu` below.  One day, you decide to:\n",
    "- remove bean soup (`'bean soup'`) from the menu, and\n",
    "- add roasted beet salad (`'roasted beet salad'`) to the menu.\n",
    "\n",
    "Implement this change to the list below.  While completing this task, \n",
    "- do not change the line that creates the `menu` list.  \n",
    "- your answer should use `.remove()` and `.append()`.  "
   ]
  },
  {
   "cell_type": "code",
   "execution_count": 2,
   "id": "9ee58d55",
   "metadata": {
    "execution": {
     "iopub.execute_input": "2023-12-05T19:37:17.728154Z",
     "iopub.status.busy": "2023-12-05T19:37:17.727658Z",
     "iopub.status.idle": "2023-12-05T19:37:17.737804Z",
     "shell.execute_reply": "2023-12-05T19:37:17.736736Z"
    },
    "papermill": {
     "duration": 0.019996,
     "end_time": "2023-12-05T19:37:17.739932",
     "exception": false,
     "start_time": "2023-12-05T19:37:17.719936",
     "status": "completed"
    },
    "tags": []
   },
   "outputs": [
    {
     "data": {
      "application/javascript": [
       "parent.postMessage({\"jupyterEvent\": \"custom.exercise_interaction\", \"data\": {\"outcomeType\": 1, \"valueTowardsCompletion\": 0.2, \"interactionType\": 1, \"questionType\": 2, \"questionId\": \"1_FoodMenu\", \"learnToolsVersion\": \"0.3.4\", \"failureMessage\": \"\", \"exceptionClass\": \"\", \"trace\": \"\"}}, \"*\")"
      ],
      "text/plain": [
       "<IPython.core.display.Javascript object>"
      ]
     },
     "metadata": {},
     "output_type": "display_data"
    },
    {
     "data": {
      "text/markdown": [
       "<span style=\"color:#33cc33\">Correct</span>"
      ],
      "text/plain": [
       "Correct"
      ]
     },
     "metadata": {},
     "output_type": "display_data"
    }
   ],
   "source": [
    "# Do not change: Initial menu for your restaurant\n",
    "menu = ['stewed meat with onions', 'bean soup', 'risotto with trout and shrimp',\n",
    "       'fish soup with cream and onion', 'gyro']\n",
    "\n",
    "# TODO: remove 'bean soup', and add 'roasted beet salad' to the end of the menu\n",
    "menu.remove('bean soup')\n",
    "menu.append('roasted beet salad')\n",
    "\n",
    "# Do not change: Check your answer\n",
    "q1.check()"
   ]
  },
  {
   "cell_type": "code",
   "execution_count": 3,
   "id": "37ae15c5",
   "metadata": {
    "execution": {
     "iopub.execute_input": "2023-12-05T19:37:17.754519Z",
     "iopub.status.busy": "2023-12-05T19:37:17.753902Z",
     "iopub.status.idle": "2023-12-05T19:37:17.762171Z",
     "shell.execute_reply": "2023-12-05T19:37:17.761126Z"
    },
    "papermill": {
     "duration": 0.018026,
     "end_time": "2023-12-05T19:37:17.764239",
     "exception": false,
     "start_time": "2023-12-05T19:37:17.746213",
     "status": "completed"
    },
    "tags": []
   },
   "outputs": [
    {
     "data": {
      "application/javascript": [
       "parent.postMessage({\"jupyterEvent\": \"custom.exercise_interaction\", \"data\": {\"interactionType\": 3, \"questionType\": 2, \"questionId\": \"1_FoodMenu\", \"learnToolsVersion\": \"0.3.4\", \"valueTowardsCompletion\": 0.0, \"failureMessage\": \"\", \"exceptionClass\": \"\", \"trace\": \"\", \"outcomeType\": 4}}, \"*\")"
      ],
      "text/plain": [
       "<IPython.core.display.Javascript object>"
      ]
     },
     "metadata": {},
     "output_type": "display_data"
    },
    {
     "data": {
      "text/markdown": [
       "<span style=\"color:#33cc99\">Solution:</span> \n",
       "```python\n",
       "# Do not change: Initial menu for your restaurant\n",
       "menu = ['stewed meat with onions', 'bean soup', 'risotto with trout and shrimp',\n",
       "       'fish soup with cream and onion', 'gyro']\n",
       "\n",
       "# Remove 'bean soup', and add 'roasted beet salad' to the end of the menu\n",
       "menu.remove('bean soup')\n",
       "menu.append('roasted beet salad')\n",
       "\n",
       "```"
      ],
      "text/plain": [
       "Solution: \n",
       "```python\n",
       "# Do not change: Initial menu for your restaurant\n",
       "menu = ['stewed meat with onions', 'bean soup', 'risotto with trout and shrimp',\n",
       "       'fish soup with cream and onion', 'gyro']\n",
       "\n",
       "# Remove 'bean soup', and add 'roasted beet salad' to the end of the menu\n",
       "menu.remove('bean soup')\n",
       "menu.append('roasted beet salad')\n",
       "\n",
       "```"
      ]
     },
     "metadata": {},
     "output_type": "display_data"
    }
   ],
   "source": [
    "# Uncomment to see a hint\n",
    "#q1.hint()\n",
    "\n",
    "# Uncomment to see the solution\n",
    "q1.solution()"
   ]
  },
  {
   "cell_type": "markdown",
   "id": "aa029dd9",
   "metadata": {
    "papermill": {
     "duration": 0.006392,
     "end_time": "2023-12-05T19:37:17.777168",
     "exception": false,
     "start_time": "2023-12-05T19:37:17.770776",
     "status": "completed"
    },
    "tags": []
   },
   "source": [
    "# Question 2\n",
    "\n",
    "The list `num_customers` contains the number of customers who came into your restaurant every day over the last month (which lasted thirty days).  Fill in values for each of the following:\n",
    "- `avg_first_seven` - average number of customers who visited in the first seven days\n",
    "- `avg_last_seven` - average number of customers who visited in the last seven days\n",
    "- `max_month` - number of customers on the day that got the most customers in the last month\n",
    "- `min_month` - number of customers on the day that got the least customers in the last month\n",
    "\n",
    "Answer this question by writing code.  For instance, if you have to find the minimum value in a list, use `min()` instead of scanning for the smallest value and directly filling in a number."
   ]
  },
  {
   "cell_type": "code",
   "execution_count": 4,
   "id": "66e6555f",
   "metadata": {
    "execution": {
     "iopub.execute_input": "2023-12-05T19:37:17.792590Z",
     "iopub.status.busy": "2023-12-05T19:37:17.791942Z",
     "iopub.status.idle": "2023-12-05T19:37:17.803276Z",
     "shell.execute_reply": "2023-12-05T19:37:17.802011Z"
    },
    "papermill": {
     "duration": 0.022168,
     "end_time": "2023-12-05T19:37:17.805963",
     "exception": false,
     "start_time": "2023-12-05T19:37:17.783795",
     "status": "completed"
    },
    "tags": []
   },
   "outputs": [
    {
     "data": {
      "application/javascript": [
       "parent.postMessage({\"jupyterEvent\": \"custom.exercise_interaction\", \"data\": {\"outcomeType\": 1, \"valueTowardsCompletion\": 0.2, \"interactionType\": 1, \"questionType\": 1, \"questionId\": \"2_NumCustomers\", \"learnToolsVersion\": \"0.3.4\", \"failureMessage\": \"\", \"exceptionClass\": \"\", \"trace\": \"\"}}, \"*\")"
      ],
      "text/plain": [
       "<IPython.core.display.Javascript object>"
      ]
     },
     "metadata": {},
     "output_type": "display_data"
    },
    {
     "data": {
      "text/markdown": [
       "<span style=\"color:#33cc33\">Correct</span>"
      ],
      "text/plain": [
       "Correct"
      ]
     },
     "metadata": {},
     "output_type": "display_data"
    }
   ],
   "source": [
    "# Do not change: Number of customers each day for the last month\n",
    "num_customers = [137, 147, 135, 128, 170, 174, 165, 146, 126, 159,\n",
    "                 141, 148, 132, 147, 168, 153, 170, 161, 148, 152,\n",
    "                 141, 151, 131, 149, 164, 163, 143, 143, 166, 171]\n",
    "\n",
    "# TODO: Fill in values for the variables below\n",
    "avg_first_seven = sum(num_customers[0:7])/len(num_customers[0:7])\n",
    "avg_last_seven =  sum(num_customers[-7:])/len(num_customers[-7:])\n",
    "max_month = max(num_customers)\n",
    "min_month = min(num_customers)\n",
    "\n",
    "# Do not change: Check your answer\n",
    "q2.check()"
   ]
  },
  {
   "cell_type": "code",
   "execution_count": 5,
   "id": "3cf740d0",
   "metadata": {
    "execution": {
     "iopub.execute_input": "2023-12-05T19:37:17.821530Z",
     "iopub.status.busy": "2023-12-05T19:37:17.821143Z",
     "iopub.status.idle": "2023-12-05T19:37:17.829486Z",
     "shell.execute_reply": "2023-12-05T19:37:17.827917Z"
    },
    "papermill": {
     "duration": 0.019055,
     "end_time": "2023-12-05T19:37:17.831897",
     "exception": false,
     "start_time": "2023-12-05T19:37:17.812842",
     "status": "completed"
    },
    "tags": []
   },
   "outputs": [
    {
     "data": {
      "application/javascript": [
       "parent.postMessage({\"jupyterEvent\": \"custom.exercise_interaction\", \"data\": {\"interactionType\": 3, \"questionType\": 1, \"questionId\": \"2_NumCustomers\", \"learnToolsVersion\": \"0.3.4\", \"valueTowardsCompletion\": 0.0, \"failureMessage\": \"\", \"exceptionClass\": \"\", \"trace\": \"\", \"outcomeType\": 4}}, \"*\")"
      ],
      "text/plain": [
       "<IPython.core.display.Javascript object>"
      ]
     },
     "metadata": {},
     "output_type": "display_data"
    },
    {
     "data": {
      "text/markdown": [
       "<span style=\"color:#33cc99\">Solution:</span> \n",
       "```python\n",
       "# Fill in values for the variables below\n",
       "avg_first_seven = sum(num_customers[:7])/7 \n",
       "avg_last_seven = sum(num_customers[-7:])/7\n",
       "max_month = max(num_customers)\n",
       "min_month = min(num_customers)\n",
       "\n",
       "```"
      ],
      "text/plain": [
       "Solution: \n",
       "```python\n",
       "# Fill in values for the variables below\n",
       "avg_first_seven = sum(num_customers[:7])/7 \n",
       "avg_last_seven = sum(num_customers[-7:])/7\n",
       "max_month = max(num_customers)\n",
       "min_month = min(num_customers)\n",
       "\n",
       "```"
      ]
     },
     "metadata": {},
     "output_type": "display_data"
    }
   ],
   "source": [
    "# Uncomment to see a hint\n",
    "#q2.hint()\n",
    "\n",
    "# Uncomment to see the solution\n",
    "q2.solution()"
   ]
  },
  {
   "cell_type": "markdown",
   "id": "dcc5b5b4",
   "metadata": {
    "papermill": {
     "duration": 0.006856,
     "end_time": "2023-12-05T19:37:17.846081",
     "exception": false,
     "start_time": "2023-12-05T19:37:17.839225",
     "status": "completed"
    },
    "tags": []
   },
   "source": [
    "# Question 3\n",
    "\n",
    "In the tutorial, we gave an example of a Python string with information that was better as a list."
   ]
  },
  {
   "cell_type": "code",
   "execution_count": 6,
   "id": "f7e1f29a",
   "metadata": {
    "execution": {
     "iopub.execute_input": "2023-12-05T19:37:17.862272Z",
     "iopub.status.busy": "2023-12-05T19:37:17.861849Z",
     "iopub.status.idle": "2023-12-05T19:37:17.866760Z",
     "shell.execute_reply": "2023-12-05T19:37:17.865618Z"
    },
    "papermill": {
     "duration": 0.015581,
     "end_time": "2023-12-05T19:37:17.869068",
     "exception": false,
     "start_time": "2023-12-05T19:37:17.853487",
     "status": "completed"
    },
    "tags": []
   },
   "outputs": [],
   "source": [
    "flowers = \"pink primrose,hard-leaved pocket orchid,canterbury bells,sweet pea,english marigold,tiger lily,moon orchid,bird of paradise,monkshood,globe thistle\""
   ]
  },
  {
   "cell_type": "markdown",
   "id": "909bc87d",
   "metadata": {
    "papermill": {
     "duration": 0.00675,
     "end_time": "2023-12-05T19:37:17.883024",
     "exception": false,
     "start_time": "2023-12-05T19:37:17.876274",
     "status": "completed"
    },
    "tags": []
   },
   "source": [
    "You can actually use Python to quickly turn this string into a list with `.split()`.  In the parentheses, we need to provide the character should be used to mark the end of one list item and the beginning of another, and enclose it in quotation marks.  In this case, that character is a comma."
   ]
  },
  {
   "cell_type": "code",
   "execution_count": 7,
   "id": "0045c0df",
   "metadata": {
    "execution": {
     "iopub.execute_input": "2023-12-05T19:37:17.898975Z",
     "iopub.status.busy": "2023-12-05T19:37:17.898595Z",
     "iopub.status.idle": "2023-12-05T19:37:17.904536Z",
     "shell.execute_reply": "2023-12-05T19:37:17.903387Z"
    },
    "papermill": {
     "duration": 0.016801,
     "end_time": "2023-12-05T19:37:17.906989",
     "exception": false,
     "start_time": "2023-12-05T19:37:17.890188",
     "status": "completed"
    },
    "tags": []
   },
   "outputs": [
    {
     "name": "stdout",
     "output_type": "stream",
     "text": [
      "['pink primrose', 'hard-leaved pocket orchid', 'canterbury bells', 'sweet pea', 'english marigold', 'tiger lily', 'moon orchid', 'bird of paradise', 'monkshood', 'globe thistle']\n"
     ]
    }
   ],
   "source": [
    " print(flowers.split(\",\"))"
   ]
  },
  {
   "cell_type": "markdown",
   "id": "5b22a5b5",
   "metadata": {
    "papermill": {
     "duration": 0.006802,
     "end_time": "2023-12-05T19:37:17.920982",
     "exception": false,
     "start_time": "2023-12-05T19:37:17.914180",
     "status": "completed"
    },
    "tags": []
   },
   "source": [
    "Now it is your turn to try this out!  Create two Python lists:\n",
    "- `letters` should be a Python list where each entry is an uppercase letter of the English alphabet.  For instance, the first two entries should be `\"A\"` and `\"B\"`, and the final two entries should be `\"Y\"` and `\"Z\"`.  Use the string `alphabet` to create this list.\n",
    "- `address` should be a Python list where each row in `address` is a different item in the list.  Currently, each row in `address` is separated by a comma. "
   ]
  },
  {
   "cell_type": "code",
   "execution_count": 8,
   "id": "122e14f5",
   "metadata": {
    "execution": {
     "iopub.execute_input": "2023-12-05T19:37:17.936978Z",
     "iopub.status.busy": "2023-12-05T19:37:17.936593Z",
     "iopub.status.idle": "2023-12-05T19:37:17.946465Z",
     "shell.execute_reply": "2023-12-05T19:37:17.945386Z"
    },
    "papermill": {
     "duration": 0.020543,
     "end_time": "2023-12-05T19:37:17.948727",
     "exception": false,
     "start_time": "2023-12-05T19:37:17.928184",
     "status": "completed"
    },
    "tags": []
   },
   "outputs": [
    {
     "data": {
      "application/javascript": [
       "parent.postMessage({\"jupyterEvent\": \"custom.exercise_interaction\", \"data\": {\"outcomeType\": 1, \"valueTowardsCompletion\": 0.2, \"interactionType\": 1, \"questionType\": 1, \"questionId\": \"3_SplitString\", \"learnToolsVersion\": \"0.3.4\", \"failureMessage\": \"\", \"exceptionClass\": \"\", \"trace\": \"\"}}, \"*\")"
      ],
      "text/plain": [
       "<IPython.core.display.Javascript object>"
      ]
     },
     "metadata": {},
     "output_type": "display_data"
    },
    {
     "data": {
      "text/markdown": [
       "<span style=\"color:#33cc33\">Correct</span>"
      ],
      "text/plain": [
       "Correct"
      ]
     },
     "metadata": {},
     "output_type": "display_data"
    }
   ],
   "source": [
    "# DO not change: Define two Python strings\n",
    "alphabet = \"A.B.C.D.E.F.G.H.I.J.K.L.M.N.O.P.Q.R.S.T.U.V.W.X.Y.Z\"\n",
    "address = \"Mr. H. Potter,The cupboard under the Stairs,4 Privet Drive,Little Whinging,Surrey\"\n",
    "\n",
    "# TODO: Convert strings into Python lists\n",
    "letters = alphabet.split('.')\n",
    "formatted_address = address.split(',')\n",
    "\n",
    "# Do not change: Check your answer\n",
    "q3.check()"
   ]
  },
  {
   "cell_type": "code",
   "execution_count": 9,
   "id": "5000b24f",
   "metadata": {
    "execution": {
     "iopub.execute_input": "2023-12-05T19:37:17.965491Z",
     "iopub.status.busy": "2023-12-05T19:37:17.965100Z",
     "iopub.status.idle": "2023-12-05T19:37:17.969683Z",
     "shell.execute_reply": "2023-12-05T19:37:17.968491Z"
    },
    "papermill": {
     "duration": 0.015946,
     "end_time": "2023-12-05T19:37:17.972029",
     "exception": false,
     "start_time": "2023-12-05T19:37:17.956083",
     "status": "completed"
    },
    "tags": []
   },
   "outputs": [],
   "source": [
    "# Uncomment to see a hint\n",
    "#q3.hint()\n",
    "\n",
    "# Uncomment to see the solution\n",
    "#q3.solution()"
   ]
  },
  {
   "cell_type": "markdown",
   "id": "690453a3",
   "metadata": {
    "papermill": {
     "duration": 0.007338,
     "end_time": "2023-12-05T19:37:17.986878",
     "exception": false,
     "start_time": "2023-12-05T19:37:17.979540",
     "status": "completed"
    },
    "tags": []
   },
   "source": [
    "# Question 4\n",
    "\n",
    "In the Python course, you'll learn all about **list comprehensions**, which allow you to create a list based on the values in another list.  In this question, you'll get a brief preview of how they work.\n",
    "\n",
    "Say we're working with the list below."
   ]
  },
  {
   "cell_type": "code",
   "execution_count": 10,
   "id": "2e413e94",
   "metadata": {
    "execution": {
     "iopub.execute_input": "2023-12-05T19:37:18.004351Z",
     "iopub.status.busy": "2023-12-05T19:37:18.003995Z",
     "iopub.status.idle": "2023-12-05T19:37:18.009155Z",
     "shell.execute_reply": "2023-12-05T19:37:18.008003Z"
    },
    "papermill": {
     "duration": 0.016936,
     "end_time": "2023-12-05T19:37:18.011743",
     "exception": false,
     "start_time": "2023-12-05T19:37:17.994807",
     "status": "completed"
    },
    "tags": []
   },
   "outputs": [],
   "source": [
    "test_ratings = [1, 2, 3, 4, 5]"
   ]
  },
  {
   "cell_type": "markdown",
   "id": "d33b0be4",
   "metadata": {
    "papermill": {
     "duration": 0.008058,
     "end_time": "2023-12-05T19:37:18.027843",
     "exception": false,
     "start_time": "2023-12-05T19:37:18.019785",
     "status": "completed"
    },
    "tags": []
   },
   "source": [
    "Then we can use this list (`test_ratings`) to create a new list (`test_liked`) where each item has been turned into a boolean, depending on whether or not the item is greater than or equal to four."
   ]
  },
  {
   "cell_type": "code",
   "execution_count": 11,
   "id": "6a7f764b",
   "metadata": {
    "execution": {
     "iopub.execute_input": "2023-12-05T19:37:18.045512Z",
     "iopub.status.busy": "2023-12-05T19:37:18.045069Z",
     "iopub.status.idle": "2023-12-05T19:37:18.051265Z",
     "shell.execute_reply": "2023-12-05T19:37:18.050090Z"
    },
    "papermill": {
     "duration": 0.018106,
     "end_time": "2023-12-05T19:37:18.053757",
     "exception": false,
     "start_time": "2023-12-05T19:37:18.035651",
     "status": "completed"
    },
    "tags": []
   },
   "outputs": [
    {
     "name": "stdout",
     "output_type": "stream",
     "text": [
      "[False, False, False, True, True]\n"
     ]
    }
   ],
   "source": [
    "test_liked = [i>=4 for i in test_ratings]\n",
    "print(test_liked)"
   ]
  },
  {
   "cell_type": "markdown",
   "id": "b1e831b5",
   "metadata": {
    "papermill": {
     "duration": 0.008049,
     "end_time": "2023-12-05T19:37:18.069669",
     "exception": false,
     "start_time": "2023-12-05T19:37:18.061620",
     "status": "completed"
    },
    "tags": []
   },
   "source": [
    "In this question, you'll use this list comprehension to define a function `percentage_liked()` that takes one argument as input:\n",
    "- `ratings`: list of ratings that people gave to a movie, where each rating is a number between 1-5, inclusive\n",
    "\n",
    "We say someone liked the movie, if they gave a rating of either 4 or 5.  Your function should return the percentage of people who liked the movie.\n",
    "\n",
    "For instance, if we supply a value of `[1, 2, 3, 4, 5, 4, 5, 1]`, then 50% (4/8) of the people liked the movie, and the function should return `0.5`.\n",
    "\n",
    "Part of the function has already been completed for you.  You need only use `list_liked` to calculate `percentage_liked`."
   ]
  },
  {
   "cell_type": "code",
   "execution_count": 12,
   "id": "dfccf398",
   "metadata": {
    "execution": {
     "iopub.execute_input": "2023-12-05T19:37:18.090888Z",
     "iopub.status.busy": "2023-12-05T19:37:18.090477Z",
     "iopub.status.idle": "2023-12-05T19:37:18.102596Z",
     "shell.execute_reply": "2023-12-05T19:37:18.100992Z"
    },
    "papermill": {
     "duration": 0.026752,
     "end_time": "2023-12-05T19:37:18.105400",
     "exception": false,
     "start_time": "2023-12-05T19:37:18.078648",
     "status": "completed"
    },
    "tags": []
   },
   "outputs": [
    {
     "data": {
      "application/javascript": [
       "parent.postMessage({\"jupyterEvent\": \"custom.exercise_interaction\", \"data\": {\"outcomeType\": 1, \"valueTowardsCompletion\": 0.2, \"interactionType\": 1, \"questionType\": 2, \"questionId\": \"4_PercentageLiked\", \"learnToolsVersion\": \"0.3.4\", \"failureMessage\": \"\", \"exceptionClass\": \"\", \"trace\": \"\"}}, \"*\")"
      ],
      "text/plain": [
       "<IPython.core.display.Javascript object>"
      ]
     },
     "metadata": {},
     "output_type": "display_data"
    },
    {
     "data": {
      "text/markdown": [
       "<span style=\"color:#33cc33\">Correct</span>"
      ],
      "text/plain": [
       "Correct"
      ]
     },
     "metadata": {},
     "output_type": "display_data"
    }
   ],
   "source": [
    "\n",
    "def percentage_liked(ratings):\n",
    "    list_liked = [i>=4 for i in ratings]\n",
    "    # TODO: Complete the function\n",
    "    percentage_liked = sum(list_liked) / len(ratings)\n",
    "    return percentage_liked\n",
    "\n",
    "# Do not change: should return 0.5\n",
    "percentage_liked([1, 2, 3, 4, 5, 4, 5, 1])\n",
    "\n",
    "# Do not change: Check your answer\n",
    "q4.check()"
   ]
  },
  {
   "cell_type": "code",
   "execution_count": 13,
   "id": "305ea215",
   "metadata": {
    "execution": {
     "iopub.execute_input": "2023-12-05T19:37:18.123061Z",
     "iopub.status.busy": "2023-12-05T19:37:18.122694Z",
     "iopub.status.idle": "2023-12-05T19:37:18.126811Z",
     "shell.execute_reply": "2023-12-05T19:37:18.125827Z"
    },
    "papermill": {
     "duration": 0.015965,
     "end_time": "2023-12-05T19:37:18.129374",
     "exception": false,
     "start_time": "2023-12-05T19:37:18.113409",
     "status": "completed"
    },
    "tags": []
   },
   "outputs": [],
   "source": [
    "# Uncomment to see a hint\n",
    "#q4.hint()\n",
    "\n",
    "# Uncomment to see the solution\n",
    "#q4.solution()"
   ]
  },
  {
   "cell_type": "markdown",
   "id": "65ce3f1e",
   "metadata": {
    "papermill": {
     "duration": 0.008331,
     "end_time": "2023-12-05T19:37:18.146968",
     "exception": false,
     "start_time": "2023-12-05T19:37:18.138637",
     "status": "completed"
    },
    "tags": []
   },
   "source": [
    "# 🌶️ Question 5\n",
    " \n",
    "Say you're doing analytics for a website.  You need to write a function that returns the percentage growth in the total number of users relative to a specified number of years ago.\n",
    "\n",
    "Your function `percentage_growth()` should take two arguments as input:\n",
    "- `num_users` = Python list with the total number of users each year.  So `num_users[0]` is the total number of users in the first year, `num_users[1]` is the total number of users in the second year, and so on.  The final entry in the list gives the total number of users in the most recently completed year.\n",
    "- `yrs_ago` = number of years to go back in time when calculating the growth percentage\n",
    "\n",
    "For instance, say `num_users = [920344, 1043553, 1204334, 1458996, 1503323, 1593432, 1623463, 1843064, 1930992, 2001078]`.\n",
    "- if `yrs_ago = 1`, we want the function to return a value of about `0.036`. This corresponds to a percentage growth of approximately 3.6%, calculated as (2001078 - 1930992)/1930992.\n",
    "- if `years_ago = 7`, we would want to return approximately `0.66`.  This corresponds to a percentage growth of approximately 66%, calculated as (2001078 - 1204334)/1204334.\n",
    "\n",
    "Your coworker sent you a draft of a function, but it doesn't seem to be doing the correct calculation.  Can you figure out what has gone wrong and make the needed changes?"
   ]
  },
  {
   "cell_type": "code",
   "execution_count": 14,
   "id": "706224ff",
   "metadata": {
    "execution": {
     "iopub.execute_input": "2023-12-05T19:37:18.165551Z",
     "iopub.status.busy": "2023-12-05T19:37:18.165119Z",
     "iopub.status.idle": "2023-12-05T19:37:18.176717Z",
     "shell.execute_reply": "2023-12-05T19:37:18.175525Z"
    },
    "papermill": {
     "duration": 0.023086,
     "end_time": "2023-12-05T19:37:18.178951",
     "exception": false,
     "start_time": "2023-12-05T19:37:18.155865",
     "status": "completed"
    },
    "tags": []
   },
   "outputs": [
    {
     "name": "stdout",
     "output_type": "stream",
     "text": [
      "0.03629533421163837\n",
      "0.6615639847417742\n"
     ]
    },
    {
     "data": {
      "application/javascript": [
       "parent.postMessage({\"jupyterEvent\": \"custom.exercise_interaction\", \"data\": {\"outcomeType\": 1, \"valueTowardsCompletion\": 0.2, \"interactionType\": 1, \"questionType\": 2, \"questionId\": \"5_WebsiteAnalytics\", \"learnToolsVersion\": \"0.3.4\", \"failureMessage\": \"\", \"exceptionClass\": \"\", \"trace\": \"\"}}, \"*\")"
      ],
      "text/plain": [
       "<IPython.core.display.Javascript object>"
      ]
     },
     "metadata": {},
     "output_type": "display_data"
    },
    {
     "data": {
      "text/markdown": [
       "<span style=\"color:#33cc33\">Correct</span>"
      ],
      "text/plain": [
       "Correct"
      ]
     },
     "metadata": {},
     "output_type": "display_data"
    }
   ],
   "source": [
    "# TODO: Edit the function\n",
    "def percentage_growth(num_users, yrs_ago):\n",
    "    growth = (num_users[len(num_users)-1] - num_users[len(num_users)-yrs_ago-1])/num_users[len(num_users)-yrs_ago-1]\n",
    "    return growth\n",
    "\n",
    "# Do not change: Variable for calculating some test examples\n",
    "num_users_test = [920344, 1043553, 1204334, 1458996, 1503323, 1593432, 1623463, 1843064, 1930992, 2001078]\n",
    "\n",
    "# Do not change: Should return .036\n",
    "print(percentage_growth(num_users_test, 1))\n",
    "\n",
    "# Do not change: Should return 0.66\n",
    "print(percentage_growth(num_users_test, 7))\n",
    "\n",
    "# Do not change: Check your answer\n",
    "q5.check()"
   ]
  },
  {
   "cell_type": "code",
   "execution_count": 15,
   "id": "1fc41fa7",
   "metadata": {
    "execution": {
     "iopub.execute_input": "2023-12-05T19:37:18.197930Z",
     "iopub.status.busy": "2023-12-05T19:37:18.197530Z",
     "iopub.status.idle": "2023-12-05T19:37:18.204714Z",
     "shell.execute_reply": "2023-12-05T19:37:18.203850Z"
    },
    "papermill": {
     "duration": 0.019674,
     "end_time": "2023-12-05T19:37:18.207033",
     "exception": false,
     "start_time": "2023-12-05T19:37:18.187359",
     "status": "completed"
    },
    "tags": []
   },
   "outputs": [
    {
     "data": {
      "application/javascript": [
       "parent.postMessage({\"jupyterEvent\": \"custom.exercise_interaction\", \"data\": {\"interactionType\": 3, \"questionType\": 2, \"questionId\": \"5_WebsiteAnalytics\", \"learnToolsVersion\": \"0.3.4\", \"valueTowardsCompletion\": 0.0, \"failureMessage\": \"\", \"exceptionClass\": \"\", \"trace\": \"\", \"outcomeType\": 4}}, \"*\")"
      ],
      "text/plain": [
       "<IPython.core.display.Javascript object>"
      ]
     },
     "metadata": {},
     "output_type": "display_data"
    },
    {
     "data": {
      "text/markdown": [
       "<span style=\"color:#33cc99\">Solution:</span> \n",
       "```python\n",
       "def percentage_growth(num_users, yrs_ago):\n",
       "    growth = (num_users[len(num_users)-1] - num_users[len(num_users)-yrs_ago-1])/num_users[len(num_users)-yrs_ago-1]\n",
       "    return growth\n",
       "\n",
       "```"
      ],
      "text/plain": [
       "Solution: \n",
       "```python\n",
       "def percentage_growth(num_users, yrs_ago):\n",
       "    growth = (num_users[len(num_users)-1] - num_users[len(num_users)-yrs_ago-1])/num_users[len(num_users)-yrs_ago-1]\n",
       "    return growth\n",
       "\n",
       "```"
      ]
     },
     "metadata": {},
     "output_type": "display_data"
    }
   ],
   "source": [
    "# Uncomment to see a hint\n",
    "#q5.hint()\n",
    "\n",
    "# Uncomment to see the solution\n",
    "q5.solution()"
   ]
  },
  {
   "cell_type": "markdown",
   "id": "5cbedfeb",
   "metadata": {
    "papermill": {
     "duration": 0.009137,
     "end_time": "2023-12-05T19:37:18.225347",
     "exception": false,
     "start_time": "2023-12-05T19:37:18.216210",
     "status": "completed"
    },
    "tags": []
   },
   "source": [
    "# Congratulations!\n",
    "\n",
    "Congratulations for finishing the Intro to Programming course!  You should be proud of your very first steps with learning programming.  As next steps, we recommend taking:\n",
    "- the **[Python course](http://www.kaggle.com/learn/python)**, and \n",
    "- the **[Intro to Machine Learning course](https://www.kaggle.com/learn/intro-to-machine-learning)**."
   ]
  },
  {
   "cell_type": "markdown",
   "id": "7b44fd1d",
   "metadata": {
    "papermill": {
     "duration": 0.008858,
     "end_time": "2023-12-05T19:37:18.242772",
     "exception": false,
     "start_time": "2023-12-05T19:37:18.233914",
     "status": "completed"
    },
    "tags": []
   },
   "source": [
    "---\n",
    "\n",
    "\n",
    "\n",
    "\n",
    "*Have questions or comments? Visit the [course discussion forum](https://www.kaggle.com/learn/intro-to-programming/discussion) to chat with other learners.*"
   ]
  }
 ],
 "metadata": {
  "kaggle": {
   "accelerator": "none",
   "dataSources": [],
   "isGpuEnabled": false,
   "isInternetEnabled": false,
   "language": "python",
   "sourceType": "notebook"
  },
  "kernelspec": {
   "display_name": "Python 3",
   "language": "python",
   "name": "python3"
  },
  "language_info": {
   "codemirror_mode": {
    "name": "ipython",
    "version": 3
   },
   "file_extension": ".py",
   "mimetype": "text/x-python",
   "name": "python",
   "nbconvert_exporter": "python",
   "pygments_lexer": "ipython3",
   "version": "3.10.12"
  },
  "papermill": {
   "default_parameters": {},
   "duration": 4.766801,
   "end_time": "2023-12-05T19:37:18.772652",
   "environment_variables": {},
   "exception": null,
   "input_path": "__notebook__.ipynb",
   "output_path": "__notebook__.ipynb",
   "parameters": {},
   "start_time": "2023-12-05T19:37:14.005851",
   "version": "2.4.0"
  }
 },
 "nbformat": 4,
 "nbformat_minor": 5
}
