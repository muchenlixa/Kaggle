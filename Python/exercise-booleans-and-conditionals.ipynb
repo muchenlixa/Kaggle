{
 "cells": [
  {
   "cell_type": "markdown",
   "id": "b194e4aa",
   "metadata": {
    "papermill": {
     "duration": 0.008435,
     "end_time": "2023-12-08T02:37:31.009711",
     "exception": false,
     "start_time": "2023-12-08T02:37:31.001276",
     "status": "completed"
    },
    "tags": []
   },
   "source": [
    "**This notebook is an exercise in the [Python](https://www.kaggle.com/learn/python) course.  You can reference the tutorial at [this link](https://www.kaggle.com/colinmorris/booleans-and-conditionals).**\n",
    "\n",
    "---\n"
   ]
  },
  {
   "cell_type": "markdown",
   "id": "38139e69",
   "metadata": {
    "papermill": {
     "duration": 0.006737,
     "end_time": "2023-12-08T02:37:31.023659",
     "exception": false,
     "start_time": "2023-12-08T02:37:31.016922",
     "status": "completed"
    },
    "tags": []
   },
   "source": [
    "In this exercise, you'll put to work what you have learned about booleans and conditionals.\n",
    "\n",
    "To get started, **run the setup code below** before writing your own code (and if you leave this notebook and come back later, don't forget to run the setup code again)."
   ]
  },
  {
   "cell_type": "code",
   "execution_count": 1,
   "id": "0e9c9544",
   "metadata": {
    "execution": {
     "iopub.execute_input": "2023-12-08T02:37:31.040160Z",
     "iopub.status.busy": "2023-12-08T02:37:31.038651Z",
     "iopub.status.idle": "2023-12-08T02:37:31.406589Z",
     "shell.execute_reply": "2023-12-08T02:37:31.405439Z"
    },
    "papermill": {
     "duration": 0.378036,
     "end_time": "2023-12-08T02:37:31.408628",
     "exception": false,
     "start_time": "2023-12-08T02:37:31.030592",
     "status": "completed"
    },
    "tags": []
   },
   "outputs": [
    {
     "name": "stdout",
     "output_type": "stream",
     "text": [
      "Setup complete.\n"
     ]
    }
   ],
   "source": [
    "from learntools.core import binder; binder.bind(globals())\n",
    "from learntools.python.ex3 import *\n",
    "print('Setup complete.')"
   ]
  },
  {
   "cell_type": "markdown",
   "id": "65f3a5a8",
   "metadata": {
    "papermill": {
     "duration": 0.007013,
     "end_time": "2023-12-08T02:37:31.423334",
     "exception": false,
     "start_time": "2023-12-08T02:37:31.416321",
     "status": "completed"
    },
    "tags": []
   },
   "source": [
    "# 1.\n",
    "\n",
    "Many programming languages have [`sign`](https://en.wikipedia.org/wiki/Sign_function) available as a built-in function. Python doesn't, but we can define our own!\n",
    "\n",
    "In the cell below, define a function called `sign` which takes a numerical argument and returns -1 if it's negative, 1 if it's positive, and 0 if it's 0."
   ]
  },
  {
   "cell_type": "code",
   "execution_count": 2,
   "id": "2f0f4f2b",
   "metadata": {
    "execution": {
     "iopub.execute_input": "2023-12-08T02:37:31.439297Z",
     "iopub.status.busy": "2023-12-08T02:37:31.438833Z",
     "iopub.status.idle": "2023-12-08T02:37:31.450889Z",
     "shell.execute_reply": "2023-12-08T02:37:31.449043Z"
    },
    "papermill": {
     "duration": 0.022379,
     "end_time": "2023-12-08T02:37:31.452925",
     "exception": false,
     "start_time": "2023-12-08T02:37:31.430546",
     "status": "completed"
    },
    "tags": []
   },
   "outputs": [
    {
     "data": {
      "application/javascript": [
       "parent.postMessage({\"jupyterEvent\": \"custom.exercise_interaction\", \"data\": {\"outcomeType\": 1, \"valueTowardsCompletion\": 0.2, \"interactionType\": 1, \"questionType\": 2, \"questionId\": \"1_SignFunctionProblem\", \"learnToolsVersion\": \"0.3.4\", \"failureMessage\": \"\", \"exceptionClass\": \"\", \"trace\": \"\"}}, \"*\")"
      ],
      "text/plain": [
       "<IPython.core.display.Javascript object>"
      ]
     },
     "metadata": {},
     "output_type": "display_data"
    },
    {
     "data": {
      "text/markdown": [
       "<span style=\"color:#33cc33\">Correct</span>"
      ],
      "text/plain": [
       "Correct"
      ]
     },
     "metadata": {},
     "output_type": "display_data"
    }
   ],
   "source": [
    "# Your code goes here. Define a function called 'sign'\n",
    "def sign(arg):\n",
    "    if arg < 0:\n",
    "        return -1\n",
    "    elif arg == 0:\n",
    "        return 0\n",
    "    else:\n",
    "        return 1\n",
    "# Check your answer\n",
    "q1.check()"
   ]
  },
  {
   "cell_type": "code",
   "execution_count": 3,
   "id": "c5b91384",
   "metadata": {
    "execution": {
     "iopub.execute_input": "2023-12-08T02:37:31.470930Z",
     "iopub.status.busy": "2023-12-08T02:37:31.470340Z",
     "iopub.status.idle": "2023-12-08T02:37:31.473733Z",
     "shell.execute_reply": "2023-12-08T02:37:31.473167Z"
    },
    "papermill": {
     "duration": 0.015041,
     "end_time": "2023-12-08T02:37:31.475969",
     "exception": false,
     "start_time": "2023-12-08T02:37:31.460928",
     "status": "completed"
    },
    "tags": []
   },
   "outputs": [],
   "source": [
    "#q1.solution()"
   ]
  },
  {
   "cell_type": "markdown",
   "id": "42f8e5dd",
   "metadata": {
    "papermill": {
     "duration": 0.007501,
     "end_time": "2023-12-08T02:37:31.491878",
     "exception": false,
     "start_time": "2023-12-08T02:37:31.484377",
     "status": "completed"
    },
    "tags": []
   },
   "source": [
    "# 2.\n",
    "\n",
    "We've decided to add \"logging\" to our `to_smash` function from the previous exercise."
   ]
  },
  {
   "cell_type": "code",
   "execution_count": 4,
   "id": "a77ae370",
   "metadata": {
    "execution": {
     "iopub.execute_input": "2023-12-08T02:37:31.511101Z",
     "iopub.status.busy": "2023-12-08T02:37:31.510427Z",
     "iopub.status.idle": "2023-12-08T02:37:31.518324Z",
     "shell.execute_reply": "2023-12-08T02:37:31.516862Z"
    },
    "papermill": {
     "duration": 0.021072,
     "end_time": "2023-12-08T02:37:31.521056",
     "exception": false,
     "start_time": "2023-12-08T02:37:31.499984",
     "status": "completed"
    },
    "tags": []
   },
   "outputs": [
    {
     "name": "stdout",
     "output_type": "stream",
     "text": [
      "Splitting 91 candies\n"
     ]
    },
    {
     "data": {
      "text/plain": [
       "1"
      ]
     },
     "execution_count": 4,
     "metadata": {},
     "output_type": "execute_result"
    }
   ],
   "source": [
    "def to_smash(total_candies):\n",
    "    \"\"\"Return the number of leftover candies that must be smashed after distributing\n",
    "    the given number of candies evenly between 3 friends.\n",
    "    \n",
    "    >>> to_smash(91)\n",
    "    1\n",
    "    \"\"\"\n",
    "    print(\"Splitting\", total_candies, \"candies\")\n",
    "    return total_candies % 3\n",
    "\n",
    "to_smash(91)"
   ]
  },
  {
   "cell_type": "markdown",
   "id": "af2a99a3",
   "metadata": {
    "papermill": {
     "duration": 0.007549,
     "end_time": "2023-12-08T02:37:31.537524",
     "exception": false,
     "start_time": "2023-12-08T02:37:31.529975",
     "status": "completed"
    },
    "tags": []
   },
   "source": [
    "What happens if we call it with `total_candies = 1`?"
   ]
  },
  {
   "cell_type": "code",
   "execution_count": 5,
   "id": "c0d3a5c2",
   "metadata": {
    "execution": {
     "iopub.execute_input": "2023-12-08T02:37:31.556348Z",
     "iopub.status.busy": "2023-12-08T02:37:31.555961Z",
     "iopub.status.idle": "2023-12-08T02:37:31.562998Z",
     "shell.execute_reply": "2023-12-08T02:37:31.561979Z"
    },
    "papermill": {
     "duration": 0.018891,
     "end_time": "2023-12-08T02:37:31.565140",
     "exception": false,
     "start_time": "2023-12-08T02:37:31.546249",
     "status": "completed"
    },
    "tags": []
   },
   "outputs": [
    {
     "name": "stdout",
     "output_type": "stream",
     "text": [
      "Splitting 1 candies\n"
     ]
    },
    {
     "data": {
      "text/plain": [
       "1"
      ]
     },
     "execution_count": 5,
     "metadata": {},
     "output_type": "execute_result"
    }
   ],
   "source": [
    "to_smash(1)"
   ]
  },
  {
   "cell_type": "markdown",
   "id": "3dd2d1b0",
   "metadata": {
    "papermill": {
     "duration": 0.007723,
     "end_time": "2023-12-08T02:37:31.581071",
     "exception": false,
     "start_time": "2023-12-08T02:37:31.573348",
     "status": "completed"
    },
    "tags": []
   },
   "source": [
    "That isn't great grammar!\n",
    "\n",
    "Modify the definition in the cell below to correct the grammar of our print statement. (If there's only one candy, we should use the singular \"candy\" instead of the plural \"candies\")"
   ]
  },
  {
   "cell_type": "code",
   "execution_count": 6,
   "id": "0b41fe6a",
   "metadata": {
    "execution": {
     "iopub.execute_input": "2023-12-08T02:37:31.599471Z",
     "iopub.status.busy": "2023-12-08T02:37:31.598365Z",
     "iopub.status.idle": "2023-12-08T02:37:31.608378Z",
     "shell.execute_reply": "2023-12-08T02:37:31.606588Z"
    },
    "papermill": {
     "duration": 0.021315,
     "end_time": "2023-12-08T02:37:31.610443",
     "exception": false,
     "start_time": "2023-12-08T02:37:31.589128",
     "status": "completed"
    },
    "tags": []
   },
   "outputs": [
    {
     "name": "stdout",
     "output_type": "stream",
     "text": [
      "Splitting 91 candies\n",
      "Splitting 1 candy\n"
     ]
    },
    {
     "data": {
      "text/plain": [
       "1"
      ]
     },
     "execution_count": 6,
     "metadata": {},
     "output_type": "execute_result"
    }
   ],
   "source": [
    "def to_smash(total_candies):\n",
    "    \"\"\"Return the number of leftover candies that must be smashed after distributing\n",
    "    the given number of candies evenly between 3 friends.\n",
    "    \n",
    "    >>> to_smash(91)\n",
    "    1\n",
    "    \"\"\"\n",
    "    if total_candies < 2:\n",
    "        print(\"Splitting\", total_candies, \"candy\")\n",
    "    else:\n",
    "        print(\"Splitting\", total_candies, \"candies\")\n",
    "    return total_candies % 3\n",
    "\n",
    "to_smash(91)\n",
    "to_smash(1)"
   ]
  },
  {
   "cell_type": "markdown",
   "id": "14b3540c",
   "metadata": {
    "papermill": {
     "duration": 0.008755,
     "end_time": "2023-12-08T02:37:31.627502",
     "exception": false,
     "start_time": "2023-12-08T02:37:31.618747",
     "status": "completed"
    },
    "tags": []
   },
   "source": [
    "To get credit for completing this problem, and to see the official answer, run the code cell below."
   ]
  },
  {
   "cell_type": "code",
   "execution_count": 7,
   "id": "3ddb06a0",
   "metadata": {
    "execution": {
     "iopub.execute_input": "2023-12-08T02:37:31.646121Z",
     "iopub.status.busy": "2023-12-08T02:37:31.645748Z",
     "iopub.status.idle": "2023-12-08T02:37:31.655061Z",
     "shell.execute_reply": "2023-12-08T02:37:31.653735Z"
    },
    "papermill": {
     "duration": 0.021222,
     "end_time": "2023-12-08T02:37:31.657419",
     "exception": false,
     "start_time": "2023-12-08T02:37:31.636197",
     "status": "completed"
    },
    "tags": []
   },
   "outputs": [
    {
     "data": {
      "application/javascript": [
       "parent.postMessage({\"jupyterEvent\": \"custom.exercise_interaction\", \"data\": {\"interactionType\": 3, \"questionType\": 4, \"questionId\": \"2_PluralizationProblem\", \"learnToolsVersion\": \"0.3.4\", \"valueTowardsCompletion\": 0.0, \"failureMessage\": \"\", \"exceptionClass\": \"\", \"trace\": \"\", \"outcomeType\": 4}}, \"*\")"
      ],
      "text/plain": [
       "<IPython.core.display.Javascript object>"
      ]
     },
     "metadata": {},
     "output_type": "display_data"
    },
    {
     "data": {
      "text/markdown": [
       "<span style=\"color:#33cc99\">Solution:</span> A straightforward (and totally fine) solution is to replace the original `print` call with:\n",
       "\n",
       "```python\n",
       "if total_candies == 1:\n",
       "    print(\"Splitting 1 candy\")\n",
       "else:\n",
       "    print(\"Splitting\", total_candies, \"candies\")\n",
       "```\n",
       "\n",
       "Here's a slightly more succinct solution using a conditional expression:\n",
       "\n",
       "```python\n",
       "print(\"Splitting\", total_candies, \"candy\" if total_candies == 1 else \"candies\")\n",
       "```"
      ],
      "text/plain": [
       "Solution: A straightforward (and totally fine) solution is to replace the original `print` call with:\n",
       "\n",
       "```python\n",
       "if total_candies == 1:\n",
       "    print(\"Splitting 1 candy\")\n",
       "else:\n",
       "    print(\"Splitting\", total_candies, \"candies\")\n",
       "```\n",
       "\n",
       "Here's a slightly more succinct solution using a conditional expression:\n",
       "\n",
       "```python\n",
       "print(\"Splitting\", total_candies, \"candy\" if total_candies == 1 else \"candies\")\n",
       "```"
      ]
     },
     "metadata": {},
     "output_type": "display_data"
    }
   ],
   "source": [
    "# Check your answer (Run this code cell to receive credit!)\n",
    "q2.solution()"
   ]
  },
  {
   "cell_type": "markdown",
   "id": "72ec879a",
   "metadata": {
    "papermill": {
     "duration": 0.008034,
     "end_time": "2023-12-08T02:37:31.674782",
     "exception": false,
     "start_time": "2023-12-08T02:37:31.666748",
     "status": "completed"
    },
    "tags": []
   },
   "source": [
    "# 3. <span title=\"A bit spicy\" style=\"color: darkgreen \">🌶️</span>\n",
    "\n",
    "In the tutorial, we talked about deciding whether we're prepared for the weather. I said that I'm safe from today's weather if...\n",
    "- I have an umbrella...\n",
    "- or if the rain isn't too heavy and I have a hood...\n",
    "- otherwise, I'm still fine unless it's raining *and* it's a workday\n",
    "\n",
    "The function below uses our first attempt at turning this logic into a Python expression. I claimed that there was a bug in that code. Can you find it?\n",
    "\n",
    "To prove that `prepared_for_weather` is buggy, come up with a set of inputs where either:\n",
    "- the function returns `False` (but should have returned `True`), or\n",
    "- the function returned `True` (but should have returned `False`).\n",
    "\n",
    "To get credit for completing this question, your code should return a <font color='#33cc33'>Correct</font> result."
   ]
  },
  {
   "cell_type": "code",
   "execution_count": 8,
   "id": "291beee6",
   "metadata": {
    "execution": {
     "iopub.execute_input": "2023-12-08T02:37:31.694335Z",
     "iopub.status.busy": "2023-12-08T02:37:31.693998Z",
     "iopub.status.idle": "2023-12-08T02:37:31.703484Z",
     "shell.execute_reply": "2023-12-08T02:37:31.702292Z"
    },
    "papermill": {
     "duration": 0.021435,
     "end_time": "2023-12-08T02:37:31.705231",
     "exception": false,
     "start_time": "2023-12-08T02:37:31.683796",
     "status": "completed"
    },
    "tags": []
   },
   "outputs": [
    {
     "name": "stdout",
     "output_type": "stream",
     "text": [
      "False\n"
     ]
    },
    {
     "data": {
      "application/javascript": [
       "parent.postMessage({\"jupyterEvent\": \"custom.exercise_interaction\", \"data\": {\"outcomeType\": 1, \"valueTowardsCompletion\": 0.2, \"interactionType\": 1, \"questionType\": 1, \"questionId\": \"3_WeatherDebug\", \"learnToolsVersion\": \"0.3.4\", \"failureMessage\": \"\", \"exceptionClass\": \"\", \"trace\": \"\"}}, \"*\")"
      ],
      "text/plain": [
       "<IPython.core.display.Javascript object>"
      ]
     },
     "metadata": {},
     "output_type": "display_data"
    },
    {
     "data": {
      "text/markdown": [
       "<span style=\"color:#33cc33\">Correct:</span> \n",
       "\n",
       "One example of a failing test case is:\n",
       "\n",
       "```python\n",
       "have_umbrella = False\n",
       "rain_level = 0.0\n",
       "have_hood = False\n",
       "is_workday = False\n",
       "```\n",
       "\n",
       "Clearly we're prepared for the weather in this case. It's not raining. Not only that, it's not a workday, so we don't even need to leave the house! But our function will return False on these inputs.\n",
       "\n",
       "The key problem is that Python implictly parenthesizes the last part as:\n",
       "\n",
       "```python\n",
       "(not (rain_level > 0)) and is_workday\n",
       "```\n",
       "\n",
       "Whereas what we were trying to express would look more like:\n",
       "\n",
       "```python\n",
       "not (rain_level > 0 and is_workday)\n",
       "```\n"
      ],
      "text/plain": [
       "Correct: \n",
       "\n",
       "One example of a failing test case is:\n",
       "\n",
       "```python\n",
       "have_umbrella = False\n",
       "rain_level = 0.0\n",
       "have_hood = False\n",
       "is_workday = False\n",
       "```\n",
       "\n",
       "Clearly we're prepared for the weather in this case. It's not raining. Not only that, it's not a workday, so we don't even need to leave the house! But our function will return False on these inputs.\n",
       "\n",
       "The key problem is that Python implictly parenthesizes the last part as:\n",
       "\n",
       "```python\n",
       "(not (rain_level > 0)) and is_workday\n",
       "```\n",
       "\n",
       "Whereas what we were trying to express would look more like:\n",
       "\n",
       "```python\n",
       "not (rain_level > 0 and is_workday)\n",
       "```"
      ]
     },
     "metadata": {},
     "output_type": "display_data"
    }
   ],
   "source": [
    "def prepared_for_weather(have_umbrella, rain_level, have_hood, is_workday):\n",
    "    # Don't change this code. Our goal is just to find the bug, not fix it!\n",
    "    return have_umbrella or rain_level < 5 and have_hood or not rain_level > 0 and is_workday\n",
    "\n",
    "# Change the values of these inputs so they represent a case where prepared_for_weather\n",
    "# returns the wrong answer.\n",
    "have_umbrella = False\n",
    "rain_level = 5\n",
    "have_hood = False\n",
    "is_workday = False\n",
    "\n",
    "# Check what the function returns given the current values of the variables above\n",
    "actual = prepared_for_weather(have_umbrella, rain_level, have_hood, is_workday)\n",
    "print(actual)\n",
    "\n",
    "# Check your answer\n",
    "q3.check()"
   ]
  },
  {
   "cell_type": "code",
   "execution_count": 9,
   "id": "aef526d2",
   "metadata": {
    "execution": {
     "iopub.execute_input": "2023-12-08T02:37:31.723996Z",
     "iopub.status.busy": "2023-12-08T02:37:31.723580Z",
     "iopub.status.idle": "2023-12-08T02:37:31.727453Z",
     "shell.execute_reply": "2023-12-08T02:37:31.726577Z"
    },
    "papermill": {
     "duration": 0.015832,
     "end_time": "2023-12-08T02:37:31.729803",
     "exception": false,
     "start_time": "2023-12-08T02:37:31.713971",
     "status": "completed"
    },
    "tags": []
   },
   "outputs": [],
   "source": [
    "#q3.hint()\n",
    "#q3.solution()"
   ]
  },
  {
   "cell_type": "markdown",
   "id": "8e02c534",
   "metadata": {
    "papermill": {
     "duration": 0.00859,
     "end_time": "2023-12-08T02:37:31.747740",
     "exception": false,
     "start_time": "2023-12-08T02:37:31.739150",
     "status": "completed"
    },
    "tags": []
   },
   "source": [
    "# 4.\n",
    "\n",
    "The function `is_negative` below is implemented correctly - it returns True if the given number is negative and False otherwise.\n",
    "\n",
    "However, it's more verbose than it needs to be. We can actually reduce the number of lines of code in this function by *75%* while keeping the same behaviour. \n",
    "\n",
    "See if you can come up with an equivalent body that uses just **one line** of code, and put it in the function `concise_is_negative`. (HINT: you don't even need Python's ternary syntax)"
   ]
  },
  {
   "cell_type": "code",
   "execution_count": 10,
   "id": "c13b73d2",
   "metadata": {
    "execution": {
     "iopub.execute_input": "2023-12-08T02:37:31.767337Z",
     "iopub.status.busy": "2023-12-08T02:37:31.766887Z",
     "iopub.status.idle": "2023-12-08T02:37:31.776061Z",
     "shell.execute_reply": "2023-12-08T02:37:31.775203Z"
    },
    "papermill": {
     "duration": 0.022256,
     "end_time": "2023-12-08T02:37:31.778914",
     "exception": false,
     "start_time": "2023-12-08T02:37:31.756658",
     "status": "completed"
    },
    "tags": []
   },
   "outputs": [
    {
     "data": {
      "application/javascript": [
       "parent.postMessage({\"jupyterEvent\": \"custom.exercise_interaction\", \"data\": {\"outcomeType\": 1, \"valueTowardsCompletion\": 0.2, \"interactionType\": 1, \"questionType\": 2, \"questionId\": \"4_ConciseIsNegative\", \"learnToolsVersion\": \"0.3.4\", \"failureMessage\": \"\", \"exceptionClass\": \"\", \"trace\": \"\"}}, \"*\")"
      ],
      "text/plain": [
       "<IPython.core.display.Javascript object>"
      ]
     },
     "metadata": {},
     "output_type": "display_data"
    },
    {
     "data": {
      "text/markdown": [
       "<span style=\"color:#33cc33\">Correct</span>"
      ],
      "text/plain": [
       "Correct"
      ]
     },
     "metadata": {},
     "output_type": "display_data"
    }
   ],
   "source": [
    "def is_negative(number):\n",
    "    if number < 0:\n",
    "        return True\n",
    "    else:\n",
    "        return False\n",
    "\n",
    "def concise_is_negative(number):\n",
    "    return True if number < 0 else False\n",
    "\n",
    "# Check your answer\n",
    "q4.check()"
   ]
  },
  {
   "cell_type": "code",
   "execution_count": 11,
   "id": "c802a094",
   "metadata": {
    "execution": {
     "iopub.execute_input": "2023-12-08T02:37:31.800486Z",
     "iopub.status.busy": "2023-12-08T02:37:31.800082Z",
     "iopub.status.idle": "2023-12-08T02:37:31.804258Z",
     "shell.execute_reply": "2023-12-08T02:37:31.803275Z"
    },
    "papermill": {
     "duration": 0.017198,
     "end_time": "2023-12-08T02:37:31.807101",
     "exception": false,
     "start_time": "2023-12-08T02:37:31.789903",
     "status": "completed"
    },
    "tags": []
   },
   "outputs": [],
   "source": [
    "#q4.hint()\n",
    "#q4.solution()"
   ]
  },
  {
   "cell_type": "markdown",
   "id": "d7f1f82e",
   "metadata": {
    "papermill": {
     "duration": 0.008985,
     "end_time": "2023-12-08T02:37:31.825696",
     "exception": false,
     "start_time": "2023-12-08T02:37:31.816711",
     "status": "completed"
    },
    "tags": []
   },
   "source": [
    "# 5a.\n",
    "\n",
    "The boolean variables `ketchup`, `mustard` and `onion` represent whether a customer wants a particular topping on their hot dog. We want to implement a number of boolean functions that correspond to some yes-or-no questions about the customer's order. For example:"
   ]
  },
  {
   "cell_type": "code",
   "execution_count": 12,
   "id": "c0ceaaa9",
   "metadata": {
    "execution": {
     "iopub.execute_input": "2023-12-08T02:37:31.845398Z",
     "iopub.status.busy": "2023-12-08T02:37:31.845039Z",
     "iopub.status.idle": "2023-12-08T02:37:31.849271Z",
     "shell.execute_reply": "2023-12-08T02:37:31.848293Z"
    },
    "papermill": {
     "duration": 0.016687,
     "end_time": "2023-12-08T02:37:31.851647",
     "exception": false,
     "start_time": "2023-12-08T02:37:31.834960",
     "status": "completed"
    },
    "tags": []
   },
   "outputs": [],
   "source": [
    "def onionless(ketchup, mustard, onion):\n",
    "    \"\"\"Return whether the customer doesn't want onions.\n",
    "    \"\"\"\n",
    "    return not onion"
   ]
  },
  {
   "cell_type": "code",
   "execution_count": 13,
   "id": "a5962f5b",
   "metadata": {
    "execution": {
     "iopub.execute_input": "2023-12-08T02:37:31.932696Z",
     "iopub.status.busy": "2023-12-08T02:37:31.932115Z",
     "iopub.status.idle": "2023-12-08T02:37:31.940449Z",
     "shell.execute_reply": "2023-12-08T02:37:31.939088Z"
    },
    "papermill": {
     "duration": 0.020388,
     "end_time": "2023-12-08T02:37:31.942263",
     "exception": false,
     "start_time": "2023-12-08T02:37:31.921875",
     "status": "completed"
    },
    "tags": []
   },
   "outputs": [
    {
     "data": {
      "application/javascript": [
       "parent.postMessage({\"jupyterEvent\": \"custom.exercise_interaction\", \"data\": {\"outcomeType\": 1, \"valueTowardsCompletion\": 0.2, \"interactionType\": 1, \"questionType\": 2, \"questionId\": \"5.1_AllToppings\", \"learnToolsVersion\": \"0.3.4\", \"failureMessage\": \"\", \"exceptionClass\": \"\", \"trace\": \"\"}}, \"*\")"
      ],
      "text/plain": [
       "<IPython.core.display.Javascript object>"
      ]
     },
     "metadata": {},
     "output_type": "display_data"
    },
    {
     "data": {
      "text/markdown": [
       "<span style=\"color:#33cc33\">Correct</span>"
      ],
      "text/plain": [
       "Correct"
      ]
     },
     "metadata": {},
     "output_type": "display_data"
    }
   ],
   "source": [
    "def wants_all_toppings(ketchup, mustard, onion):\n",
    "    \"\"\"Return whether the customer wants \"the works\" (all 3 toppings)\n",
    "    \"\"\"\n",
    "    return ketchup and mustard and onion\n",
    "\n",
    "# Check your answer\n",
    "q5.a.check()"
   ]
  },
  {
   "cell_type": "code",
   "execution_count": 14,
   "id": "90e9e033",
   "metadata": {
    "execution": {
     "iopub.execute_input": "2023-12-08T02:37:31.963429Z",
     "iopub.status.busy": "2023-12-08T02:37:31.963032Z",
     "iopub.status.idle": "2023-12-08T02:37:31.970348Z",
     "shell.execute_reply": "2023-12-08T02:37:31.969610Z"
    },
    "papermill": {
     "duration": 0.020873,
     "end_time": "2023-12-08T02:37:31.972801",
     "exception": false,
     "start_time": "2023-12-08T02:37:31.951928",
     "status": "completed"
    },
    "tags": []
   },
   "outputs": [
    {
     "data": {
      "application/javascript": [
       "parent.postMessage({\"jupyterEvent\": \"custom.exercise_interaction\", \"data\": {\"interactionType\": 3, \"questionType\": 2, \"questionId\": \"5.1_AllToppings\", \"learnToolsVersion\": \"0.3.4\", \"valueTowardsCompletion\": 0.0, \"failureMessage\": \"\", \"exceptionClass\": \"\", \"trace\": \"\", \"outcomeType\": 4}}, \"*\")"
      ],
      "text/plain": [
       "<IPython.core.display.Javascript object>"
      ]
     },
     "metadata": {},
     "output_type": "display_data"
    },
    {
     "data": {
      "text/markdown": [
       "<span style=\"color:#33cc99\">Solution:</span> \n",
       "```python\n",
       "return ketchup and mustard and onion\n",
       "```"
      ],
      "text/plain": [
       "Solution: \n",
       "```python\n",
       "return ketchup and mustard and onion\n",
       "```"
      ]
     },
     "metadata": {},
     "output_type": "display_data"
    }
   ],
   "source": [
    "#q5.a.hint()\n",
    "q5.a.solution()"
   ]
  },
  {
   "cell_type": "markdown",
   "id": "7c739626",
   "metadata": {
    "papermill": {
     "duration": 0.00991,
     "end_time": "2023-12-08T02:37:31.993137",
     "exception": false,
     "start_time": "2023-12-08T02:37:31.983227",
     "status": "completed"
    },
    "tags": []
   },
   "source": [
    "# 5b.\n",
    "\n",
    "For the next function, fill in the body to match the English description in the docstring. "
   ]
  },
  {
   "cell_type": "code",
   "execution_count": 15,
   "id": "0bce6b4a",
   "metadata": {
    "execution": {
     "iopub.execute_input": "2023-12-08T02:37:32.018300Z",
     "iopub.status.busy": "2023-12-08T02:37:32.017982Z",
     "iopub.status.idle": "2023-12-08T02:37:32.025973Z",
     "shell.execute_reply": "2023-12-08T02:37:32.025009Z"
    },
    "papermill": {
     "duration": 0.025028,
     "end_time": "2023-12-08T02:37:32.028595",
     "exception": false,
     "start_time": "2023-12-08T02:37:32.003567",
     "status": "completed"
    },
    "tags": []
   },
   "outputs": [
    {
     "data": {
      "application/javascript": [
       "parent.postMessage({\"jupyterEvent\": \"custom.exercise_interaction\", \"data\": {\"outcomeType\": 1, \"valueTowardsCompletion\": 0.2, \"interactionType\": 1, \"questionType\": 2, \"questionId\": \"5.2_PlainDog\", \"learnToolsVersion\": \"0.3.4\", \"failureMessage\": \"\", \"exceptionClass\": \"\", \"trace\": \"\"}}, \"*\")"
      ],
      "text/plain": [
       "<IPython.core.display.Javascript object>"
      ]
     },
     "metadata": {},
     "output_type": "display_data"
    },
    {
     "data": {
      "text/markdown": [
       "<span style=\"color:#33cc33\">Correct:</span> \n",
       "\n",
       "One solution looks like:\n",
       "```python\n",
       "return not ketchup and not mustard and not onion\n",
       "```\n",
       "\n",
       "We can also [\"factor out\" the nots](https://en.wikipedia.org/wiki/De_Morgan%27s_laws) to get:\n",
       "\n",
       "```python\n",
       "return not (ketchup or mustard or onion)\n",
       "```"
      ],
      "text/plain": [
       "Correct: \n",
       "\n",
       "One solution looks like:\n",
       "```python\n",
       "return not ketchup and not mustard and not onion\n",
       "```\n",
       "\n",
       "We can also [\"factor out\" the nots](https://en.wikipedia.org/wiki/De_Morgan%27s_laws) to get:\n",
       "\n",
       "```python\n",
       "return not (ketchup or mustard or onion)\n",
       "```"
      ]
     },
     "metadata": {},
     "output_type": "display_data"
    }
   ],
   "source": [
    "def wants_plain_hotdog(ketchup, mustard, onion):\n",
    "    \"\"\"Return whether the customer wants a plain hot dog with no toppings.\n",
    "    \"\"\"\n",
    "    return not ketchup and not mustard and not onion\n",
    "\n",
    "# Check your answer\n",
    "q5.b.check()"
   ]
  },
  {
   "cell_type": "code",
   "execution_count": 16,
   "id": "5f02ad5c",
   "metadata": {
    "execution": {
     "iopub.execute_input": "2023-12-08T02:37:32.052230Z",
     "iopub.status.busy": "2023-12-08T02:37:32.051827Z",
     "iopub.status.idle": "2023-12-08T02:37:32.057554Z",
     "shell.execute_reply": "2023-12-08T02:37:32.055967Z"
    },
    "papermill": {
     "duration": 0.020837,
     "end_time": "2023-12-08T02:37:32.060357",
     "exception": false,
     "start_time": "2023-12-08T02:37:32.039520",
     "status": "completed"
    },
    "tags": []
   },
   "outputs": [],
   "source": [
    "#q5.b.hint()\n",
    "#q5.b.solution()"
   ]
  },
  {
   "cell_type": "markdown",
   "id": "53f8cb43",
   "metadata": {
    "papermill": {
     "duration": 0.010137,
     "end_time": "2023-12-08T02:37:32.080821",
     "exception": false,
     "start_time": "2023-12-08T02:37:32.070684",
     "status": "completed"
    },
    "tags": []
   },
   "source": [
    "# 5c.\n",
    "\n",
    "You know what to do: for the next function, fill in the body to match the English description in the docstring."
   ]
  },
  {
   "cell_type": "code",
   "execution_count": 17,
   "id": "094725ab",
   "metadata": {
    "execution": {
     "iopub.execute_input": "2023-12-08T02:37:32.102277Z",
     "iopub.status.busy": "2023-12-08T02:37:32.101877Z",
     "iopub.status.idle": "2023-12-08T02:37:32.109736Z",
     "shell.execute_reply": "2023-12-08T02:37:32.109011Z"
    },
    "papermill": {
     "duration": 0.020567,
     "end_time": "2023-12-08T02:37:32.111418",
     "exception": false,
     "start_time": "2023-12-08T02:37:32.090851",
     "status": "completed"
    },
    "tags": []
   },
   "outputs": [
    {
     "data": {
      "application/javascript": [
       "parent.postMessage({\"jupyterEvent\": \"custom.exercise_interaction\", \"data\": {\"outcomeType\": 1, \"valueTowardsCompletion\": 0.2, \"interactionType\": 1, \"questionType\": 2, \"questionId\": \"5.3_OneSauce\", \"learnToolsVersion\": \"0.3.4\", \"failureMessage\": \"\", \"exceptionClass\": \"\", \"trace\": \"\"}}, \"*\")"
      ],
      "text/plain": [
       "<IPython.core.display.Javascript object>"
      ]
     },
     "metadata": {},
     "output_type": "display_data"
    },
    {
     "data": {
      "text/markdown": [
       "<span style=\"color:#33cc33\">Correct</span>"
      ],
      "text/plain": [
       "Correct"
      ]
     },
     "metadata": {},
     "output_type": "display_data"
    }
   ],
   "source": [
    "def exactly_one_sauce(ketchup, mustard, onion):\n",
    "    \"\"\"Return whether the customer wants either ketchup or mustard, but not both.\n",
    "    (You may be familiar with this operation under the name \"exclusive or\")\n",
    "    \"\"\"\n",
    "    return onion and (not ketchup and mustard) or (not mustard and ketchup)\n",
    "\n",
    "# Check your answer\n",
    "q5.c.check()"
   ]
  },
  {
   "cell_type": "code",
   "execution_count": 18,
   "id": "39d4a23e",
   "metadata": {
    "execution": {
     "iopub.execute_input": "2023-12-08T02:37:32.134972Z",
     "iopub.status.busy": "2023-12-08T02:37:32.134583Z",
     "iopub.status.idle": "2023-12-08T02:37:32.138931Z",
     "shell.execute_reply": "2023-12-08T02:37:32.137597Z"
    },
    "papermill": {
     "duration": 0.01947,
     "end_time": "2023-12-08T02:37:32.141496",
     "exception": false,
     "start_time": "2023-12-08T02:37:32.122026",
     "status": "completed"
    },
    "tags": []
   },
   "outputs": [],
   "source": [
    "#q5.c.hint()\n",
    "#q5.c.solution()"
   ]
  },
  {
   "cell_type": "markdown",
   "id": "ca169c40",
   "metadata": {
    "papermill": {
     "duration": 0.012198,
     "end_time": "2023-12-08T02:37:32.164792",
     "exception": false,
     "start_time": "2023-12-08T02:37:32.152594",
     "status": "completed"
    },
    "tags": []
   },
   "source": [
    "# 6. <span title=\"A bit spicy\" style=\"color: darkgreen \">🌶️</span>\n",
    "\n",
    "We’ve seen that calling `bool()` on an integer returns `False` if it’s equal to 0 and `True` otherwise. What happens if we call `int()` on a bool? Try it out in the notebook cell below.\n",
    "\n",
    "Can you take advantage of this to write a succinct function that corresponds to the English sentence \"does the customer want exactly one topping?\"?"
   ]
  },
  {
   "cell_type": "code",
   "execution_count": 19,
   "id": "1c90419b",
   "metadata": {
    "execution": {
     "iopub.execute_input": "2023-12-08T02:37:32.187865Z",
     "iopub.status.busy": "2023-12-08T02:37:32.187023Z",
     "iopub.status.idle": "2023-12-08T02:37:32.196894Z",
     "shell.execute_reply": "2023-12-08T02:37:32.195714Z"
    },
    "papermill": {
     "duration": 0.023777,
     "end_time": "2023-12-08T02:37:32.199186",
     "exception": false,
     "start_time": "2023-12-08T02:37:32.175409",
     "status": "completed"
    },
    "tags": []
   },
   "outputs": [
    {
     "data": {
      "application/javascript": [
       "parent.postMessage({\"jupyterEvent\": \"custom.exercise_interaction\", \"data\": {\"outcomeType\": 1, \"valueTowardsCompletion\": 0.2, \"interactionType\": 1, \"questionType\": 2, \"questionId\": \"6_OneTopping\", \"learnToolsVersion\": \"0.3.4\", \"failureMessage\": \"\", \"exceptionClass\": \"\", \"trace\": \"\"}}, \"*\")"
      ],
      "text/plain": [
       "<IPython.core.display.Javascript object>"
      ]
     },
     "metadata": {},
     "output_type": "display_data"
    },
    {
     "data": {
      "text/markdown": [
       "<span style=\"color:#33cc33\">Correct:</span> \n",
       "\n",
       "This condition would be pretty complicated to express using just `and`, `or` and `not`, but using boolean-to-integer conversion gives us this short solution:\n",
       "```python\n",
       "return (int(ketchup) + int(mustard) + int(onion)) == 1\n",
       "```\n",
       "\n",
       "Fun fact: we don't technically need to call `int` on the arguments. Just by doing addition with booleans, Python implicitly does the integer conversion. So we could also write...\n",
       "\n",
       "```python\n",
       "return (ketchup + mustard + onion) == 1\n",
       "```"
      ],
      "text/plain": [
       "Correct: \n",
       "\n",
       "This condition would be pretty complicated to express using just `and`, `or` and `not`, but using boolean-to-integer conversion gives us this short solution:\n",
       "```python\n",
       "return (int(ketchup) + int(mustard) + int(onion)) == 1\n",
       "```\n",
       "\n",
       "Fun fact: we don't technically need to call `int` on the arguments. Just by doing addition with booleans, Python implicitly does the integer conversion. So we could also write...\n",
       "\n",
       "```python\n",
       "return (ketchup + mustard + onion) == 1\n",
       "```"
      ]
     },
     "metadata": {},
     "output_type": "display_data"
    }
   ],
   "source": [
    "def exactly_one_topping(ketchup, mustard, onion):\n",
    "    \"\"\"Return whether the customer wants exactly one of the three available toppings\n",
    "    on their hot dog.\n",
    "    \"\"\"\n",
    "    return (ketchup and (not mustard and not onion)) or ((not ketchup and not mustard) and onion) or ((not ketchup and not onion) and mustard)\n",
    "\n",
    "# Check your answer\n",
    "q6.check()"
   ]
  },
  {
   "cell_type": "code",
   "execution_count": 20,
   "id": "c31caa0a",
   "metadata": {
    "execution": {
     "iopub.execute_input": "2023-12-08T02:37:32.222982Z",
     "iopub.status.busy": "2023-12-08T02:37:32.222620Z",
     "iopub.status.idle": "2023-12-08T02:37:32.227287Z",
     "shell.execute_reply": "2023-12-08T02:37:32.225754Z"
    },
    "papermill": {
     "duration": 0.019762,
     "end_time": "2023-12-08T02:37:32.230040",
     "exception": false,
     "start_time": "2023-12-08T02:37:32.210278",
     "status": "completed"
    },
    "tags": []
   },
   "outputs": [],
   "source": [
    "#q6.hint()\n",
    "#q6.solution()"
   ]
  },
  {
   "cell_type": "markdown",
   "id": "6c3a598d",
   "metadata": {
    "papermill": {
     "duration": 0.010691,
     "end_time": "2023-12-08T02:37:32.252794",
     "exception": false,
     "start_time": "2023-12-08T02:37:32.242103",
     "status": "completed"
    },
    "tags": []
   },
   "source": [
    "# 7. <span title=\"A bit spicy\" style=\"color: darkgreen \">🌶️</span> (Optional)\n",
    "\n",
    "In this problem we'll be working with a simplified version of [blackjack](https://en.wikipedia.org/wiki/Blackjack) (aka twenty-one). In this version there is one player (who you'll control) and a dealer. Play proceeds as follows:\n",
    "\n",
    "- The player is dealt two face-up cards. The dealer is dealt one face-up card.\n",
    "- The player may ask to be dealt another card ('hit') as many times as they wish. If the sum of their cards exceeds 21, they lose the round immediately.\n",
    "- The dealer then deals additional cards to himself until either:\n",
    "    - the sum of the dealer's cards exceeds 21, in which case the player wins the round\n",
    "    - the sum of the dealer's cards is greater than or equal to 17. If the player's total is greater than the dealer's, the player wins. Otherwise, the dealer wins (even in case of a tie).\n",
    "    \n",
    "When calculating the sum of cards, Jack, Queen, and King count for 10. Aces can count as 1 or 11 (when referring to a player's \"total\" above, we mean the largest total that can be made without exceeding 21. So e.g. A+8 = 19, A+8+8 = 17)\n",
    "\n",
    "For this problem, you'll write a function representing the player's decision-making strategy in this game. We've provided a very unintelligent implementation below:"
   ]
  },
  {
   "cell_type": "code",
   "execution_count": 21,
   "id": "00266b3d",
   "metadata": {
    "execution": {
     "iopub.execute_input": "2023-12-08T02:37:32.275975Z",
     "iopub.status.busy": "2023-12-08T02:37:32.275548Z",
     "iopub.status.idle": "2023-12-08T02:37:32.281285Z",
     "shell.execute_reply": "2023-12-08T02:37:32.279798Z"
    },
    "papermill": {
     "duration": 0.020383,
     "end_time": "2023-12-08T02:37:32.283897",
     "exception": false,
     "start_time": "2023-12-08T02:37:32.263514",
     "status": "completed"
    },
    "tags": []
   },
   "outputs": [],
   "source": [
    "def should_hit(dealer_total, player_total, player_low_aces, player_high_aces):\n",
    "    \"\"\"Return True if the player should hit (request another card) given the current game\n",
    "    state, or False if the player should stay.\n",
    "    When calculating a hand's total value, we count aces as \"high\" (with value 11) if doing so\n",
    "    doesn't bring the total above 21, otherwise we count them as low (with value 1). \n",
    "    For example, if the player's hand is {A, A, A, 7}, we will count it as 11 + 1 + 1 + 7,\n",
    "    and therefore set player_total=20, player_low_aces=2, player_high_aces=1.\n",
    "    \"\"\"\n",
    "    return False"
   ]
  },
  {
   "cell_type": "markdown",
   "id": "7b3a0250",
   "metadata": {
    "papermill": {
     "duration": 0.01099,
     "end_time": "2023-12-08T02:37:32.306388",
     "exception": false,
     "start_time": "2023-12-08T02:37:32.295398",
     "status": "completed"
    },
    "tags": []
   },
   "source": [
    "This very conservative agent *always* sticks with the hand of two cards that they're dealt.\n",
    "\n",
    "We'll be simulating games between your player agent and our own dealer agent by calling your function.\n",
    "\n",
    "Try running the function below to see an example of a simulated game:"
   ]
  },
  {
   "cell_type": "code",
   "execution_count": 22,
   "id": "db7c6fa8",
   "metadata": {
    "execution": {
     "iopub.execute_input": "2023-12-08T02:37:32.329380Z",
     "iopub.status.busy": "2023-12-08T02:37:32.329008Z",
     "iopub.status.idle": "2023-12-08T02:37:32.333755Z",
     "shell.execute_reply": "2023-12-08T02:37:32.333008Z"
    },
    "papermill": {
     "duration": 0.018862,
     "end_time": "2023-12-08T02:37:32.336202",
     "exception": false,
     "start_time": "2023-12-08T02:37:32.317340",
     "status": "completed"
    },
    "tags": []
   },
   "outputs": [
    {
     "name": "stdout",
     "output_type": "stream",
     "text": [
      "Player starts with 3 and Q (total = 13)\n",
      "Dealer starts with 8\n",
      "\n",
      "__Player's turn__\n",
      "Player stays\n",
      "\n",
      "__Dealer's turn__\n",
      "Dealer hits and receives 9. (total = 17)\n",
      "Dealer stands.\n",
      "Dealer wins. 17 >= 13\n"
     ]
    }
   ],
   "source": [
    "q7.simulate_one_game()"
   ]
  },
  {
   "cell_type": "markdown",
   "id": "7e7c9b38",
   "metadata": {
    "papermill": {
     "duration": 0.010641,
     "end_time": "2023-12-08T02:37:32.358192",
     "exception": false,
     "start_time": "2023-12-08T02:37:32.347551",
     "status": "completed"
    },
    "tags": []
   },
   "source": [
    "The real test of your agent's mettle is their average win rate over many games. Try calling the function below to simulate 50000 games of blackjack (it may take a couple seconds):"
   ]
  },
  {
   "cell_type": "code",
   "execution_count": 23,
   "id": "d421ac3f",
   "metadata": {
    "execution": {
     "iopub.execute_input": "2023-12-08T02:37:32.382450Z",
     "iopub.status.busy": "2023-12-08T02:37:32.382078Z",
     "iopub.status.idle": "2023-12-08T02:37:33.674062Z",
     "shell.execute_reply": "2023-12-08T02:37:33.672976Z"
    },
    "papermill": {
     "duration": 1.306145,
     "end_time": "2023-12-08T02:37:33.676226",
     "exception": false,
     "start_time": "2023-12-08T02:37:32.370081",
     "status": "completed"
    },
    "tags": []
   },
   "outputs": [
    {
     "name": "stdout",
     "output_type": "stream",
     "text": [
      "Player won 18962 out of 50000 games (win rate = 37.9%)\n"
     ]
    }
   ],
   "source": [
    "q7.simulate(n_games=50000)"
   ]
  },
  {
   "cell_type": "markdown",
   "id": "821862ed",
   "metadata": {
    "papermill": {
     "duration": 0.010472,
     "end_time": "2023-12-08T02:37:33.698462",
     "exception": false,
     "start_time": "2023-12-08T02:37:33.687990",
     "status": "completed"
    },
    "tags": []
   },
   "source": [
    "Our dumb agent that completely ignores the game state still manages to win shockingly often!\n",
    "\n",
    "Try adding some more smarts to the `should_hit` function and see how it affects the results."
   ]
  },
  {
   "cell_type": "code",
   "execution_count": 24,
   "id": "e7f1c839",
   "metadata": {
    "execution": {
     "iopub.execute_input": "2023-12-08T02:37:33.723753Z",
     "iopub.status.busy": "2023-12-08T02:37:33.722806Z",
     "iopub.status.idle": "2023-12-08T02:37:35.005922Z",
     "shell.execute_reply": "2023-12-08T02:37:35.005138Z"
    },
    "papermill": {
     "duration": 1.297312,
     "end_time": "2023-12-08T02:37:35.007689",
     "exception": false,
     "start_time": "2023-12-08T02:37:33.710377",
     "status": "completed"
    },
    "tags": []
   },
   "outputs": [
    {
     "name": "stdout",
     "output_type": "stream",
     "text": [
      "Player won 18925 out of 50000 games (win rate = 37.9%)\n"
     ]
    }
   ],
   "source": [
    "def should_hit(dealer_total, player_total, player_low_aces, player_high_aces):\n",
    "    \"\"\"Return True if the player should hit (request another card) given the current game\n",
    "    state, or False if the player should stay.\n",
    "    When calculating a hand's total value, we count aces as \"high\" (with value 11) if doing so\n",
    "    doesn't bring the total above 21, otherwise we count them as low (with value 1). \n",
    "    For example, if the player's hand is {A, A, A, 7}, we will count it as 11 + 1 + 1 + 7,\n",
    "    and therefore set player_total=20, player_low_aces=2, player_high_aces=1.\n",
    "    \"\"\"\n",
    "    if player_total > 17 and player_total < 21:\n",
    "        return False\n",
    "\n",
    "q7.simulate(n_games=50000)"
   ]
  },
  {
   "cell_type": "markdown",
   "id": "0bcdffe8",
   "metadata": {
    "papermill": {
     "duration": 0.009829,
     "end_time": "2023-12-08T02:37:35.028100",
     "exception": false,
     "start_time": "2023-12-08T02:37:35.018271",
     "status": "completed"
    },
    "tags": []
   },
   "source": [
    "# Keep Going\n",
    "\n",
    "Learn about **[lists and tuples](https://www.kaggle.com/colinmorris/lists)** to handle multiple items of data in a systematic way."
   ]
  },
  {
   "cell_type": "markdown",
   "id": "ac16f97d",
   "metadata": {
    "papermill": {
     "duration": 0.01015,
     "end_time": "2023-12-08T02:37:35.048402",
     "exception": false,
     "start_time": "2023-12-08T02:37:35.038252",
     "status": "completed"
    },
    "tags": []
   },
   "source": [
    "---\n",
    "\n",
    "\n",
    "\n",
    "\n",
    "*Have questions or comments? Visit the [course discussion forum](https://www.kaggle.com/learn/python/discussion) to chat with other learners.*"
   ]
  }
 ],
 "metadata": {
  "kaggle": {
   "accelerator": "none",
   "dataSources": [],
   "isGpuEnabled": false,
   "isInternetEnabled": false,
   "language": "python",
   "sourceType": "notebook"
  },
  "kernelspec": {
   "display_name": "Python 3",
   "language": "python",
   "name": "python3"
  },
  "language_info": {
   "codemirror_mode": {
    "name": "ipython",
    "version": 3
   },
   "file_extension": ".py",
   "mimetype": "text/x-python",
   "name": "python",
   "nbconvert_exporter": "python",
   "pygments_lexer": "ipython3",
   "version": "3.10.12"
  },
  "learntools_metadata": {
   "lesson_index": 2,
   "type": "exercise"
  },
  "papermill": {
   "default_parameters": {},
   "duration": 7.355435,
   "end_time": "2023-12-08T02:37:35.579592",
   "environment_variables": {},
   "exception": null,
   "input_path": "__notebook__.ipynb",
   "output_path": "__notebook__.ipynb",
   "parameters": {},
   "start_time": "2023-12-08T02:37:28.224157",
   "version": "2.4.0"
  }
 },
 "nbformat": 4,
 "nbformat_minor": 5
}
