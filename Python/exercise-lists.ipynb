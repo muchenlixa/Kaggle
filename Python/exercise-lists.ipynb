{
 "cells": [
  {
   "cell_type": "markdown",
   "id": "065a5895",
   "metadata": {
    "papermill": {
     "duration": 0.006637,
     "end_time": "2023-12-08T02:54:08.525678",
     "exception": false,
     "start_time": "2023-12-08T02:54:08.519041",
     "status": "completed"
    },
    "tags": []
   },
   "source": [
    "**This notebook is an exercise in the [Python](https://www.kaggle.com/learn/python) course.  You can reference the tutorial at [this link](https://www.kaggle.com/colinmorris/lists).**\n",
    "\n",
    "---\n"
   ]
  },
  {
   "cell_type": "markdown",
   "id": "33adfaa3",
   "metadata": {
    "papermill": {
     "duration": 0.005762,
     "end_time": "2023-12-08T02:54:08.537770",
     "exception": false,
     "start_time": "2023-12-08T02:54:08.532008",
     "status": "completed"
    },
    "tags": []
   },
   "source": [
    "Things get more interesting with lists. You'll apply your new knowledge to solve the questions below. Remember to run the following cell first."
   ]
  },
  {
   "cell_type": "code",
   "execution_count": 1,
   "id": "9f70e1f3",
   "metadata": {
    "execution": {
     "iopub.execute_input": "2023-12-08T02:54:08.552189Z",
     "iopub.status.busy": "2023-12-08T02:54:08.551752Z",
     "iopub.status.idle": "2023-12-08T02:54:09.026038Z",
     "shell.execute_reply": "2023-12-08T02:54:09.024966Z"
    },
    "papermill": {
     "duration": 0.484424,
     "end_time": "2023-12-08T02:54:09.028572",
     "exception": false,
     "start_time": "2023-12-08T02:54:08.544148",
     "status": "completed"
    },
    "tags": []
   },
   "outputs": [
    {
     "name": "stdout",
     "output_type": "stream",
     "text": [
      "Setup complete.\n"
     ]
    }
   ],
   "source": [
    "from learntools.core import binder; binder.bind(globals())\n",
    "from learntools.python.ex4 import *\n",
    "print('Setup complete.')"
   ]
  },
  {
   "cell_type": "markdown",
   "id": "a75018e1",
   "metadata": {
    "papermill": {
     "duration": 0.005879,
     "end_time": "2023-12-08T02:54:09.040962",
     "exception": false,
     "start_time": "2023-12-08T02:54:09.035083",
     "status": "completed"
    },
    "tags": []
   },
   "source": [
    "# 1.\n",
    "\n",
    "Complete the function below according to its docstring."
   ]
  },
  {
   "cell_type": "code",
   "execution_count": 2,
   "id": "274f3513",
   "metadata": {
    "execution": {
     "iopub.execute_input": "2023-12-08T02:54:09.055096Z",
     "iopub.status.busy": "2023-12-08T02:54:09.054523Z",
     "iopub.status.idle": "2023-12-08T02:54:09.065228Z",
     "shell.execute_reply": "2023-12-08T02:54:09.064237Z"
    },
    "papermill": {
     "duration": 0.020657,
     "end_time": "2023-12-08T02:54:09.067707",
     "exception": false,
     "start_time": "2023-12-08T02:54:09.047050",
     "status": "completed"
    },
    "tags": []
   },
   "outputs": [
    {
     "data": {
      "application/javascript": [
       "parent.postMessage({\"jupyterEvent\": \"custom.exercise_interaction\", \"data\": {\"outcomeType\": 1, \"valueTowardsCompletion\": 0.2, \"interactionType\": 1, \"questionType\": 2, \"questionId\": \"1_SelectSecondItem\", \"learnToolsVersion\": \"0.3.4\", \"failureMessage\": \"\", \"exceptionClass\": \"\", \"trace\": \"\"}}, \"*\")"
      ],
      "text/plain": [
       "<IPython.core.display.Javascript object>"
      ]
     },
     "metadata": {},
     "output_type": "display_data"
    },
    {
     "data": {
      "text/markdown": [
       "<span style=\"color:#33cc33\">Correct</span>"
      ],
      "text/plain": [
       "Correct"
      ]
     },
     "metadata": {},
     "output_type": "display_data"
    }
   ],
   "source": [
    "def select_second(L):\n",
    "    \"\"\"Return the second element of the given list. If the list has no second\n",
    "    element, return None.\n",
    "    \"\"\"\n",
    "    return L[1] if len(L)>=2 else None\n",
    "\n",
    "# Check your answer\n",
    "q1.check()"
   ]
  },
  {
   "cell_type": "code",
   "execution_count": 3,
   "id": "e1871b0a",
   "metadata": {
    "execution": {
     "iopub.execute_input": "2023-12-08T02:54:09.083247Z",
     "iopub.status.busy": "2023-12-08T02:54:09.082572Z",
     "iopub.status.idle": "2023-12-08T02:54:09.086853Z",
     "shell.execute_reply": "2023-12-08T02:54:09.086016Z"
    },
    "papermill": {
     "duration": 0.014559,
     "end_time": "2023-12-08T02:54:09.088998",
     "exception": false,
     "start_time": "2023-12-08T02:54:09.074439",
     "status": "completed"
    },
    "tags": []
   },
   "outputs": [],
   "source": [
    "#q1.hint()\n",
    "#q1.solution()"
   ]
  },
  {
   "cell_type": "markdown",
   "id": "f21d9e44",
   "metadata": {
    "papermill": {
     "duration": 0.006533,
     "end_time": "2023-12-08T02:54:09.102073",
     "exception": false,
     "start_time": "2023-12-08T02:54:09.095540",
     "status": "completed"
    },
    "tags": []
   },
   "source": [
    "# 2.\n",
    "\n",
    "You are analyzing sports teams.  Members of each team are stored in a list. The Coach is the first name in the list, the captain is the second name in the list, and other players are listed after that. \n",
    "These lists are stored in another list, which starts with the best team and proceeds through the list to the worst team last.  Complete the function below to select the **captain** of the worst team."
   ]
  },
  {
   "cell_type": "code",
   "execution_count": 4,
   "id": "d49efb6c",
   "metadata": {
    "execution": {
     "iopub.execute_input": "2023-12-08T02:54:09.117383Z",
     "iopub.status.busy": "2023-12-08T02:54:09.116714Z",
     "iopub.status.idle": "2023-12-08T02:54:09.126245Z",
     "shell.execute_reply": "2023-12-08T02:54:09.125203Z"
    },
    "papermill": {
     "duration": 0.019736,
     "end_time": "2023-12-08T02:54:09.128496",
     "exception": false,
     "start_time": "2023-12-08T02:54:09.108760",
     "status": "completed"
    },
    "tags": []
   },
   "outputs": [
    {
     "data": {
      "application/javascript": [
       "parent.postMessage({\"jupyterEvent\": \"custom.exercise_interaction\", \"data\": {\"outcomeType\": 1, \"valueTowardsCompletion\": 0.2, \"interactionType\": 1, \"questionType\": 2, \"questionId\": \"2_LosingTeamCaptain\", \"learnToolsVersion\": \"0.3.4\", \"failureMessage\": \"\", \"exceptionClass\": \"\", \"trace\": \"\"}}, \"*\")"
      ],
      "text/plain": [
       "<IPython.core.display.Javascript object>"
      ]
     },
     "metadata": {},
     "output_type": "display_data"
    },
    {
     "data": {
      "text/markdown": [
       "<span style=\"color:#33cc33\">Correct</span>"
      ],
      "text/plain": [
       "Correct"
      ]
     },
     "metadata": {},
     "output_type": "display_data"
    }
   ],
   "source": [
    "def losing_team_captain(teams):\n",
    "    \"\"\"Given a list of teams, where each team is a list of names, return the 2nd player (captain)\n",
    "    from the last listed team\n",
    "    \"\"\"\n",
    "    return teams[-1][1]\n",
    "\n",
    "# Check your answer\n",
    "q2.check()"
   ]
  },
  {
   "cell_type": "code",
   "execution_count": 5,
   "id": "2aca1e85",
   "metadata": {
    "execution": {
     "iopub.execute_input": "2023-12-08T02:54:09.144170Z",
     "iopub.status.busy": "2023-12-08T02:54:09.143795Z",
     "iopub.status.idle": "2023-12-08T02:54:09.147812Z",
     "shell.execute_reply": "2023-12-08T02:54:09.146774Z"
    },
    "papermill": {
     "duration": 0.014915,
     "end_time": "2023-12-08T02:54:09.150306",
     "exception": false,
     "start_time": "2023-12-08T02:54:09.135391",
     "status": "completed"
    },
    "tags": []
   },
   "outputs": [],
   "source": [
    "#q2.hint()\n",
    "#q2.solution()"
   ]
  },
  {
   "cell_type": "markdown",
   "id": "ebfe11dd",
   "metadata": {
    "papermill": {
     "duration": 0.00691,
     "end_time": "2023-12-08T02:54:09.164250",
     "exception": false,
     "start_time": "2023-12-08T02:54:09.157340",
     "status": "completed"
    },
    "tags": []
   },
   "source": [
    "# 3.\n",
    "\n",
    "The next iteration of Mario Kart will feature an extra-infuriating new item, the *Purple Shell*. When used, it warps the last place racer into first place and the first place racer into last place. Complete the function below to implement the Purple Shell's effect."
   ]
  },
  {
   "cell_type": "code",
   "execution_count": 6,
   "id": "e5e366b3",
   "metadata": {
    "execution": {
     "iopub.execute_input": "2023-12-08T02:54:09.180303Z",
     "iopub.status.busy": "2023-12-08T02:54:09.179873Z",
     "iopub.status.idle": "2023-12-08T02:54:09.190519Z",
     "shell.execute_reply": "2023-12-08T02:54:09.189440Z"
    },
    "papermill": {
     "duration": 0.021634,
     "end_time": "2023-12-08T02:54:09.192968",
     "exception": false,
     "start_time": "2023-12-08T02:54:09.171334",
     "status": "completed"
    },
    "tags": []
   },
   "outputs": [
    {
     "data": {
      "application/javascript": [
       "parent.postMessage({\"jupyterEvent\": \"custom.exercise_interaction\", \"data\": {\"outcomeType\": 1, \"valueTowardsCompletion\": 0.2, \"interactionType\": 1, \"questionType\": 2, \"questionId\": \"3_PurpleShell\", \"learnToolsVersion\": \"0.3.4\", \"failureMessage\": \"\", \"exceptionClass\": \"\", \"trace\": \"\"}}, \"*\")"
      ],
      "text/plain": [
       "<IPython.core.display.Javascript object>"
      ]
     },
     "metadata": {},
     "output_type": "display_data"
    },
    {
     "data": {
      "text/markdown": [
       "<span style=\"color:#33cc33\">Correct</span>"
      ],
      "text/plain": [
       "Correct"
      ]
     },
     "metadata": {},
     "output_type": "display_data"
    }
   ],
   "source": [
    "def purple_shell(racers):\n",
    "    \"\"\"Given a list of racers, set the first place racer (at the front of the list) to last\n",
    "    place and vice versa.\n",
    "    \n",
    "    >>> r = [\"Mario\", \"Bowser\", \"Luigi\"]\n",
    "    >>> purple_shell(r)\n",
    "    >>> r\n",
    "    [\"Luigi\", \"Bowser\", \"Mario\"]\n",
    "    \"\"\"\n",
    "    first_racer = racers[0]\n",
    "    swap_racer = first_racer\n",
    "    last_racer = racers[-1]\n",
    "    \n",
    "    racers[0] = last_racer\n",
    "    racers[-1] = swap_racer\n",
    "    \n",
    "    \n",
    "    \n",
    "\n",
    "# Check your answer\n",
    "q3.check()"
   ]
  },
  {
   "cell_type": "code",
   "execution_count": 7,
   "id": "fe8c93b2",
   "metadata": {
    "execution": {
     "iopub.execute_input": "2023-12-08T02:54:09.211326Z",
     "iopub.status.busy": "2023-12-08T02:54:09.210942Z",
     "iopub.status.idle": "2023-12-08T02:54:09.215864Z",
     "shell.execute_reply": "2023-12-08T02:54:09.214822Z"
    },
    "papermill": {
     "duration": 0.016184,
     "end_time": "2023-12-08T02:54:09.218210",
     "exception": false,
     "start_time": "2023-12-08T02:54:09.202026",
     "status": "completed"
    },
    "tags": []
   },
   "outputs": [],
   "source": [
    "#q3.hint()\n",
    "#q3.solution()"
   ]
  },
  {
   "cell_type": "markdown",
   "id": "ef703a4f",
   "metadata": {
    "papermill": {
     "duration": 0.007176,
     "end_time": "2023-12-08T02:54:09.233030",
     "exception": false,
     "start_time": "2023-12-08T02:54:09.225854",
     "status": "completed"
    },
    "tags": []
   },
   "source": [
    "# 4.\n",
    "\n",
    "What are the lengths of the following lists? Fill in the variable `lengths` with your predictions. (Try to make a prediction for each list *without* just calling `len()` on it.)"
   ]
  },
  {
   "cell_type": "code",
   "execution_count": 8,
   "id": "c1d0ae49",
   "metadata": {
    "execution": {
     "iopub.execute_input": "2023-12-08T02:54:09.249828Z",
     "iopub.status.busy": "2023-12-08T02:54:09.249416Z",
     "iopub.status.idle": "2023-12-08T02:54:09.259853Z",
     "shell.execute_reply": "2023-12-08T02:54:09.258809Z"
    },
    "papermill": {
     "duration": 0.021643,
     "end_time": "2023-12-08T02:54:09.262194",
     "exception": false,
     "start_time": "2023-12-08T02:54:09.240551",
     "status": "completed"
    },
    "tags": []
   },
   "outputs": [
    {
     "data": {
      "application/javascript": [
       "parent.postMessage({\"jupyterEvent\": \"custom.exercise_interaction\", \"data\": {\"outcomeType\": 1, \"valueTowardsCompletion\": 0.2, \"interactionType\": 1, \"questionType\": 1, \"questionId\": \"4_UnderstandLen\", \"learnToolsVersion\": \"0.3.4\", \"failureMessage\": \"\", \"exceptionClass\": \"\", \"trace\": \"\"}}, \"*\")"
      ],
      "text/plain": [
       "<IPython.core.display.Javascript object>"
      ]
     },
     "metadata": {},
     "output_type": "display_data"
    },
    {
     "data": {
      "text/markdown": [
       "<span style=\"color:#33cc33\">Correct:</span> \n",
       "\n",
       "\n",
       "- a: There are three items in this list. Nothing tricky yet.\n",
       "- b: The list `[2, 3]` counts as a single item. It has one item before it. So we have 2 items in the list\n",
       "- c: The empty list has 0 items\n",
       "- d: The expression is the same as the list `[2, 3]`, which has length 2."
      ],
      "text/plain": [
       "Correct: \n",
       "\n",
       "\n",
       "- a: There are three items in this list. Nothing tricky yet.\n",
       "- b: The list `[2, 3]` counts as a single item. It has one item before it. So we have 2 items in the list\n",
       "- c: The empty list has 0 items\n",
       "- d: The expression is the same as the list `[2, 3]`, which has length 2."
      ]
     },
     "metadata": {},
     "output_type": "display_data"
    }
   ],
   "source": [
    "a = [1, 2, 3]\n",
    "b = [1, [2, 3]]\n",
    "c = []\n",
    "d = [1, 2, 3][1:]\n",
    "\n",
    "# Put your predictions in the list below. Lengths should contain 4 numbers, the\n",
    "# first being the length of a, the second being the length of b and so on.\n",
    "lengths = [3,2,0,2]\n",
    "\n",
    "# Check your answer\n",
    "q4.check()"
   ]
  },
  {
   "cell_type": "code",
   "execution_count": 9,
   "id": "d3e8cfce",
   "metadata": {
    "execution": {
     "iopub.execute_input": "2023-12-08T02:54:09.279850Z",
     "iopub.status.busy": "2023-12-08T02:54:09.279172Z",
     "iopub.status.idle": "2023-12-08T02:54:09.283795Z",
     "shell.execute_reply": "2023-12-08T02:54:09.282623Z"
    },
    "papermill": {
     "duration": 0.016076,
     "end_time": "2023-12-08T02:54:09.286167",
     "exception": false,
     "start_time": "2023-12-08T02:54:09.270091",
     "status": "completed"
    },
    "tags": []
   },
   "outputs": [],
   "source": [
    "# line below provides some explanation\n",
    "#q4.solution()"
   ]
  },
  {
   "cell_type": "markdown",
   "id": "fe8782eb",
   "metadata": {
    "papermill": {
     "duration": 0.008486,
     "end_time": "2023-12-08T02:54:09.302552",
     "exception": false,
     "start_time": "2023-12-08T02:54:09.294066",
     "status": "completed"
    },
    "tags": []
   },
   "source": [
    "# 5. <span title=\"A bit spicy\" style=\"color: darkgreen \">🌶️</span>\n",
    "\n",
    "We're using lists to record people who attended our party and what order they arrived in. For example, the following list represents a party with 7 guests, in which Adela showed up first and Ford was the last to arrive:\n",
    "\n",
    "    party_attendees = ['Adela', 'Fleda', 'Owen', 'May', 'Mona', 'Gilbert', 'Ford']\n",
    "\n",
    "A guest is considered 'fashionably late' if they arrived after at least half of the party's guests. However, they must not be the very last guest (that's taking it too far). In the above example, Mona and Gilbert are the only guests who were fashionably late.\n",
    "\n",
    "Complete the function below which takes a list of party attendees as well as a person, and tells us whether that person is fashionably late."
   ]
  },
  {
   "cell_type": "code",
   "execution_count": 10,
   "id": "52af6309",
   "metadata": {
    "execution": {
     "iopub.execute_input": "2023-12-08T02:54:09.321283Z",
     "iopub.status.busy": "2023-12-08T02:54:09.320899Z",
     "iopub.status.idle": "2023-12-08T02:54:09.331842Z",
     "shell.execute_reply": "2023-12-08T02:54:09.330864Z"
    },
    "papermill": {
     "duration": 0.022744,
     "end_time": "2023-12-08T02:54:09.334244",
     "exception": false,
     "start_time": "2023-12-08T02:54:09.311500",
     "status": "completed"
    },
    "tags": []
   },
   "outputs": [
    {
     "data": {
      "application/javascript": [
       "parent.postMessage({\"jupyterEvent\": \"custom.exercise_interaction\", \"data\": {\"outcomeType\": 1, \"valueTowardsCompletion\": 0.2, \"interactionType\": 1, \"questionType\": 2, \"questionId\": \"5_FashionablyLate\", \"learnToolsVersion\": \"0.3.4\", \"failureMessage\": \"\", \"exceptionClass\": \"\", \"trace\": \"\"}}, \"*\")"
      ],
      "text/plain": [
       "<IPython.core.display.Javascript object>"
      ]
     },
     "metadata": {},
     "output_type": "display_data"
    },
    {
     "data": {
      "text/markdown": [
       "<span style=\"color:#33cc33\">Correct</span>"
      ],
      "text/plain": [
       "Correct"
      ]
     },
     "metadata": {},
     "output_type": "display_data"
    }
   ],
   "source": [
    "def fashionably_late(arrivals, name):\n",
    "    \"\"\"Given an ordered list of arrivals to the party and a name, return whether the guest with that\n",
    "    name was fashionably late.\n",
    "    \"\"\"\n",
    "    if len(arrivals)%2 == 0:\n",
    "        mid = len(arrivals)/2\n",
    "    else:\n",
    "        mid = (len(arrivals)+1)/2\n",
    "        \n",
    "    if arrivals.index(name) >= mid and (arrivals.index(name) != len(arrivals)-1):\n",
    "        return True\n",
    "    else:\n",
    "        return False\n",
    "\n",
    "# Check your answer\n",
    "q5.check()"
   ]
  },
  {
   "cell_type": "code",
   "execution_count": 11,
   "id": "f420c505",
   "metadata": {
    "execution": {
     "iopub.execute_input": "2023-12-08T02:54:09.352806Z",
     "iopub.status.busy": "2023-12-08T02:54:09.352279Z",
     "iopub.status.idle": "2023-12-08T02:54:09.357439Z",
     "shell.execute_reply": "2023-12-08T02:54:09.356300Z"
    },
    "papermill": {
     "duration": 0.018111,
     "end_time": "2023-12-08T02:54:09.360661",
     "exception": false,
     "start_time": "2023-12-08T02:54:09.342550",
     "status": "completed"
    },
    "tags": []
   },
   "outputs": [],
   "source": [
    "#q5.hint()\n",
    "#q5.solution()"
   ]
  },
  {
   "cell_type": "markdown",
   "id": "e5e44519",
   "metadata": {
    "papermill": {
     "duration": 0.008946,
     "end_time": "2023-12-08T02:54:09.378690",
     "exception": false,
     "start_time": "2023-12-08T02:54:09.369744",
     "status": "completed"
    },
    "tags": []
   },
   "source": [
    "# Keep Going\n",
    "\n",
    "That's it for lists and tuples! Now you have the baseline knowledge to **[learn about loops](https://www.kaggle.com/colinmorris/loops-and-list-comprehensions)**, which is where lists and tuples get really interesting. "
   ]
  },
  {
   "cell_type": "markdown",
   "id": "b4a712b9",
   "metadata": {
    "papermill": {
     "duration": 0.008902,
     "end_time": "2023-12-08T02:54:09.397762",
     "exception": false,
     "start_time": "2023-12-08T02:54:09.388860",
     "status": "completed"
    },
    "tags": []
   },
   "source": [
    "---\n",
    "\n",
    "\n",
    "\n",
    "\n",
    "*Have questions or comments? Visit the [course discussion forum](https://www.kaggle.com/learn/python/discussion) to chat with other learners.*"
   ]
  }
 ],
 "metadata": {
  "kaggle": {
   "accelerator": "none",
   "dataSources": [],
   "isGpuEnabled": false,
   "isInternetEnabled": false,
   "language": "python",
   "sourceType": "notebook"
  },
  "kernelspec": {
   "display_name": "Python 3",
   "language": "python",
   "name": "python3"
  },
  "language_info": {
   "codemirror_mode": {
    "name": "ipython",
    "version": 3
   },
   "file_extension": ".py",
   "mimetype": "text/x-python",
   "name": "python",
   "nbconvert_exporter": "python",
   "pygments_lexer": "ipython3",
   "version": "3.10.12"
  },
  "learntools_metadata": {
   "lesson_index": 3,
   "type": "exercise"
  },
  "papermill": {
   "default_parameters": {},
   "duration": 4.957376,
   "end_time": "2023-12-08T02:54:09.928436",
   "environment_variables": {},
   "exception": null,
   "input_path": "__notebook__.ipynb",
   "output_path": "__notebook__.ipynb",
   "parameters": {},
   "start_time": "2023-12-08T02:54:04.971060",
   "version": "2.4.0"
  }
 },
 "nbformat": 4,
 "nbformat_minor": 5
}
